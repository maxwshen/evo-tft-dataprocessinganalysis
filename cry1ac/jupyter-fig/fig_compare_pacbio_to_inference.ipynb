{
 "cells": [
  {
   "cell_type": "code",
   "execution_count": 1,
   "metadata": {
    "ExecuteTime": {
     "end_time": "2020-04-01T18:43:58.428020Z",
     "start_time": "2020-04-01T18:43:54.288425Z"
    }
   },
   "outputs": [
    {
     "name": "stdout",
     "output_type": "stream",
     "text": [
      "Using data folder:\n",
      " /ahg/regevdata/projects/CRISPR-libraries/prj2/evolution/badran/data/\n"
     ]
    }
   ],
   "source": [
    "import numpy as np, matplotlib.pyplot as plt, pandas as pd, seaborn as sns\n",
    "\n",
    "import sys\n",
    "sys.path.append('/ahg/regevdata/projects/CRISPR-libraries/prj2/evolution/badran/src/')\n",
    "import _config\n",
    "\n",
    "sys.path.append('/home/unix/maxwshen/')\n",
    "from mylib import util\n",
    "\n",
    "notebook_nm = 'fig_compare_pacbio_to_inference'\n",
    "results_dir = _config.RESULTS_PLACE + f'{notebook_nm}/'\n",
    "util.ensure_dir_exists(results_dir)"
   ]
  },
  {
   "cell_type": "code",
   "execution_count": 51,
   "metadata": {
    "ExecuteTime": {
     "end_time": "2020-04-01T18:57:00.572772Z",
     "start_time": "2020-04-01T18:57:00.538911Z"
    }
   },
   "outputs": [],
   "source": [
    "## Load data\n",
    "\n",
    "true_df = pd.read_csv('/ahg/regevdata/projects/CRISPR-libraries/prj2/evolution/badran/out/pb_e_form_dataset/badran_pacbio_pivot_1pct.csv')\n",
    "true_df = true_df.rename(columns = {col: int(col.replace('hrs', '')) for col in true_df.columns if 'hrs' in col})\n",
    "\n",
    "hrs_cols = [col for col in true_df.columns if col != 'Abbrev genotype']\n",
    "idx_to_hr = {str(idx): col for idx, col in enumerate(hrs_cols)}\n",
    "true_times = [s for s in true_df.columns if s != 'Abbrev genotype']\n",
    "idx_to_time = {str(idx): t for idx, t in enumerate(true_times)}\n",
    "\n",
    "true_melt_df = true_df.melt(\n",
    "    id_vars = 'Abbrev genotype',\n",
    "    var_name = 'Time',\n",
    "    value_name = 'Frequency (%)',\n",
    ")\n",
    "true_melt_df = true_melt_df.rename(columns = {'Frequency (%)': 'PacBio frequency'})\n",
    "pb_fq_col = 'PacBio frequency'\n",
    "true_melt_df[pb_fq_col] *= 100\n",
    "\n",
    "gts = sorted(list(set(true_df['Abbrev genotype'])))\n",
    "# colors = sns.color_palette('hls', int(len(gts) * 1.5))\n",
    "colors = sns.hls_palette(n_colors = int(len(gts) * 1.5), s = 0.95, l = 0.65)\n",
    "master_palette = {gt: color for gt, color in zip(gts, colors)}"
   ]
  },
  {
   "cell_type": "markdown",
   "metadata": {},
   "source": [
    "## Load inference"
   ]
  },
  {
   "cell_type": "code",
   "execution_count": 123,
   "metadata": {
    "ExecuteTime": {
     "end_time": "2020-04-01T19:25:18.289872Z",
     "start_time": "2020-04-01T19:25:18.259686Z"
    }
   },
   "outputs": [],
   "source": [
    "## Load an inference result\n",
    "\n",
    "def load_inferred(modelexp = 'modelexp_illumina', model_id = '10', title = ''):\n",
    "    prj_dir = '/ahg/regevdata/projects/CRISPR-libraries/prj2/evolution/badran/out/_fitness_from_reads_pt_multi/'\n",
    "    df = pd.read_csv(f'{prj_dir}/{modelexp}/model_{model_id}/_final_genotype_matrix.csv', index_col = 0)\n",
    "    df = df.rename(columns = idx_to_time)\n",
    "    \n",
    "    df['Abbrev genotype'] = df.index\n",
    "    df = df.reset_index(drop = True)\n",
    "    \n",
    "    melt_df = df.melt(\n",
    "        id_vars = 'Abbrev genotype',\n",
    "        var_name = 'Time',\n",
    "        value_name = 'Frequency (%)',\n",
    "    )\n",
    "    return melt_df\n",
    "\n",
    "ill_rl100_rs0_df = load_inferred(\n",
    "    modelexp = 'modelexp_illumina', \n",
    "    model_id = '10',\n",
    ")\n",
    "ill_rl100_rs0_df = ill_rl100_rs0_df.rename(columns = {'Frequency (%)': 'Predicted frequency (%)'})\n",
    "pred_fq_col = 'Predicted frequency (%)'\n",
    "ill_rl100_rs0_df[pred_fq_col] *= 100\n",
    "\n",
    "inference_nm = 'ill_rl100_rs0'"
   ]
  },
  {
   "cell_type": "code",
   "execution_count": 31,
   "metadata": {
    "ExecuteTime": {
     "end_time": "2020-04-01T18:52:52.952953Z",
     "start_time": "2020-04-01T18:52:52.920648Z"
    }
   },
   "outputs": [
    {
     "data": {
      "text/html": [
       "<div>\n",
       "<style scoped>\n",
       "    .dataframe tbody tr th:only-of-type {\n",
       "        vertical-align: middle;\n",
       "    }\n",
       "\n",
       "    .dataframe tbody tr th {\n",
       "        vertical-align: top;\n",
       "    }\n",
       "\n",
       "    .dataframe thead th {\n",
       "        text-align: right;\n",
       "    }\n",
       "</style>\n",
       "<table border=\"1\" class=\"dataframe\">\n",
       "  <thead>\n",
       "    <tr style=\"text-align: right;\">\n",
       "      <th></th>\n",
       "      <th>Abbrev genotype</th>\n",
       "      <th>Time</th>\n",
       "      <th>PacBio frequency</th>\n",
       "      <th>Predicted frequency (%)</th>\n",
       "    </tr>\n",
       "  </thead>\n",
       "  <tbody>\n",
       "    <tr>\n",
       "      <th>0</th>\n",
       "      <td>VIWS.DNGE.I.YC.KS.L</td>\n",
       "      <td>0.0</td>\n",
       "      <td>0.0</td>\n",
       "      <td>0.000110</td>\n",
       "    </tr>\n",
       "    <tr>\n",
       "      <th>1</th>\n",
       "      <td>VIW..DNGE.I.YC.KS.L</td>\n",
       "      <td>0.0</td>\n",
       "      <td>0.0</td>\n",
       "      <td>0.001000</td>\n",
       "    </tr>\n",
       "    <tr>\n",
       "      <th>2</th>\n",
       "      <td>VIW...N.ERI.YC.KSKL</td>\n",
       "      <td>0.0</td>\n",
       "      <td>0.0</td>\n",
       "      <td>0.000260</td>\n",
       "    </tr>\n",
       "    <tr>\n",
       "      <th>3</th>\n",
       "      <td>VIWS..NGE.I.YC.KS.L</td>\n",
       "      <td>0.0</td>\n",
       "      <td>0.0</td>\n",
       "      <td>0.000131</td>\n",
       "    </tr>\n",
       "    <tr>\n",
       "      <th>4</th>\n",
       "      <td>VIWS.DNGE.I.YC.KSKL</td>\n",
       "      <td>0.0</td>\n",
       "      <td>0.0</td>\n",
       "      <td>0.000000</td>\n",
       "    </tr>\n",
       "  </tbody>\n",
       "</table>\n",
       "</div>"
      ],
      "text/plain": [
       "       Abbrev genotype  Time  PacBio frequency  Predicted frequency (%)\n",
       "0  VIWS.DNGE.I.YC.KS.L   0.0               0.0                 0.000110\n",
       "1  VIW..DNGE.I.YC.KS.L   0.0               0.0                 0.001000\n",
       "2  VIW...N.ERI.YC.KSKL   0.0               0.0                 0.000260\n",
       "3  VIWS..NGE.I.YC.KS.L   0.0               0.0                 0.000131\n",
       "4  VIWS.DNGE.I.YC.KSKL   0.0               0.0                 0.000000"
      ]
     },
     "execution_count": 31,
     "metadata": {},
     "output_type": "execute_result"
    }
   ],
   "source": [
    "id_cols = ['Abbrev genotype', 'Time']\n",
    "dfm = true_melt_df.merge(ill_rl100_rs0_df, on = id_cols, how = 'outer')\n",
    "dfm = dfm.fillna(value = 0)\n",
    "\n",
    "dfm.head()"
   ]
  },
  {
   "cell_type": "markdown",
   "metadata": {},
   "source": [
    "## Pearson correlation across time"
   ]
  },
  {
   "cell_type": "code",
   "execution_count": 32,
   "metadata": {
    "ExecuteTime": {
     "end_time": "2020-04-01T18:52:53.334627Z",
     "start_time": "2020-04-01T18:52:53.279790Z"
    }
   },
   "outputs": [],
   "source": [
    "from collections import defaultdict\n",
    "from scipy.stats import pearsonr\n",
    "dd = defaultdict(list)\n",
    "\n",
    "\n",
    "for t in sorted(list(set(dfm['Time']))):\n",
    "    dfs = dfm[dfm['Time'] == t]\n",
    "    \n",
    "    pr, pval = pearsonr(dfs[pb_fq_col], dfs[pred_fq_col])\n",
    "    dd['Time'].append(t)\n",
    "    dd['R'].append(pr)\n",
    "    \n",
    "stats_df = pd.DataFrame(dd)"
   ]
  },
  {
   "cell_type": "code",
   "execution_count": 124,
   "metadata": {
    "ExecuteTime": {
     "end_time": "2020-04-01T19:25:33.914810Z",
     "start_time": "2020-04-01T19:25:33.335626Z"
    }
   },
   "outputs": [
    {
     "name": "stdout",
     "output_type": "stream",
     "text": [
      "Saving to /ahg/regevdata/projects/CRISPR-libraries/prj2/evolution/badran/results/fig_compare_pacbio_to_inference/time_r_ill_rl100_rs0.pdf ...\n"
     ]
    },
    {
     "data": {
      "image/png": "[encoded data removed]",
      "text/plain": [
       "<Figure size 504x360 with 1 Axes>"
      ]
     },
     "metadata": {
      "needs_background": "light"
     },
     "output_type": "display_data"
    }
   ],
   "source": [
    "#\n",
    "import matplotlib\n",
    "matplotlib.rc('font', family = 'Arial', size = 15)\n",
    "matplotlib.rcParams['mathtext.fontset'] = 'custom'\n",
    "matplotlib.rcParams['mathtext.it'] = 'Arial:italic'\n",
    "#\n",
    "fig, ax = plt.subplots(figsize = (7, 5))\n",
    "\n",
    "\n",
    "sns.scatterplot(\n",
    "    x = 'Time',\n",
    "    y = 'R',\n",
    "    data = stats_df,\n",
    "    color = '#86898c',\n",
    "    s = 60,\n",
    ")\n",
    "sns.despine()\n",
    "plt.grid(alpha = 0.2)\n",
    "plt.xticks(np.arange(0, 528 + 48, 48))\n",
    "plt.ylim([0, 1.03])\n",
    "plt.xlim([-10, 528 + 5])\n",
    "\n",
    "plt.xlabel('Time (h)')\n",
    "plt.ylabel('Pearson correlation between observed\\nand predicted genotype frequencies')\n",
    "\n",
    "plt.tight_layout()\n",
    "\n",
    "##\n",
    "\n",
    "sns.despine(trim = True)\n",
    "ax.tick_params(length = 4.5, color = 'black', width = 1.5)\n",
    "for axis in ['bottom', 'left']:\n",
    "    ax.spines[axis].set_linewidth(1.5)\n",
    "    ax.spines[axis].set_color('black')\n",
    "\n",
    "matplotlib.rcParams['pdf.fonttype'] = 42\n",
    "matplotlib.rcParams['ps.fonttype'] = 42\n",
    "\n",
    "out_fn = results_dir + f'time_r_{inference_nm}.pdf'\n",
    "print(f'Saving to {out_fn} ...')\n",
    "plt.savefig(out_fn, transparent = True, bbox_inches = 'tight')\n",
    "\n",
    "plt.show()\n",
    "plt.close()\n",
    "##"
   ]
  },
  {
   "cell_type": "code",
   "execution_count": 101,
   "metadata": {
    "ExecuteTime": {
     "end_time": "2020-04-01T19:18:08.706098Z",
     "start_time": "2020-04-01T19:18:08.684189Z"
    }
   },
   "outputs": [
    {
     "name": "stdout",
     "output_type": "stream",
     "text": [
      "Pearsonr stats across 34 timepoints\n"
     ]
    },
    {
     "data": {
      "text/plain": [
       "count    34.000000\n",
       "mean      0.902598\n",
       "std       0.208538\n",
       "min       0.190351\n",
       "25%       0.919309\n",
       "50%       0.993268\n",
       "75%       0.999692\n",
       "max       0.999999\n",
       "Name: R, dtype: float64"
      ]
     },
     "execution_count": 101,
     "metadata": {},
     "output_type": "execute_result"
    }
   ],
   "source": [
    "print(f'Pearsonr stats across 34 timepoints')\n",
    "stats_df['R'].describe()"
   ]
  },
  {
   "cell_type": "code",
   "execution_count": 169,
   "metadata": {
    "ExecuteTime": {
     "end_time": "2020-04-01T19:44:56.263273Z",
     "start_time": "2020-04-01T19:44:55.905003Z"
    }
   },
   "outputs": [
    {
     "name": "stdout",
     "output_type": "stream",
     "text": [
      "Saving to /ahg/regevdata/projects/CRISPR-libraries/prj2/evolution/badran/results/fig_compare_pacbio_to_inference/time_r_strip_ill_rl100_rs0.pdf ...\n"
     ]
    },
    {
     "data": {
      "image/png": "[encoded data removed]",
      "text/plain": [
       "<Figure size 216x360 with 1 Axes>"
      ]
     },
     "metadata": {
      "needs_background": "light"
     },
     "output_type": "display_data"
    }
   ],
   "source": [
    "#\n",
    "import matplotlib\n",
    "matplotlib.rc('font', family = 'Arial', size = 15)\n",
    "matplotlib.rcParams['mathtext.fontset'] = 'custom'\n",
    "matplotlib.rcParams['mathtext.it'] = 'Arial:italic'\n",
    "#\n",
    "fig, ax = plt.subplots(figsize = (3, 5))\n",
    "\n",
    "\n",
    "sns.violinplot(\n",
    "    y = 'R',\n",
    "    data = stats_df,\n",
    "    color = 'white',\n",
    "    alpha = 0.1,\n",
    "    cut = 0,\n",
    "    inner = None,\n",
    "    bw = 0.3,\n",
    "    fliersize = 0,\n",
    ")\n",
    "sns.swarmplot(\n",
    "    y = 'R',\n",
    "    data = stats_df,\n",
    "    color = '#86898c',\n",
    "    alpha = 1,\n",
    "    s = 6,\n",
    ")\n",
    "sns.despine()\n",
    "# plt.grid(alpha = 0.2)\n",
    "# plt.xticks(np.arange(0, 528 + 48, 48))\n",
    "plt.ylim([0, 1.03])\n",
    "# plt.xlim([-10, 528 + 5])\n",
    "ax.xaxis.set_ticks_position('none') \n",
    "\n",
    "# plt.xlabel('Time (h)')\n",
    "plt.ylabel('Pearson correlation between observed and\\npredicted genotype frequencies by timepoint')\n",
    "\n",
    "plt.tight_layout()\n",
    "\n",
    "##\n",
    "\n",
    "sns.despine(trim = True)\n",
    "ax.tick_params(length = 4.5, color = 'black', width = 1.5)\n",
    "for axis in ['bottom', 'left']:\n",
    "    ax.spines[axis].set_linewidth(1.5)\n",
    "    ax.spines[axis].set_color('black')\n",
    "\n",
    "matplotlib.rcParams['pdf.fonttype'] = 42\n",
    "matplotlib.rcParams['ps.fonttype'] = 42\n",
    "\n",
    "out_fn = results_dir + f'time_r_strip_{inference_nm}.pdf'\n",
    "print(f'Saving to {out_fn} ...')\n",
    "plt.savefig(out_fn, transparent = True, bbox_inches = 'tight')\n",
    "\n",
    "plt.show()\n",
    "plt.close()\n",
    "##"
   ]
  },
  {
   "cell_type": "code",
   "execution_count": 166,
   "metadata": {
    "ExecuteTime": {
     "end_time": "2020-04-01T19:43:50.256973Z",
     "start_time": "2020-04-01T19:43:50.239739Z"
    }
   },
   "outputs": [
    {
     "data": {
      "text/html": [
       "<div>\n",
       "<style scoped>\n",
       "    .dataframe tbody tr th:only-of-type {\n",
       "        vertical-align: middle;\n",
       "    }\n",
       "\n",
       "    .dataframe tbody tr th {\n",
       "        vertical-align: top;\n",
       "    }\n",
       "\n",
       "    .dataframe thead th {\n",
       "        text-align: right;\n",
       "    }\n",
       "</style>\n",
       "<table border=\"1\" class=\"dataframe\">\n",
       "  <thead>\n",
       "    <tr style=\"text-align: right;\">\n",
       "      <th></th>\n",
       "      <th>Time</th>\n",
       "      <th>R</th>\n",
       "    </tr>\n",
       "  </thead>\n",
       "  <tbody>\n",
       "    <tr>\n",
       "      <th>23</th>\n",
       "      <td>300.0</td>\n",
       "      <td>0.190351</td>\n",
       "    </tr>\n",
       "    <tr>\n",
       "      <th>26</th>\n",
       "      <td>372.0</td>\n",
       "      <td>0.252876</td>\n",
       "    </tr>\n",
       "    <tr>\n",
       "      <th>31</th>\n",
       "      <td>480.0</td>\n",
       "      <td>0.440584</td>\n",
       "    </tr>\n",
       "    <tr>\n",
       "      <th>27</th>\n",
       "      <td>396.0</td>\n",
       "      <td>0.611445</td>\n",
       "    </tr>\n",
       "    <tr>\n",
       "      <th>29</th>\n",
       "      <td>432.0</td>\n",
       "      <td>0.855308</td>\n",
       "    </tr>\n",
       "  </tbody>\n",
       "</table>\n",
       "</div>"
      ],
      "text/plain": [
       "     Time         R\n",
       "23  300.0  0.190351\n",
       "26  372.0  0.252876\n",
       "31  480.0  0.440584\n",
       "27  396.0  0.611445\n",
       "29  432.0  0.855308"
      ]
     },
     "execution_count": 166,
     "metadata": {},
     "output_type": "execute_result"
    }
   ],
   "source": [
    "stats_df.sort_values(by = 'R', ascending = True).head()"
   ]
  },
  {
   "cell_type": "markdown",
   "metadata": {},
   "source": [
    "## Genotype scatter plot"
   ]
  },
  {
   "cell_type": "code",
   "execution_count": 146,
   "metadata": {
    "ExecuteTime": {
     "end_time": "2020-04-01T19:36:43.122474Z",
     "start_time": "2020-04-01T19:36:39.459476Z"
    },
    "code_folding": []
   },
   "outputs": [
    {
     "name": "stdout",
     "output_type": "stream",
     "text": [
      "Saving to /ahg/regevdata/projects/CRISPR-libraries/prj2/evolution/badran/results/fig_compare_pacbio_to_inference/gts_scatter_ill_rl100_rs0.pdf ...\n"
     ]
    },
    {
     "data": {
      "image/png": "[encoded data removed]",
      "text/plain": [
       "<Figure size 360x360 with 1 Axes>"
      ]
     },
     "metadata": {
      "needs_background": "light"
     },
     "output_type": "display_data"
    }
   ],
   "source": [
    "#\n",
    "import matplotlib\n",
    "matplotlib.rc('font', family = 'Arial', size = 15)\n",
    "matplotlib.rcParams['mathtext.fontset'] = 'custom'\n",
    "matplotlib.rcParams['mathtext.it'] = 'Arial:italic'\n",
    "#\n",
    "fig, ax = plt.subplots(figsize = (5, 5))\n",
    "\n",
    "\n",
    "for gt in set(dfm['Abbrev genotype']):\n",
    "    dfs = dfm[dfm['Abbrev genotype'] == gt]\n",
    "    \n",
    "    # Dots\n",
    "    plt.plot(\n",
    "        dfs[pb_fq_col],\n",
    "        dfs[pred_fq_col],\n",
    "        color = master_palette[gt],\n",
    "        marker = 'o',\n",
    "        markeredgecolor = 'white',\n",
    "        markeredgewidth = 0.5,\n",
    "        markersize = 7,\n",
    "        linewidth = 0,\n",
    "    )\n",
    "    \n",
    "    # Lines\n",
    "    plt.plot(\n",
    "        dfs[pb_fq_col],\n",
    "        dfs[pred_fq_col],\n",
    "        color = master_palette[gt],\n",
    "        markersize = 0,\n",
    "        linewidth = 1.5,\n",
    "        alpha = 0.3,\n",
    "    )\n",
    "\n",
    "sns.despine()\n",
    "plt.grid(alpha = 0.2)\n",
    "plt.xlabel('Fraction of PacBio sequenced reads (%)')\n",
    "plt.ylabel('Predicted fraction of sequenced reads (%)')\n",
    "plt.xlim(left = 0, right = 101)\n",
    "plt.ylim(bottom = 0, top = 101)\n",
    "\n",
    "plt.tight_layout()\n",
    "\n",
    "##\n",
    "\n",
    "sns.despine(trim = True)\n",
    "ax.tick_params(length = 4.5, color = 'black', width = 1.5)\n",
    "for axis in ['bottom', 'left']:\n",
    "    ax.spines[axis].set_linewidth(1.5)\n",
    "    ax.spines[axis].set_color('black')\n",
    "\n",
    "matplotlib.rcParams['pdf.fonttype'] = 42\n",
    "matplotlib.rcParams['ps.fonttype'] = 42\n",
    "\n",
    "out_fn = results_dir + f'gts_scatter_{inference_nm}.pdf'\n",
    "print(f'Saving to {out_fn} ...')\n",
    "plt.savefig(out_fn, transparent = True, bbox_inches = 'tight')\n",
    "\n",
    "plt.show()\n",
    "plt.close()\n",
    "##"
   ]
  },
  {
   "cell_type": "code",
   "execution_count": 99,
   "metadata": {
    "ExecuteTime": {
     "end_time": "2020-04-01T19:15:51.341514Z",
     "start_time": "2020-04-01T19:15:51.327454Z"
    }
   },
   "outputs": [
    {
     "name": "stdout",
     "output_type": "stream",
     "text": [
      "Pearson correlation between predictions and observations, across all timepoints and genotypes\n"
     ]
    },
    {
     "data": {
      "text/plain": [
       "(0.9694314921004175, 0.0)"
      ]
     },
     "execution_count": 99,
     "metadata": {},
     "output_type": "execute_result"
    }
   ],
   "source": [
    "print(f'Pearson correlation between predictions and observations, across all timepoints and genotypes')\n",
    "pearsonr(dfm[pb_fq_col], dfm[pred_fq_col])"
   ]
  },
  {
   "cell_type": "code",
   "execution_count": null,
   "metadata": {},
   "outputs": [],
   "source": []
  }
 ],
 "metadata": {
  "kernelspec": {
   "display_name": "Python 3",
   "language": "python",
   "name": "python3"
  },
  "language_info": {
   "codemirror_mode": {
    "name": "ipython",
    "version": 3
   },
   "file_extension": ".py",
   "mimetype": "text/x-python",
   "name": "python",
   "nbconvert_exporter": "python",
   "pygments_lexer": "ipython3",
   "version": "3.7.3"
  }
 },
 "nbformat": 4,
 "nbformat_minor": 2
}
