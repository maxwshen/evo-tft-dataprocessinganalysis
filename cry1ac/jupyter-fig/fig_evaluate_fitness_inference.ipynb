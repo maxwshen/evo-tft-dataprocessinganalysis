{
 "cells": [
  {
   "cell_type": "code",
   "execution_count": 1,
   "metadata": {
    "ExecuteTime": {
     "end_time": "2020-04-15T19:26:27.467690Z",
     "start_time": "2020-04-15T19:26:24.520562Z"
    }
   },
   "outputs": [
    {
     "name": "stdout",
     "output_type": "stream",
     "text": [
      "Using data folder:\n",
      " /ahg/regevdata/projects/CRISPR-libraries/prj2/evolution/badran/data/\n"
     ]
    }
   ],
   "source": [
    "import numpy as np, matplotlib.pyplot as plt, pandas as pd, seaborn as sns\n",
    "\n",
    "import sys\n",
    "sys.path.append('/ahg/regevdata/projects/CRISPR-libraries/prj2/evolution/badran/src/')\n",
    "import _config\n",
    "\n",
    "sys.path.append('/home/unix/maxwshen/')\n",
    "from mylib import util\n",
    "\n",
    "notebook_nm = 'fig_evaluate_fitness_inference'\n",
    "results_dir = _config.RESULTS_PLACE + f'{notebook_nm}/'\n",
    "util.ensure_dir_exists(results_dir)"
   ]
  },
  {
   "cell_type": "code",
   "execution_count": 2,
   "metadata": {
    "ExecuteTime": {
     "end_time": "2020-04-15T19:26:27.582113Z",
     "start_time": "2020-04-15T19:26:27.469914Z"
    }
   },
   "outputs": [
    {
     "data": {
      "text/html": [
       "<div>\n",
       "<style scoped>\n",
       "    .dataframe tbody tr th:only-of-type {\n",
       "        vertical-align: middle;\n",
       "    }\n",
       "\n",
       "    .dataframe tbody tr th {\n",
       "        vertical-align: top;\n",
       "    }\n",
       "\n",
       "    .dataframe thead th {\n",
       "        text-align: right;\n",
       "    }\n",
       "</style>\n",
       "<table border=\"1\" class=\"dataframe\">\n",
       "  <thead>\n",
       "    <tr style=\"text-align: right;\">\n",
       "      <th></th>\n",
       "      <th>Genotype</th>\n",
       "      <th>Fitness</th>\n",
       "    </tr>\n",
       "  </thead>\n",
       "  <tbody>\n",
       "    <tr>\n",
       "      <th>0</th>\n",
       "      <td>VIWS.DNGE.I.YC.KS.L</td>\n",
       "      <td>18.694780</td>\n",
       "    </tr>\n",
       "    <tr>\n",
       "      <th>1</th>\n",
       "      <td>VIWS..NGE.I.YC.KS.L</td>\n",
       "      <td>7.139532</td>\n",
       "    </tr>\n",
       "    <tr>\n",
       "      <th>2</th>\n",
       "      <td>VIW...N.E.I.YC.KS.L</td>\n",
       "      <td>6.096732</td>\n",
       "    </tr>\n",
       "    <tr>\n",
       "      <th>3</th>\n",
       "      <td>VIW..DNGE.I.YC.KS.L</td>\n",
       "      <td>5.322800</td>\n",
       "    </tr>\n",
       "    <tr>\n",
       "      <th>4</th>\n",
       "      <td>VIW...N.E.I.YC.KSKL</td>\n",
       "      <td>4.942333</td>\n",
       "    </tr>\n",
       "  </tbody>\n",
       "</table>\n",
       "</div>"
      ],
      "text/plain": [
       "              Genotype    Fitness\n",
       "0  VIWS.DNGE.I.YC.KS.L  18.694780\n",
       "1  VIWS..NGE.I.YC.KS.L   7.139532\n",
       "2  VIW...N.E.I.YC.KS.L   6.096732\n",
       "3  VIW..DNGE.I.YC.KS.L   5.322800\n",
       "4  VIW...N.E.I.YC.KSKL   4.942333"
      ]
     },
     "execution_count": 2,
     "metadata": {},
     "output_type": "execute_result"
    }
   ],
   "source": [
    "## Load data\n",
    "\n",
    "true_df = pd.read_csv('/ahg/regevdata/projects/CRISPR-libraries/prj2/evolution/badran/out/_fitness_pt/fullgt_fitness.csv', index_col = 0)\n",
    "true_df.to_csv(results_dir + f'pacbio_ground_truth_fitness.csv')\n",
    "\n",
    "true_df.head()"
   ]
  },
  {
   "cell_type": "markdown",
   "metadata": {},
   "source": [
    "## Load prediction"
   ]
  },
  {
   "cell_type": "code",
   "execution_count": 3,
   "metadata": {
    "ExecuteTime": {
     "end_time": "2020-04-15T19:27:07.596815Z",
     "start_time": "2020-04-15T19:27:07.575107Z"
    }
   },
   "outputs": [],
   "source": [
    "def load_inferred_fitness(modelexp = 'modelexp_illumina', model_id = '0', out_fn = '', rl = ''):\n",
    "    prj_dir = '/ahg/regevdata/projects/CRISPR-libraries/prj2/evolution/badran/out/_fitness_from_reads_pt_multi/'\n",
    "    df = pd.read_csv(f'{prj_dir}/{modelexp}/model_{model_id}/_final_fitness.csv', index_col = 0)\n",
    "\n",
    "    mdf = true_df.merge(df, on = 'Genotype')\n",
    "    mdf.to_csv(results_dir + f'{modelexp}_{model_id}_fitness.csv')\n",
    "    \n",
    "    from scipy.stats import pearsonr, spearmanr\n",
    "    dfs = mdf.dropna()\n",
    "    pr, pval = pearsonr(dfs['Fitness'], dfs['Inferred fitness'])\n",
    "    spr, spval = spearmanr(dfs['Fitness'], dfs['Inferred fitness'])\n",
    "    print('Pearsonr', pr, pval)\n",
    "    print('Spearmanr', spr, spval)\n",
    "    print('N', len(dfs))\n",
    "    \n",
    "    #\n",
    "    import matplotlib\n",
    "    matplotlib.rc('font', family = 'Arial', size = 15)\n",
    "    matplotlib.rcParams['mathtext.fontset'] = 'custom'\n",
    "    matplotlib.rcParams['mathtext.it'] = 'Arial:italic'\n",
    "    #\n",
    "    \n",
    "    fig, ax = plt.subplots(figsize = (5, 5))\n",
    "    \n",
    "    #\n",
    "    sns.scatterplot(\n",
    "        x = 'Fitness',\n",
    "        y = 'Inferred fitness',\n",
    "        data = mdf,\n",
    "        linewidth = 0,\n",
    "        alpha = 0.9,\n",
    "        ax = ax,\n",
    "    )\n",
    "    sns.despine(trim = False)\n",
    "    plt.grid(alpha = 0.2)\n",
    "    # plt.xscale('log')\n",
    "    # plt.yscale('log')\n",
    "    plt.xlabel('Fitness calculated from full-length genotypes')\n",
    "    \n",
    "    if rl == '':\n",
    "        plt.ylabel('Inferred fitness')\n",
    "    else:\n",
    "        plt.ylabel(f'Fitness inferred from {rl}-nt post-alignment reads')\n",
    "\n",
    "    ##\n",
    "\n",
    "    plt.tight_layout()\n",
    "    ax.tick_params(length = 4.5, color = 'black', width = 1.5)\n",
    "    for axis in ['bottom', 'left']:\n",
    "        ax.spines[axis].set_linewidth(1.5)\n",
    "        ax.spines[axis].set_color('black')\n",
    "\n",
    "    matplotlib.rcParams['pdf.fonttype'] = 42\n",
    "    matplotlib.rcParams['ps.fonttype'] = 42\n",
    "\n",
    "    print(f'Saving to {out_fn} ...')\n",
    "    plt.savefig(out_fn, transparent = True, bbox_inches = 'tight')\n",
    "    \n",
    "    plt.show()\n",
    "    plt.close()\n",
    "    \n",
    "    return"
   ]
  },
  {
   "cell_type": "code",
   "execution_count": 6,
   "metadata": {
    "ExecuteTime": {
     "end_time": "2020-04-15T19:27:34.400639Z",
     "start_time": "2020-04-15T19:27:33.872782Z"
    }
   },
   "outputs": [
    {
     "name": "stdout",
     "output_type": "stream",
     "text": [
      "Pearsonr 0.8382834317669542 1.6877279897599399e-07\n",
      "Spearmanr 0.7053846153846153 8.206806844597012e-05\n",
      "N 25\n",
      "Saving to /ahg/regevdata/projects/CRISPR-libraries/prj2/evolution/badran/results/fig_evaluate_fitness_inference/ill_rl100_rs0.pdf ...\n"
     ]
    },
    {
     "data": {
      "image/png": "[encoded data removed]",
      "text/plain": [
       "<Figure size 360x360 with 1 Axes>"
      ]
     },
     "metadata": {
      "needs_background": "light"
     },
     "output_type": "display_data"
    }
   ],
   "source": [
    "load_inferred_fitness(\n",
    "    modelexp = 'modelexp_illumina', \n",
    "    model_id = '10', \n",
    "    out_fn = results_dir + 'ill_rl100_rs0.pdf', \n",
    ")"
   ]
  },
  {
   "cell_type": "code",
   "execution_count": 7,
   "metadata": {
    "ExecuteTime": {
     "end_time": "2020-04-15T19:27:37.576889Z",
     "start_time": "2020-04-15T19:27:37.020708Z"
    }
   },
   "outputs": [
    {
     "name": "stdout",
     "output_type": "stream",
     "text": [
      "Pearsonr 0.8193676038539147 1.8004285500080328e-10\n",
      "Spearmanr 0.724493927125506 1.8448427516464893e-07\n",
      "N 39\n",
      "Saving to /ahg/regevdata/projects/CRISPR-libraries/prj2/evolution/badran/results/fig_evaluate_fitness_inference/pb_rl1_rs0.pdf ...\n"
     ]
    },
    {
     "data": {
      "image/png": "[encoded data removed]",
      "text/plain": [
       "<Figure size 360x360 with 1 Axes>"
      ]
     },
     "metadata": {
      "needs_background": "light"
     },
     "output_type": "display_data"
    }
   ],
   "source": [
    "load_inferred_fitness(\n",
    "    modelexp = 'modelexp_simple_rs', \n",
    "    model_id = '0', \n",
    "    out_fn = results_dir + 'pb_rl1_rs0.pdf', \n",
    ")"
   ]
  },
  {
   "cell_type": "code",
   "execution_count": 9,
   "metadata": {
    "ExecuteTime": {
     "end_time": "2020-04-15T19:27:44.566458Z",
     "start_time": "2020-04-15T19:27:44.057935Z"
    }
   },
   "outputs": [
    {
     "name": "stdout",
     "output_type": "stream",
     "text": [
      "Pearsonr 0.7169311554730311 2.682714107421654e-06\n",
      "Spearmanr 0.3683155080213904 0.03494381690243129\n",
      "N 33\n",
      "Saving to /ahg/regevdata/projects/CRISPR-libraries/prj2/evolution/badran/results/fig_evaluate_fitness_inference/pb_rl1_noise0.05_rs0.pdf ...\n"
     ]
    },
    {
     "data": {
      "image/png": "[encoded data removed]",
      "text/plain": [
       "<Figure size 360x360 with 1 Axes>"
      ]
     },
     "metadata": {
      "needs_background": "light"
     },
     "output_type": "display_data"
    }
   ],
   "source": [
    "load_inferred_fitness(\n",
    "    modelexp = 'modelexp_varynoisev2_rs', \n",
    "    model_id = '250', \n",
    "    out_fn = results_dir + 'pb_rl1_noise0.05_rs0.pdf', \n",
    ")"
   ]
  },
  {
   "cell_type": "code",
   "execution_count": null,
   "metadata": {},
   "outputs": [],
   "source": []
  }
 ],
 "metadata": {
  "kernelspec": {
   "display_name": "Python 3",
   "language": "python",
   "name": "python3"
  },
  "language_info": {
   "codemirror_mode": {
    "name": "ipython",
    "version": 3
   },
   "file_extension": ".py",
   "mimetype": "text/x-python",
   "name": "python",
   "nbconvert_exporter": "python",
   "pygments_lexer": "ipython3",
   "version": "3.7.3"
  }
 },
 "nbformat": 4,
 "nbformat_minor": 2
}
