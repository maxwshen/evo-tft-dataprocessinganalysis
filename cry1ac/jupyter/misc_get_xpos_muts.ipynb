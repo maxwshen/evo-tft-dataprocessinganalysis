{
 "cells": [
  {
   "cell_type": "code",
   "execution_count": 6,
   "metadata": {
    "ExecuteTime": {
     "end_time": "2020-03-31T23:30:01.669454Z",
     "start_time": "2020-03-31T23:30:01.655155Z"
    }
   },
   "outputs": [
    {
     "name": "stdout",
     "output_type": "stream",
     "text": [
      "A-76V, 68.04\n",
      "M-73I, 68.60\n",
      "C15W, 84.76\n",
      "F68S, 94.49\n",
      "R198G, 118.37\n",
      "G286D, 134.53\n",
      "T304N, 137.84\n",
      "E332G, 142.98\n",
      "A344E, 145.18\n",
      "Q347R, 145.74\n",
      "T361I, 148.31\n",
      "S363P, 148.67\n",
      "D384Y, 152.53\n",
      "S404C, 156.20\n",
      "N417D, 158.59\n",
      "E461K, 166.67\n",
      "N463S, 167.04\n",
      "E515K, 176.59\n",
      "S582L, 188.90\n"
     ]
    }
   ],
   "source": [
    "muts = [\n",
    "    'A-76V',\n",
    "    'M-73I',\n",
    "    'C15W',\n",
    "    'F68S',\n",
    "    'R198G',\n",
    "    'G286D',\n",
    "    'T304N',\n",
    "    'E332G',\n",
    "    'A344E',\n",
    "    'Q347R',\n",
    "    'T361I',\n",
    "    'S363P',\n",
    "    'D384Y',\n",
    "    'S404C',\n",
    "    'N417D',\n",
    "    'E461K',\n",
    "    'N463S',\n",
    "    'E515K',\n",
    "    'S582L',\n",
    "]\n",
    "\n",
    "x0 = 65.29\n",
    "x720 = 197.529\n",
    "tot = x720 - x0\n",
    "\n",
    "for mut in muts:\n",
    "    pos = int(mut[1:-1])\n",
    "    \n",
    "    xpos = x0 + ((pos + 91)/720) * tot\n",
    "    \n",
    "    print(f'{mut}, {xpos:.2f}')"
   ]
  },
  {
   "cell_type": "code",
   "execution_count": null,
   "metadata": {},
   "outputs": [],
   "source": []
  }
 ],
 "metadata": {
  "kernelspec": {
   "display_name": "Python 3",
   "language": "python",
   "name": "python3"
  },
  "language_info": {
   "codemirror_mode": {
    "name": "ipython",
    "version": 3
   },
   "file_extension": ".py",
   "mimetype": "text/x-python",
   "name": "python",
   "nbconvert_exporter": "python",
   "pygments_lexer": "ipython3",
   "version": "3.7.3"
  }
 },
 "nbformat": 4,
 "nbformat_minor": 2
}
