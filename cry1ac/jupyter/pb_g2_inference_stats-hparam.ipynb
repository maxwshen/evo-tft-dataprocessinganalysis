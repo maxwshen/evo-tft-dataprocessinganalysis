{
 "cells": [
  {
   "cell_type": "code",
   "execution_count": 1,
   "metadata": {
    "ExecuteTime": {
     "end_time": "2020-04-15T16:57:31.907339Z",
     "start_time": "2020-04-15T16:57:27.829120Z"
    }
   },
   "outputs": [
    {
     "name": "stdout",
     "output_type": "stream",
     "text": [
      "Using data folder:\n",
      " /ahg/regevdata/projects/CRISPR-libraries/prj2/evolution/badran/data/\n",
      "Device: cpu\n"
     ]
    }
   ],
   "source": [
    "import numpy as np, matplotlib.pyplot as plt, pandas as pd, seaborn as sns\n",
    "\n",
    "import sys\n",
    "sys.path.append('/ahg/regevdata/projects/CRISPR-libraries/prj2/evolution/badran/src/')\n",
    "import _config\n",
    "\n",
    "import pb_g2_inference_stats as parent_script"
   ]
  },
  {
   "cell_type": "code",
   "execution_count": 4,
   "metadata": {
    "ExecuteTime": {
     "end_time": "2020-04-15T16:58:17.156485Z",
     "start_time": "2020-04-15T16:58:17.126411Z"
    }
   },
   "outputs": [
    {
     "name": "stdout",
     "output_type": "stream",
     "text": [
      "Index(['Experiment name', 'Experiment index', 'Last epoch',\n",
      "       'Mean epoch time (microseconds)', 'Median epoch time (microseconds)',\n",
      "       'Int name', 'random_seed', 'alpha_marginal', 'beta_skew', 'dataset',\n",
      "       'Name'],\n",
      "      dtype='object')\n"
     ]
    }
   ],
   "source": [
    "modelexp_nm = 'modelexp_simplev2_rs'\n",
    "\n",
    "df = pd.read_csv(parent_script.out_dir + f'stats_{modelexp_nm}.csv', index_col = 0)\n",
    "df['Int name'] = df['Experiment index']\n",
    "\n",
    "# hparam annotations\n",
    "modelexp_df = pd.read_csv(_config.DATA_DIR + f'{modelexp_nm}.csv')\n",
    "modelexp_df['Int name'] = modelexp_df['Name']\n",
    "\n",
    "df = df.merge(modelexp_df, on = 'Int name')\n",
    "\n",
    "print(df.columns)"
   ]
  },
  {
   "cell_type": "markdown",
   "metadata": {},
   "source": [
    "## plots"
   ]
  },
  {
   "cell_type": "code",
   "execution_count": 16,
   "metadata": {
    "ExecuteTime": {
     "end_time": "2020-04-15T17:01:48.198668Z",
     "start_time": "2020-04-15T17:01:47.381747Z"
    }
   },
   "outputs": [
    {
     "data": {
      "text/html": [
       "<div>\n",
       "<style scoped>\n",
       "    .dataframe tbody tr th:only-of-type {\n",
       "        vertical-align: middle;\n",
       "    }\n",
       "\n",
       "    .dataframe tbody tr th {\n",
       "        vertical-align: top;\n",
       "    }\n",
       "\n",
       "    .dataframe thead th {\n",
       "        text-align: right;\n",
       "    }\n",
       "</style>\n",
       "<table border=\"1\" class=\"dataframe\">\n",
       "  <thead>\n",
       "    <tr style=\"text-align: right;\">\n",
       "      <th>beta_skew</th>\n",
       "      <th>0.0</th>\n",
       "      <th>0.0001</th>\n",
       "      <th>0.0003</th>\n",
       "      <th>0.001</th>\n",
       "      <th>0.003</th>\n",
       "      <th>0.01</th>\n",
       "      <th>0.03</th>\n",
       "      <th>0.1</th>\n",
       "      <th>0.3</th>\n",
       "      <th>1.0</th>\n",
       "    </tr>\n",
       "    <tr>\n",
       "      <th>alpha_marginal</th>\n",
       "      <th></th>\n",
       "      <th></th>\n",
       "      <th></th>\n",
       "      <th></th>\n",
       "      <th></th>\n",
       "      <th></th>\n",
       "      <th></th>\n",
       "      <th></th>\n",
       "      <th></th>\n",
       "      <th></th>\n",
       "    </tr>\n",
       "  </thead>\n",
       "  <tbody>\n",
       "    <tr>\n",
       "      <th>0.1</th>\n",
       "      <td>567.888889</td>\n",
       "      <td>582.444444</td>\n",
       "      <td>569.222222</td>\n",
       "      <td>604.222222</td>\n",
       "      <td>672.888889</td>\n",
       "      <td>581.222222</td>\n",
       "      <td>628.555556</td>\n",
       "      <td>587.777778</td>\n",
       "      <td>649.666667</td>\n",
       "      <td>829.000000</td>\n",
       "    </tr>\n",
       "    <tr>\n",
       "      <th>0.3</th>\n",
       "      <td>584.333333</td>\n",
       "      <td>574.444444</td>\n",
       "      <td>530.111111</td>\n",
       "      <td>537.777778</td>\n",
       "      <td>569.000000</td>\n",
       "      <td>518.000000</td>\n",
       "      <td>590.000000</td>\n",
       "      <td>599.333333</td>\n",
       "      <td>546.333333</td>\n",
       "      <td>567.222222</td>\n",
       "    </tr>\n",
       "    <tr>\n",
       "      <th>0.5</th>\n",
       "      <td>588.666667</td>\n",
       "      <td>607.111111</td>\n",
       "      <td>592.777778</td>\n",
       "      <td>599.888889</td>\n",
       "      <td>599.666667</td>\n",
       "      <td>624.555556</td>\n",
       "      <td>615.222222</td>\n",
       "      <td>607.111111</td>\n",
       "      <td>609.222222</td>\n",
       "      <td>684.555556</td>\n",
       "    </tr>\n",
       "    <tr>\n",
       "      <th>1.0</th>\n",
       "      <td>750.222222</td>\n",
       "      <td>742.444444</td>\n",
       "      <td>763.444444</td>\n",
       "      <td>742.777778</td>\n",
       "      <td>753.111111</td>\n",
       "      <td>740.111111</td>\n",
       "      <td>752.000000</td>\n",
       "      <td>728.444444</td>\n",
       "      <td>765.111111</td>\n",
       "      <td>731.444444</td>\n",
       "    </tr>\n",
       "    <tr>\n",
       "      <th>3.0</th>\n",
       "      <td>460.000000</td>\n",
       "      <td>486.888889</td>\n",
       "      <td>490.777778</td>\n",
       "      <td>479.666667</td>\n",
       "      <td>477.222222</td>\n",
       "      <td>484.555556</td>\n",
       "      <td>502.444444</td>\n",
       "      <td>468.333333</td>\n",
       "      <td>484.000000</td>\n",
       "      <td>478.111111</td>\n",
       "    </tr>\n",
       "    <tr>\n",
       "      <th>5.0</th>\n",
       "      <td>472.000000</td>\n",
       "      <td>465.222222</td>\n",
       "      <td>457.333333</td>\n",
       "      <td>467.555556</td>\n",
       "      <td>472.555556</td>\n",
       "      <td>481.111111</td>\n",
       "      <td>474.222222</td>\n",
       "      <td>458.777778</td>\n",
       "      <td>475.222222</td>\n",
       "      <td>457.666667</td>\n",
       "    </tr>\n",
       "    <tr>\n",
       "      <th>10.0</th>\n",
       "      <td>482.555556</td>\n",
       "      <td>476.888889</td>\n",
       "      <td>476.333333</td>\n",
       "      <td>471.444444</td>\n",
       "      <td>479.777778</td>\n",
       "      <td>483.888889</td>\n",
       "      <td>492.888889</td>\n",
       "      <td>482.888889</td>\n",
       "      <td>488.777778</td>\n",
       "      <td>503.000000</td>\n",
       "    </tr>\n",
       "    <tr>\n",
       "      <th>30.0</th>\n",
       "      <td>577.333333</td>\n",
       "      <td>584.666667</td>\n",
       "      <td>589.111111</td>\n",
       "      <td>584.888889</td>\n",
       "      <td>577.888889</td>\n",
       "      <td>596.333333</td>\n",
       "      <td>599.333333</td>\n",
       "      <td>579.444444</td>\n",
       "      <td>606.222222</td>\n",
       "      <td>586.444444</td>\n",
       "    </tr>\n",
       "    <tr>\n",
       "      <th>50.0</th>\n",
       "      <td>700.333333</td>\n",
       "      <td>682.222222</td>\n",
       "      <td>709.777778</td>\n",
       "      <td>687.777778</td>\n",
       "      <td>698.333333</td>\n",
       "      <td>696.777778</td>\n",
       "      <td>683.333333</td>\n",
       "      <td>690.777778</td>\n",
       "      <td>696.666667</td>\n",
       "      <td>690.444444</td>\n",
       "    </tr>\n",
       "    <tr>\n",
       "      <th>100.0</th>\n",
       "      <td>859.888889</td>\n",
       "      <td>881.222222</td>\n",
       "      <td>849.666667</td>\n",
       "      <td>853.888889</td>\n",
       "      <td>880.888889</td>\n",
       "      <td>874.000000</td>\n",
       "      <td>848.222222</td>\n",
       "      <td>894.111111</td>\n",
       "      <td>878.777778</td>\n",
       "      <td>856.555556</td>\n",
       "    </tr>\n",
       "  </tbody>\n",
       "</table>\n",
       "</div>"
      ],
      "text/plain": [
       "beta_skew           0.0000      0.0001      0.0003      0.0010      0.0030  \\\n",
       "alpha_marginal                                                               \n",
       "0.1             567.888889  582.444444  569.222222  604.222222  672.888889   \n",
       "0.3             584.333333  574.444444  530.111111  537.777778  569.000000   \n",
       "0.5             588.666667  607.111111  592.777778  599.888889  599.666667   \n",
       "1.0             750.222222  742.444444  763.444444  742.777778  753.111111   \n",
       "3.0             460.000000  486.888889  490.777778  479.666667  477.222222   \n",
       "5.0             472.000000  465.222222  457.333333  467.555556  472.555556   \n",
       "10.0            482.555556  476.888889  476.333333  471.444444  479.777778   \n",
       "30.0            577.333333  584.666667  589.111111  584.888889  577.888889   \n",
       "50.0            700.333333  682.222222  709.777778  687.777778  698.333333   \n",
       "100.0           859.888889  881.222222  849.666667  853.888889  880.888889   \n",
       "\n",
       "beta_skew           0.0100      0.0300      0.1000      0.3000      1.0000  \n",
       "alpha_marginal                                                              \n",
       "0.1             581.222222  628.555556  587.777778  649.666667  829.000000  \n",
       "0.3             518.000000  590.000000  599.333333  546.333333  567.222222  \n",
       "0.5             624.555556  615.222222  607.111111  609.222222  684.555556  \n",
       "1.0             740.111111  752.000000  728.444444  765.111111  731.444444  \n",
       "3.0             484.555556  502.444444  468.333333  484.000000  478.111111  \n",
       "5.0             481.111111  474.222222  458.777778  475.222222  457.666667  \n",
       "10.0            483.888889  492.888889  482.888889  488.777778  503.000000  \n",
       "30.0            596.333333  599.333333  579.444444  606.222222  586.444444  \n",
       "50.0            696.777778  683.333333  690.777778  696.666667  690.444444  \n",
       "100.0           874.000000  848.222222  894.111111  878.777778  856.555556  "
      ]
     },
     "metadata": {},
     "output_type": "display_data"
    },
    {
     "data": {
      "image/png": "[encoded data removed]",
      "text/plain": [
       "<Figure size 432x288 with 1 Axes>"
      ]
     },
     "metadata": {
      "needs_background": "light"
     },
     "output_type": "display_data"
    }
   ],
   "source": [
    "matrix = df.groupby(['beta_skew', 'alpha_marginal'])['Last epoch'].agg('mean').reset_index().pivot(columns = 'beta_skew', index = 'alpha_marginal', values = 'Last epoch')\n",
    "\n",
    "display(matrix)\n",
    "\n",
    "fig, ax = plt.subplots()\n",
    "sns.heatmap(\n",
    "    matrix,\n",
    "    annot = True,\n",
    "    fmt = '.0f',\n",
    "    ax = ax,\n",
    "    cbar = False,\n",
    ")\n",
    "sns.despine(trim = True, bottom = True, left = True)\n",
    "ax.yaxis.set_ticks_position('none') \n",
    "ax.xaxis.set_ticks_position('none') "
   ]
  },
  {
   "cell_type": "code",
   "execution_count": null,
   "metadata": {},
   "outputs": [],
   "source": []
  }
 ],
 "metadata": {
  "kernelspec": {
   "display_name": "Python 3",
   "language": "python",
   "name": "python3"
  },
  "language_info": {
   "codemirror_mode": {
    "name": "ipython",
    "version": 3
   },
   "file_extension": ".py",
   "mimetype": "text/x-python",
   "name": "python",
   "nbconvert_exporter": "python",
   "pygments_lexer": "ipython3",
   "version": "3.7.3"
  }
 },
 "nbformat": 4,
 "nbformat_minor": 2
}
