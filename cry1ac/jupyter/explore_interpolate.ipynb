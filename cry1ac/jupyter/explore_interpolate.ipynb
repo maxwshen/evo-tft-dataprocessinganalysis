{
 "cells": [
  {
   "cell_type": "code",
   "execution_count": 1,
   "metadata": {
    "ExecuteTime": {
     "end_time": "2020-04-20T15:42:52.455238Z",
     "start_time": "2020-04-20T15:42:30.047069Z"
    }
   },
   "outputs": [
    {
     "name": "stdout",
     "output_type": "stream",
     "text": [
      "Using data folder:\n",
      " /ahg/regevdata/projects/CRISPR-libraries/prj2/evolution/badran/data/\n"
     ]
    }
   ],
   "source": [
    "import numpy as np, matplotlib.pyplot as plt, pandas as pd, seaborn as sns\n",
    "\n",
    "prj_dir = '/ahg/regevdata/projects/CRISPR-libraries/prj2/evolution/badran/'\n",
    "\n",
    "import sys, os\n",
    "sys.path.append(prj_dir + 'src/')\n",
    "import _config, _lib"
   ]
  },
  {
   "cell_type": "markdown",
   "metadata": {},
   "source": [
    "## interpolate"
   ]
  },
  {
   "cell_type": "code",
   "execution_count": 9,
   "metadata": {
    "ExecuteTime": {
     "end_time": "2020-04-20T15:54:44.325798Z",
     "start_time": "2020-04-20T15:54:44.315721Z"
    }
   },
   "outputs": [
    {
     "name": "stdout",
     "output_type": "stream",
     "text": [
      "[[0.5, 0.5], array([0.66666667, 0.33333333]), array([0.8, 0.2])]\n"
     ]
    }
   ],
   "source": [
    "fs = [\n",
    "    2,\n",
    "    1,\n",
    "]\n",
    "\n",
    "start_fqs = [\n",
    "    0.5,\n",
    "    0.5,\n",
    "]\n",
    "all_fqs = [start_fqs]\n",
    "\n",
    "for t in range(2):\n",
    "    fqs = all_fqs[-1]\n",
    "    mf = np.dot(fs, fqs)\n",
    "    changes = fs / mf\n",
    "    new_fqs = changes * fqs\n",
    "    all_fqs.append(new_fqs)\n",
    "    \n",
    "print(all_fqs)"
   ]
  },
  {
   "cell_type": "code",
   "execution_count": 51,
   "metadata": {
    "ExecuteTime": {
     "end_time": "2020-04-20T16:03:45.252663Z",
     "start_time": "2020-04-20T16:03:45.241960Z"
    }
   },
   "outputs": [
    {
     "name": "stdout",
     "output_type": "stream",
     "text": [
      "[[0.5, 0.5], [0.5173217448321853, 0.48267825516781476], [0.5346019613807635, 0.46539803861923645], [0.5517995186601091, 0.4482004813398909], [0.5688740722307839, 0.431125927769216], [0.585786437626905, 0.4142135623730951], [0.6024989407343607, 0.39750105926563917], [0.6189757386701197, 0.3810242613298804], [0.6351831056874557, 0.3648168943125442], [0.6510896797541331, 0.3489103202458669], [0.6666666666666666, 0.3333333333333334]]\n"
     ]
    }
   ],
   "source": [
    "t_res = 10\n",
    "\n",
    "adj_fs = [f**(1/t_res) for f in fs]\n",
    "\n",
    "interpolated_all_fqs = [start_fqs]\n",
    "\n",
    "for t in range(t_res):\n",
    "    fqs = interpolated_all_fqs[-1]\n",
    "    mf = np.dot(adj_fs, fqs)\n",
    "    changes = adj_fs / mf\n",
    "    new_fqs = changes * fqs\n",
    "    interpolated_all_fqs.append(list(new_fqs))\n",
    "    \n",
    "print(interpolated_all_fqs)"
   ]
  },
  {
   "cell_type": "markdown",
   "metadata": {},
   "source": [
    "## Confirm non-smoothness"
   ]
  },
  {
   "cell_type": "code",
   "execution_count": 10,
   "metadata": {
    "ExecuteTime": {
     "end_time": "2020-04-20T15:56:03.676556Z",
     "start_time": "2020-04-20T15:56:03.670797Z"
    }
   },
   "outputs": [],
   "source": [
    "# Make slightly different\n",
    "\n",
    "all_fqs = [\n",
    "    [0.5, 0.5],\n",
    "    [2/3, 1/3],\n",
    "    [0.75, 0.25],\n",
    "]"
   ]
  },
  {
   "cell_type": "code",
   "execution_count": 11,
   "metadata": {
    "ExecuteTime": {
     "end_time": "2020-04-20T15:57:14.547569Z",
     "start_time": "2020-04-20T15:57:14.537481Z"
    }
   },
   "outputs": [
    {
     "data": {
      "text/plain": [
       "[1.3333333333333333, 0.6666666666666666]"
      ]
     },
     "execution_count": 11,
     "metadata": {},
     "output_type": "execute_result"
    }
   ],
   "source": [
    "def calc_fitness(p1, p2):\n",
    "    return [s2/s1 for s1, s2 in zip(p1, p2)]\n",
    "\n",
    "calc_fitness([0.5, 0.5], [2/3, 1/3])"
   ]
  },
  {
   "cell_type": "code",
   "execution_count": 12,
   "metadata": {
    "ExecuteTime": {
     "end_time": "2020-04-20T15:57:52.615293Z",
     "start_time": "2020-04-20T15:57:52.606901Z"
    }
   },
   "outputs": [
    {
     "data": {
      "text/plain": [
       "[1.125, 0.75]"
      ]
     },
     "execution_count": 12,
     "metadata": {},
     "output_type": "execute_result"
    }
   ],
   "source": [
    "calc_fitness([2/3, 1/3], [0.75,  0.25])"
   ]
  },
  {
   "cell_type": "code",
   "execution_count": 52,
   "metadata": {
    "ExecuteTime": {
     "end_time": "2020-04-20T16:03:47.026196Z",
     "start_time": "2020-04-20T16:03:47.015116Z"
    }
   },
   "outputs": [
    {
     "name": "stdout",
     "output_type": "stream",
     "text": [
      "[[0.5, 0.5], [0.5173217448321853, 0.48267825516781476], [0.5346019613807635, 0.46539803861923645], [0.5517995186601091, 0.4482004813398909], [0.5688740722307839, 0.431125927769216], [0.585786437626905, 0.4142135623730951], [0.6024989407343607, 0.39750105926563917], [0.6189757386701197, 0.3810242613298804], [0.6351831056874557, 0.3648168943125442], [0.6510896797541331, 0.3489103202458669], [0.6666666666666666, 0.3333333333333334], [0.6756153037894976, 0.3243846962105025], [0.6844374200355421, 0.31556257996445797], [0.6931285847603696, 0.30687141523963046], [0.7016847098015395, 0.2983152901984605], [0.7101020514433644, 0.2898979485566356], [0.7183772107325528, 0.2816227892674473], [0.7265071322151069, 0.27349286778489307], [0.7344891011745941, 0.26551089882540585], [0.7423207394602197, 0.25767926053978013], [0.7500000000000001, 0.25]]\n"
     ]
    }
   ],
   "source": [
    "t_res = 10\n",
    "\n",
    "new_fs = calc_fitness([2/3, 1/3], [0.75,  0.25])\n",
    "adj_fs = [f**(1/t_res) for f in new_fs]\n",
    "\n",
    "for t in range(t_res):\n",
    "    fqs = interpolated_all_fqs[-1]\n",
    "    mf = np.dot(adj_fs, fqs)\n",
    "    changes = adj_fs / mf\n",
    "    new_fqs = changes * fqs\n",
    "    interpolated_all_fqs.append(list(new_fqs))\n",
    "    \n",
    "print(interpolated_all_fqs)"
   ]
  },
  {
   "cell_type": "code",
   "execution_count": 56,
   "metadata": {
    "ExecuteTime": {
     "end_time": "2020-04-20T16:04:27.342691Z",
     "start_time": "2020-04-20T16:04:27.139911Z"
    }
   },
   "outputs": [
    {
     "data": {
      "text/plain": [
       "[<matplotlib.lines.Line2D at 0x2b4bcdfb0048>]"
      ]
     },
     "execution_count": 56,
     "metadata": {},
     "output_type": "execute_result"
    },
    {
     "data": {
      "image/png": "[encoded data removed]",
      "text/plain": [
       "<Figure size 432x288 with 1 Axes>"
      ]
     },
     "metadata": {
      "needs_background": "light"
     },
     "output_type": "display_data"
    }
   ],
   "source": [
    "plt.plot(\n",
    "    range(len(interpolated_all_fqs)),\n",
    "    np.array(interpolated_all_fqs).T[0],\n",
    ")\n",
    "\n",
    "plt.plot(\n",
    "    range(len(interpolated_all_fqs)),\n",
    "    np.array(interpolated_all_fqs).T[1],\n",
    ")"
   ]
  },
  {
   "cell_type": "markdown",
   "metadata": {},
   "source": [
    "## Compare to linear interpolation"
   ]
  },
  {
   "cell_type": "code",
   "execution_count": 65,
   "metadata": {
    "ExecuteTime": {
     "end_time": "2020-04-20T16:16:23.922010Z",
     "start_time": "2020-04-20T16:16:23.912863Z"
    }
   },
   "outputs": [
    {
     "name": "stdout",
     "output_type": "stream",
     "text": [
      "[0.5, 0.5166666666666666, 0.5333333333333332, 0.5499999999999998, 0.5666666666666664, 0.583333333333333, 0.5999999999999996, 0.6166666666666663, 0.6333333333333329, 0.6499999999999995, 0.6666666666666661, 0.6749999999999999, 0.6833333333333332, 0.6916666666666665, 0.6999999999999998, 0.7083333333333331, 0.7166666666666665, 0.7249999999999998, 0.7333333333333331, 0.7416666666666664, 0.7499999999999997]\n"
     ]
    }
   ],
   "source": [
    "step = (2/3 - 0.5)/10\n",
    "linear_interpolated_fqs = list(np.arange(0.5, 2/3 + step - 0.01, step ))\n",
    "\n",
    "step = (0.75 - 2/3)/10\n",
    "linear_interpolated_fqs += list(np.arange(2/3 + step, 0.75 + step, step ))\n",
    "\n",
    "print(linear_interpolated_fqs)"
   ]
  },
  {
   "cell_type": "code",
   "execution_count": 67,
   "metadata": {
    "ExecuteTime": {
     "end_time": "2020-04-20T16:16:37.989771Z",
     "start_time": "2020-04-20T16:16:37.779395Z"
    }
   },
   "outputs": [
    {
     "data": {
      "text/plain": [
       "[<matplotlib.lines.Line2D at 0x2b4bce0f0358>]"
      ]
     },
     "execution_count": 67,
     "metadata": {},
     "output_type": "execute_result"
    },
    {
     "data": {
      "image/png": "[encoded data removed]",
      "text/plain": [
       "<Figure size 432x288 with 1 Axes>"
      ]
     },
     "metadata": {
      "needs_background": "light"
     },
     "output_type": "display_data"
    }
   ],
   "source": [
    "plt.plot(\n",
    "    range(len(interpolated_all_fqs)),\n",
    "    np.array(interpolated_all_fqs).T[0],\n",
    ")\n",
    "\n",
    "plt.plot(\n",
    "    range(len(interpolated_all_fqs)),\n",
    "    linear_interpolated_fqs,\n",
    ")"
   ]
  },
  {
   "cell_type": "code",
   "execution_count": null,
   "metadata": {},
   "outputs": [],
   "source": []
  }
 ],
 "metadata": {
  "kernelspec": {
   "display_name": "Python 3",
   "language": "python",
   "name": "python3"
  },
  "language_info": {
   "codemirror_mode": {
    "name": "ipython",
    "version": 3
   },
   "file_extension": ".py",
   "mimetype": "text/x-python",
   "name": "python",
   "nbconvert_exporter": "python",
   "pygments_lexer": "ipython3",
   "version": "3.7.3"
  }
 },
 "nbformat": 4,
 "nbformat_minor": 2
}
