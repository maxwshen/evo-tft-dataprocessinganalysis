{
 "cells": [
  {
   "cell_type": "code",
   "execution_count": 51,
   "metadata": {
    "ExecuteTime": {
     "end_time": "2020-04-08T20:25:08.369232Z",
     "start_time": "2020-04-08T20:25:08.360913Z"
    }
   },
   "outputs": [],
   "source": [
    "import numpy as np, matplotlib.pyplot as plt, pandas as pd, seaborn as sns\n",
    "\n",
    "import sys\n",
    "sys.path.append('/ahg/regevdata/projects/CRISPR-libraries/prj2/evolution/abe8e/src/')\n",
    "import _config, _lib\n",
    "\n",
    "sys.path.append('/home/unix/maxwshen/')\n",
    "from mylib import util\n",
    "\n",
    "notebook_nm = 'fig_compare_truth_to_inference'\n",
    "results_dir = _config.RESULTS_PLACE + f'{notebook_nm}/'\n",
    "util.ensure_dir_exists(results_dir)"
   ]
  },
  {
   "cell_type": "code",
   "execution_count": 66,
   "metadata": {
    "ExecuteTime": {
     "end_time": "2020-04-08T20:28:39.223112Z",
     "start_time": "2020-04-08T20:28:39.216709Z"
    }
   },
   "outputs": [],
   "source": [
    "# Edit me and run all cells below\n",
    "pnum = 1\n",
    "\n",
    "if pnum in [2, 3]:\n",
    "    datagroup = 'simple'\n",
    "else:\n",
    "    datagroup = 'simple_p1'"
   ]
  },
  {
   "cell_type": "code",
   "execution_count": 67,
   "metadata": {
    "ExecuteTime": {
     "end_time": "2020-04-08T20:28:39.762943Z",
     "start_time": "2020-04-08T20:28:39.390082Z"
    }
   },
   "outputs": [],
   "source": [
    "## Load data\n",
    "\n",
    "true_df = pd.read_csv(f'/ahg/regevdata/projects/CRISPR-libraries/prj2/evolution/abe8e/out/data_multi/pv_groundtruth_0.0pct_t5_p{pnum}.csv')\n",
    "\n",
    "true_df['Abbrev genotype'] = [_lib.full_to_abbrev(s) for s in true_df['Full genotype']]\n",
    "true_df = true_df.drop(columns = 'Full genotype')\n",
    "\n",
    "true_df.to_csv(results_dir + f'p{pnum}_ground_truth.csv')\n",
    "\n"
   ]
  },
  {
   "cell_type": "code",
   "execution_count": 68,
   "metadata": {
    "ExecuteTime": {
     "end_time": "2020-04-08T20:28:39.872501Z",
     "start_time": "2020-04-08T20:28:39.765019Z"
    }
   },
   "outputs": [],
   "source": [
    "true_melt_df = true_df.melt(\n",
    "    id_vars = 'Abbrev genotype',\n",
    "    var_name = 'Time',\n",
    "    value_name = 'Frequency (%)',\n",
    ")\n",
    "true_melt_df = true_melt_df.rename(columns = {'Frequency (%)': 'Observed frequency'})\n",
    "true_fq_col = 'Observed frequency'\n",
    "true_melt_df[true_fq_col] *= 100\n",
    "\n",
    "gts = sorted(list(set(true_df['Abbrev genotype'])))\n",
    "# colors = sns.color_palette('hls', int(len(gts) * 1.5))\n",
    "colors = sns.hls_palette(n_colors = int(len(gts) * 1.5), s = 0.95, l = 0.65)\n",
    "master_palette = {gt: color for gt, color in zip(gts, colors)}"
   ]
  },
  {
   "cell_type": "markdown",
   "metadata": {},
   "source": [
    "## Load inference"
   ]
  },
  {
   "cell_type": "code",
   "execution_count": 69,
   "metadata": {
    "ExecuteTime": {
     "end_time": "2020-04-08T20:28:39.931845Z",
     "start_time": "2020-04-08T20:28:39.874765Z"
    }
   },
   "outputs": [],
   "source": [
    "## Load an inference result\n",
    "\n",
    "def load_inferred(modelexp = 'modelexp_illumina', dataset_nm = '', title = ''):\n",
    "    inp_dir_g = _config.OUT_PLACE + f'g_collate_exps/'\n",
    "\n",
    "    # Pick from /data/modelexp_x.csv, dataset col\n",
    "    modelexp_design = pd.read_csv(_config.DATA_DIR + f'{modelexp}.csv')\n",
    "    row = modelexp_design[modelexp_design['dataset'] == dataset_nm].iloc[0]\n",
    "    tdf_dict = _lib.load_true_df_from_row(row)\n",
    "    true_df = tdf_dict['true_df']\n",
    "    idx_to_col = tdf_dict['idx_to_col']\n",
    "    true_df_name = tdf_dict['memoize_key']\n",
    "    nm = row['Name']\n",
    "\n",
    "    df_fn = f'{inp_dir_g}/{modelexp}/genotype_matrix_{nm}.csv'\n",
    "\n",
    "    df = pd.read_csv(df_fn, index_col = 0)\n",
    "    \n",
    "    df['Abbrev genotype'] = df.index\n",
    "#     df['Full genotype'] = [_lib.abbrev_to_full(s, true_df) for s in list(df['Abbrev genotype'])]\n",
    "    df = df.rename(columns = idx_to_col)\n",
    "    df = df.reset_index(drop = True)\n",
    "#     df = df.drop(columns = ['Full genotype'])\n",
    "\n",
    "    melt_df = df.melt(\n",
    "        id_vars = 'Abbrev genotype',\n",
    "        var_name = 'Time',\n",
    "        value_name = 'Frequency (%)',\n",
    "    )\n",
    "    melt_df['Frequency (%)'] *= 100\n",
    "    \n",
    "    return melt_df\n",
    "\n",
    "\n",
    "pred_df = load_inferred(\n",
    "    modelexp = f'modelexp_{datagroup}_rs', \n",
    "    dataset_nm = f'{datagroup}--pace_num-{pnum}--threshold-5--read_len-100--min_gt_frequency-0.0--proposal_type-smart',\n",
    ")\n",
    "pred_df = pred_df.rename(columns = {'Frequency (%)': 'Predicted frequency (%)'})\n",
    "pred_fq_col = 'Predicted frequency (%)'\n",
    "\n",
    "inference_nm = f'p{pnum}_rl100'\n",
    "\n",
    "pv_pred_df = pred_df.pivot(index = 'Abbrev genotype', columns = 'Time', values = 'Predicted frequency (%)')\n",
    "pv_pred_df.to_csv(results_dir + f'{inference_nm}.csv')"
   ]
  },
  {
   "cell_type": "code",
   "execution_count": 70,
   "metadata": {
    "ExecuteTime": {
     "end_time": "2020-04-08T20:28:40.148631Z",
     "start_time": "2020-04-08T20:28:39.962671Z"
    }
   },
   "outputs": [
    {
     "data": {
      "text/html": [
       "<div>\n",
       "<style scoped>\n",
       "    .dataframe tbody tr th:only-of-type {\n",
       "        vertical-align: middle;\n",
       "    }\n",
       "\n",
       "    .dataframe tbody tr th {\n",
       "        vertical-align: top;\n",
       "    }\n",
       "\n",
       "    .dataframe thead th {\n",
       "        text-align: right;\n",
       "    }\n",
       "</style>\n",
       "<table border=\"1\" class=\"dataframe\">\n",
       "  <thead>\n",
       "    <tr style=\"text-align: right;\">\n",
       "      <th></th>\n",
       "      <th>Abbrev genotype</th>\n",
       "      <th>Time</th>\n",
       "      <th>Observed frequency</th>\n",
       "      <th>Predicted frequency (%)</th>\n",
       "    </tr>\n",
       "  </thead>\n",
       "  <tbody>\n",
       "    <tr>\n",
       "      <th>0</th>\n",
       "      <td>..........................G</td>\n",
       "      <td>t01</td>\n",
       "      <td>0.080099</td>\n",
       "      <td>0.055921</td>\n",
       "    </tr>\n",
       "    <tr>\n",
       "      <th>1</th>\n",
       "      <td>..........................N</td>\n",
       "      <td>t01</td>\n",
       "      <td>0.033816</td>\n",
       "      <td>0.052745</td>\n",
       "    </tr>\n",
       "    <tr>\n",
       "      <th>2</th>\n",
       "      <td>.........................I.</td>\n",
       "      <td>t01</td>\n",
       "      <td>0.014145</td>\n",
       "      <td>0.049006</td>\n",
       "    </tr>\n",
       "    <tr>\n",
       "      <th>3</th>\n",
       "      <td>........................T..</td>\n",
       "      <td>t01</td>\n",
       "      <td>0.050814</td>\n",
       "      <td>0.051829</td>\n",
       "    </tr>\n",
       "    <tr>\n",
       "      <th>4</th>\n",
       "      <td>........................T.G</td>\n",
       "      <td>t01</td>\n",
       "      <td>0.000000</td>\n",
       "      <td>0.000000</td>\n",
       "    </tr>\n",
       "  </tbody>\n",
       "</table>\n",
       "</div>"
      ],
      "text/plain": [
       "               Abbrev genotype Time  Observed frequency  \\\n",
       "0  ..........................G  t01            0.080099   \n",
       "1  ..........................N  t01            0.033816   \n",
       "2  .........................I.  t01            0.014145   \n",
       "3  ........................T..  t01            0.050814   \n",
       "4  ........................T.G  t01            0.000000   \n",
       "\n",
       "   Predicted frequency (%)  \n",
       "0                 0.055921  \n",
       "1                 0.052745  \n",
       "2                 0.049006  \n",
       "3                 0.051829  \n",
       "4                 0.000000  "
      ]
     },
     "execution_count": 70,
     "metadata": {},
     "output_type": "execute_result"
    }
   ],
   "source": [
    "id_cols = ['Abbrev genotype', 'Time']\n",
    "dfm = true_melt_df.merge(pred_df, on = id_cols, how = 'outer')\n",
    "dfm = dfm.fillna(value = 0)\n",
    "\n",
    "dfm.head()"
   ]
  },
  {
   "cell_type": "code",
   "execution_count": 71,
   "metadata": {
    "ExecuteTime": {
     "end_time": "2020-04-08T20:28:40.296638Z",
     "start_time": "2020-04-08T20:28:40.150662Z"
    }
   },
   "outputs": [
    {
     "data": {
      "text/html": [
       "<div>\n",
       "<style scoped>\n",
       "    .dataframe tbody tr th:only-of-type {\n",
       "        vertical-align: middle;\n",
       "    }\n",
       "\n",
       "    .dataframe tbody tr th {\n",
       "        vertical-align: top;\n",
       "    }\n",
       "\n",
       "    .dataframe thead th {\n",
       "        text-align: right;\n",
       "    }\n",
       "</style>\n",
       "<table border=\"1\" class=\"dataframe\">\n",
       "  <thead>\n",
       "    <tr style=\"text-align: right;\">\n",
       "      <th></th>\n",
       "      <th>Abbrev genotype</th>\n",
       "      <th>Time</th>\n",
       "      <th>Observed frequency</th>\n",
       "      <th>Predicted frequency (%)</th>\n",
       "      <th>Sample number</th>\n",
       "    </tr>\n",
       "  </thead>\n",
       "  <tbody>\n",
       "    <tr>\n",
       "      <th>0</th>\n",
       "      <td>..........................G</td>\n",
       "      <td>t01</td>\n",
       "      <td>0.080099</td>\n",
       "      <td>0.055921</td>\n",
       "      <td>1</td>\n",
       "    </tr>\n",
       "    <tr>\n",
       "      <th>1</th>\n",
       "      <td>..........................N</td>\n",
       "      <td>t01</td>\n",
       "      <td>0.033816</td>\n",
       "      <td>0.052745</td>\n",
       "      <td>1</td>\n",
       "    </tr>\n",
       "    <tr>\n",
       "      <th>2</th>\n",
       "      <td>.........................I.</td>\n",
       "      <td>t01</td>\n",
       "      <td>0.014145</td>\n",
       "      <td>0.049006</td>\n",
       "      <td>1</td>\n",
       "    </tr>\n",
       "    <tr>\n",
       "      <th>3</th>\n",
       "      <td>........................T..</td>\n",
       "      <td>t01</td>\n",
       "      <td>0.050814</td>\n",
       "      <td>0.051829</td>\n",
       "      <td>1</td>\n",
       "    </tr>\n",
       "    <tr>\n",
       "      <th>4</th>\n",
       "      <td>........................T.G</td>\n",
       "      <td>t01</td>\n",
       "      <td>0.000000</td>\n",
       "      <td>0.000000</td>\n",
       "      <td>1</td>\n",
       "    </tr>\n",
       "  </tbody>\n",
       "</table>\n",
       "</div>"
      ],
      "text/plain": [
       "               Abbrev genotype Time  Observed frequency  \\\n",
       "0  ..........................G  t01            0.080099   \n",
       "1  ..........................N  t01            0.033816   \n",
       "2  .........................I.  t01            0.014145   \n",
       "3  ........................T..  t01            0.050814   \n",
       "4  ........................T.G  t01            0.000000   \n",
       "\n",
       "   Predicted frequency (%)  Sample number  \n",
       "0                 0.055921              1  \n",
       "1                 0.052745              1  \n",
       "2                 0.049006              1  \n",
       "3                 0.051829              1  \n",
       "4                 0.000000              1  "
      ]
     },
     "execution_count": 71,
     "metadata": {},
     "output_type": "execute_result"
    }
   ],
   "source": [
    "ts = sorted(list(set(dfm['Time'])))\n",
    "t_to_sample_num = {t: idx + 1 for idx, t in enumerate(ts)}\n",
    "dfm['Sample number'] = [t_to_sample_num[t] for t in dfm['Time']]\n",
    "\n",
    "dfm.head()"
   ]
  },
  {
   "cell_type": "markdown",
   "metadata": {},
   "source": [
    "## Pearson correlation across time"
   ]
  },
  {
   "cell_type": "code",
   "execution_count": 72,
   "metadata": {
    "ExecuteTime": {
     "end_time": "2020-04-08T20:28:41.121515Z",
     "start_time": "2020-04-08T20:28:40.480689Z"
    }
   },
   "outputs": [],
   "source": [
    "from collections import defaultdict\n",
    "from scipy.stats import pearsonr\n",
    "dd = defaultdict(list)\n",
    "\n",
    "\n",
    "for t in sorted(list(set(dfm['Time']))):\n",
    "    dfs = dfm[dfm['Time'] == t]\n",
    "    \n",
    "    pr, pval = pearsonr(dfs[true_fq_col], dfs[pred_fq_col])\n",
    "    dd['Time'].append(t)\n",
    "    dd['R'].append(pr)\n",
    "    dd['Sample number'].append(dfs['Sample number'].iloc[0])\n",
    "    \n",
    "stats_df = pd.DataFrame(dd)"
   ]
  },
  {
   "cell_type": "code",
   "execution_count": 73,
   "metadata": {
    "ExecuteTime": {
     "end_time": "2020-04-08T20:28:41.933313Z",
     "start_time": "2020-04-08T20:28:41.123576Z"
    }
   },
   "outputs": [
    {
     "name": "stdout",
     "output_type": "stream",
     "text": [
      "Saving to /ahg/regevdata/projects/CRISPR-libraries/prj2/evolution/abe8e/results/fig_compare_truth_to_inference/time_r_p1_rl100.pdf ...\n"
     ]
    },
    {
     "data": {
      "image/png": "[encoded data removed]",
      "text/plain": [
       "<Figure size 504x360 with 1 Axes>"
      ]
     },
     "metadata": {
      "needs_background": "light"
     },
     "output_type": "display_data"
    }
   ],
   "source": [
    "#\n",
    "import matplotlib\n",
    "matplotlib.rc('font', family = 'Arial', size = 15)\n",
    "matplotlib.rcParams['mathtext.fontset'] = 'custom'\n",
    "matplotlib.rcParams['mathtext.it'] = 'Arial:italic'\n",
    "#\n",
    "fig, ax = plt.subplots(figsize = (7, 5))\n",
    "\n",
    "\n",
    "sns.scatterplot(\n",
    "    x = 'Sample number',\n",
    "    y = 'R',\n",
    "    data = stats_df,\n",
    "    color = '#86898c',\n",
    "    s = 60,\n",
    ")\n",
    "sns.despine()\n",
    "plt.grid(alpha = 0.2)\n",
    "# plt.xticks(np.arange(0, 528 + 48, 48))\n",
    "plt.ylim([0, 1.03])\n",
    "# plt.xlim([-10, 528 + 5])\n",
    "\n",
    "plt.xlabel('Sample number')\n",
    "plt.ylabel('Pearson correlation between observed\\nand predicted genotype frequencies')\n",
    "\n",
    "plt.tight_layout()\n",
    "\n",
    "##\n",
    "\n",
    "sns.despine(trim = True)\n",
    "ax.tick_params(length = 4.5, color = 'black', width = 1.5)\n",
    "for axis in ['bottom', 'left']:\n",
    "    ax.spines[axis].set_linewidth(1.5)\n",
    "    ax.spines[axis].set_color('black')\n",
    "\n",
    "matplotlib.rcParams['pdf.fonttype'] = 42\n",
    "matplotlib.rcParams['ps.fonttype'] = 42\n",
    "\n",
    "out_fn = results_dir + f'time_r_{inference_nm}.pdf'\n",
    "print(f'Saving to {out_fn} ...')\n",
    "plt.savefig(out_fn, transparent = True, bbox_inches = 'tight')\n",
    "\n",
    "plt.show()\n",
    "plt.close()\n",
    "##"
   ]
  },
  {
   "cell_type": "code",
   "execution_count": 74,
   "metadata": {
    "ExecuteTime": {
     "end_time": "2020-04-08T20:28:41.961306Z",
     "start_time": "2020-04-08T20:28:41.935585Z"
    }
   },
   "outputs": [
    {
     "name": "stdout",
     "output_type": "stream",
     "text": [
      "Pearsonr stats across samples\n"
     ]
    },
    {
     "data": {
      "text/plain": [
       "count    36.000000\n",
       "mean      0.894260\n",
       "std       0.138881\n",
       "min       0.511750\n",
       "25%       0.885308\n",
       "50%       0.968368\n",
       "75%       0.976648\n",
       "max       0.978369\n",
       "Name: R, dtype: float64"
      ]
     },
     "execution_count": 74,
     "metadata": {},
     "output_type": "execute_result"
    }
   ],
   "source": [
    "print(f'Pearsonr stats across samples')\n",
    "stats_df['R'].describe()"
   ]
  },
  {
   "cell_type": "code",
   "execution_count": 75,
   "metadata": {
    "ExecuteTime": {
     "end_time": "2020-04-08T20:28:42.320445Z",
     "start_time": "2020-04-08T20:28:41.963724Z"
    }
   },
   "outputs": [
    {
     "name": "stdout",
     "output_type": "stream",
     "text": [
      "Saving to /ahg/regevdata/projects/CRISPR-libraries/prj2/evolution/abe8e/results/fig_compare_truth_to_inference/time_r_strip_p1_rl100.pdf ...\n"
     ]
    },
    {
     "data": {
      "image/png": "[encoded data removed]",
      "text/plain": [
       "<Figure size 216x360 with 1 Axes>"
      ]
     },
     "metadata": {
      "needs_background": "light"
     },
     "output_type": "display_data"
    }
   ],
   "source": [
    "#\n",
    "import matplotlib\n",
    "matplotlib.rc('font', family = 'Arial', size = 15)\n",
    "matplotlib.rcParams['mathtext.fontset'] = 'custom'\n",
    "matplotlib.rcParams['mathtext.it'] = 'Arial:italic'\n",
    "#\n",
    "fig, ax = plt.subplots(figsize = (3, 5))\n",
    "\n",
    "\n",
    "sns.violinplot(\n",
    "    y = 'R',\n",
    "    data = stats_df,\n",
    "    color = 'white',\n",
    "    alpha = 0.1,\n",
    "    cut = 0,\n",
    "    inner = None,\n",
    "    bw = 0.3,\n",
    "    fliersize = 0,\n",
    ")\n",
    "sns.swarmplot(\n",
    "    y = 'R',\n",
    "    data = stats_df,\n",
    "    color = '#86898c',\n",
    "    alpha = 1,\n",
    "    s = 6,\n",
    ")\n",
    "sns.despine()\n",
    "# plt.grid(alpha = 0.2)\n",
    "# plt.xticks(np.arange(0, 528 + 48, 48))\n",
    "plt.ylim([0, 1.03])\n",
    "# plt.xlim([-10, 528 + 5])\n",
    "ax.xaxis.set_ticks_position('none') \n",
    "\n",
    "# plt.xlabel('Time (h)')\n",
    "plt.ylabel('Pearson correlation between observed and\\npredicted genotype frequencies by timepoint')\n",
    "\n",
    "plt.tight_layout()\n",
    "\n",
    "##\n",
    "\n",
    "sns.despine(trim = True)\n",
    "ax.tick_params(length = 4.5, color = 'black', width = 1.5)\n",
    "for axis in ['bottom', 'left']:\n",
    "    ax.spines[axis].set_linewidth(1.5)\n",
    "    ax.spines[axis].set_color('black')\n",
    "\n",
    "matplotlib.rcParams['pdf.fonttype'] = 42\n",
    "matplotlib.rcParams['ps.fonttype'] = 42\n",
    "\n",
    "out_fn = results_dir + f'time_r_strip_{inference_nm}.pdf'\n",
    "print(f'Saving to {out_fn} ...')\n",
    "plt.savefig(out_fn, transparent = True, bbox_inches = 'tight')\n",
    "\n",
    "plt.show()\n",
    "plt.close()\n",
    "##"
   ]
  },
  {
   "cell_type": "code",
   "execution_count": 76,
   "metadata": {
    "ExecuteTime": {
     "end_time": "2020-04-08T20:28:42.340387Z",
     "start_time": "2020-04-08T20:28:42.322201Z"
    }
   },
   "outputs": [
    {
     "data": {
      "text/html": [
       "<div>\n",
       "<style scoped>\n",
       "    .dataframe tbody tr th:only-of-type {\n",
       "        vertical-align: middle;\n",
       "    }\n",
       "\n",
       "    .dataframe tbody tr th {\n",
       "        vertical-align: top;\n",
       "    }\n",
       "\n",
       "    .dataframe thead th {\n",
       "        text-align: right;\n",
       "    }\n",
       "</style>\n",
       "<table border=\"1\" class=\"dataframe\">\n",
       "  <thead>\n",
       "    <tr style=\"text-align: right;\">\n",
       "      <th></th>\n",
       "      <th>Time</th>\n",
       "      <th>R</th>\n",
       "      <th>Sample number</th>\n",
       "    </tr>\n",
       "  </thead>\n",
       "  <tbody>\n",
       "    <tr>\n",
       "      <th>32</th>\n",
       "      <td>t82</td>\n",
       "      <td>0.511750</td>\n",
       "      <td>33</td>\n",
       "    </tr>\n",
       "    <tr>\n",
       "      <th>31</th>\n",
       "      <td>t81</td>\n",
       "      <td>0.572216</td>\n",
       "      <td>32</td>\n",
       "    </tr>\n",
       "    <tr>\n",
       "      <th>33</th>\n",
       "      <td>t83</td>\n",
       "      <td>0.585482</td>\n",
       "      <td>34</td>\n",
       "    </tr>\n",
       "    <tr>\n",
       "      <th>30</th>\n",
       "      <td>t80</td>\n",
       "      <td>0.611420</td>\n",
       "      <td>31</td>\n",
       "    </tr>\n",
       "    <tr>\n",
       "      <th>34</th>\n",
       "      <td>t84</td>\n",
       "      <td>0.616971</td>\n",
       "      <td>35</td>\n",
       "    </tr>\n",
       "    <tr>\n",
       "      <th>29</th>\n",
       "      <td>t79</td>\n",
       "      <td>0.762654</td>\n",
       "      <td>30</td>\n",
       "    </tr>\n",
       "    <tr>\n",
       "      <th>27</th>\n",
       "      <td>t48</td>\n",
       "      <td>0.812101</td>\n",
       "      <td>28</td>\n",
       "    </tr>\n",
       "    <tr>\n",
       "      <th>28</th>\n",
       "      <td>t49</td>\n",
       "      <td>0.841689</td>\n",
       "      <td>29</td>\n",
       "    </tr>\n",
       "    <tr>\n",
       "      <th>26</th>\n",
       "      <td>t47</td>\n",
       "      <td>0.842795</td>\n",
       "      <td>27</td>\n",
       "    </tr>\n",
       "    <tr>\n",
       "      <th>25</th>\n",
       "      <td>t46</td>\n",
       "      <td>0.899480</td>\n",
       "      <td>26</td>\n",
       "    </tr>\n",
       "  </tbody>\n",
       "</table>\n",
       "</div>"
      ],
      "text/plain": [
       "   Time         R  Sample number\n",
       "32  t82  0.511750             33\n",
       "31  t81  0.572216             32\n",
       "33  t83  0.585482             34\n",
       "30  t80  0.611420             31\n",
       "34  t84  0.616971             35\n",
       "29  t79  0.762654             30\n",
       "27  t48  0.812101             28\n",
       "28  t49  0.841689             29\n",
       "26  t47  0.842795             27\n",
       "25  t46  0.899480             26"
      ]
     },
     "execution_count": 76,
     "metadata": {},
     "output_type": "execute_result"
    }
   ],
   "source": [
    "stats_df.sort_values(by = 'R', ascending = True).iloc[:10]"
   ]
  },
  {
   "cell_type": "markdown",
   "metadata": {},
   "source": [
    "## Genotype scatter plot"
   ]
  },
  {
   "cell_type": "code",
   "execution_count": 77,
   "metadata": {
    "ExecuteTime": {
     "end_time": "2020-04-08T20:28:43.922857Z",
     "start_time": "2020-04-08T20:28:42.342639Z"
    },
    "code_folding": []
   },
   "outputs": [
    {
     "name": "stdout",
     "output_type": "stream",
     "text": [
      "Plotting only top 30 genotypes\n",
      "Saving to /ahg/regevdata/projects/CRISPR-libraries/prj2/evolution/abe8e/results/fig_compare_truth_to_inference/gts_scatter_p1_rl100.pdf ...\n"
     ]
    },
    {
     "data": {
      "image/png": "[encoded data removed]",
      "text/plain": [
       "<Figure size 360x360 with 1 Axes>"
      ]
     },
     "metadata": {
      "needs_background": "light"
     },
     "output_type": "display_data"
    }
   ],
   "source": [
    "#\n",
    "import matplotlib\n",
    "matplotlib.rc('font', family = 'Arial', size = 15)\n",
    "matplotlib.rcParams['mathtext.fontset'] = 'custom'\n",
    "matplotlib.rcParams['mathtext.it'] = 'Arial:italic'\n",
    "#\n",
    "fig, ax = plt.subplots(figsize = (5, 5))\n",
    "\n",
    "# Truncate\n",
    "test_dfs = dfm.groupby('Abbrev genotype')['Observed frequency'].agg('max').reset_index()\n",
    "top_n = 30\n",
    "top_gts = list(test_dfs.sort_values(by = 'Observed frequency', ascending = False)['Abbrev genotype'].iloc[:top_n])\n",
    "print(f'Plotting only top {top_n} genotypes')\n",
    "\n",
    "\n",
    "# for gt in set(dfm['Abbrev genotype']):\n",
    "for gt in top_gts:\n",
    "    dfs = dfm[dfm['Abbrev genotype'] == gt]\n",
    "    \n",
    "    # Dots\n",
    "    plt.plot(\n",
    "        dfs[true_fq_col],\n",
    "        dfs[pred_fq_col],\n",
    "        # color = master_palette[gt] if gt in master_palette else '#b6b9bc',\n",
    "        color = '#b6b9bc',\n",
    "        marker = 'o',\n",
    "        markeredgecolor = 'white',\n",
    "        markeredgewidth = 0.5,\n",
    "        markersize = 7,\n",
    "        linewidth = 0,\n",
    "    )\n",
    "    \n",
    "    # Lines\n",
    "    plt.plot(\n",
    "        dfs[true_fq_col],\n",
    "        dfs[pred_fq_col],\n",
    "        # color = master_palette[gt] if gt in master_palette else '#b6b9bc',\n",
    "        color = '#b6b9bc',\n",
    "        markersize = 0,\n",
    "        linewidth = 1.5,\n",
    "        alpha = 0.3,\n",
    "    )\n",
    "\n",
    "sns.despine()\n",
    "plt.grid(alpha = 0.2)\n",
    "plt.xlabel('Observed fraction of sequenced reads (%)')\n",
    "plt.ylabel('Predicted fraction of sequenced reads (%)')\n",
    "# plt.xlim(left = 0, right = 101)\n",
    "# plt.ylim(bottom = 0, top = 101)\n",
    "\n",
    "plt.tight_layout()\n",
    "\n",
    "##\n",
    "\n",
    "sns.despine(trim = True)\n",
    "ax.tick_params(length = 4.5, color = 'black', width = 1.5)\n",
    "for axis in ['bottom', 'left']:\n",
    "    ax.spines[axis].set_linewidth(1.5)\n",
    "    ax.spines[axis].set_color('black')\n",
    "\n",
    "matplotlib.rcParams['pdf.fonttype'] = 42\n",
    "matplotlib.rcParams['ps.fonttype'] = 42\n",
    "\n",
    "out_fn = results_dir + f'gts_scatter_{inference_nm}.pdf'\n",
    "print(f'Saving to {out_fn} ...')\n",
    "plt.savefig(out_fn, transparent = True, bbox_inches = 'tight')\n",
    "\n",
    "plt.show()\n",
    "plt.close()\n",
    "##"
   ]
  },
  {
   "cell_type": "code",
   "execution_count": 78,
   "metadata": {
    "ExecuteTime": {
     "end_time": "2020-04-08T20:28:44.050967Z",
     "start_time": "2020-04-08T20:28:44.039528Z"
    }
   },
   "outputs": [
    {
     "name": "stdout",
     "output_type": "stream",
     "text": [
      "Pearson correlation between predictions and observations, across all timepoints and genotypes\n",
      "pr^2 = 0.8724007545704342\n"
     ]
    }
   ],
   "source": [
    "print(f'Pearson correlation between predictions and observations, across all timepoints and genotypes')\n",
    "pr, pval = pearsonr(dfm[true_fq_col], dfm[pred_fq_col])\n",
    "\n",
    "print(f'pr^2 = {pr**2}')"
   ]
  },
  {
   "cell_type": "code",
   "execution_count": null,
   "metadata": {},
   "outputs": [],
   "source": []
  }
 ],
 "metadata": {
  "kernelspec": {
   "display_name": "Python 3",
   "language": "python",
   "name": "python3"
  },
  "language_info": {
   "codemirror_mode": {
    "name": "ipython",
    "version": 3
   },
   "file_extension": ".py",
   "mimetype": "text/x-python",
   "name": "python",
   "nbconvert_exporter": "python",
   "pygments_lexer": "ipython3",
   "version": "3.7.3"
  }
 },
 "nbformat": 4,
 "nbformat_minor": 2
}
