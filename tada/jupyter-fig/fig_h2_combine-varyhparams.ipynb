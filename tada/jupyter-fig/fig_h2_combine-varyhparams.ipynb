{
 "cells": [
  {
   "cell_type": "code",
   "execution_count": 1,
   "metadata": {
    "ExecuteTime": {
     "end_time": "2020-04-15T16:46:19.123282Z",
     "start_time": "2020-04-15T16:46:16.601785Z"
    }
   },
   "outputs": [
    {
     "name": "stdout",
     "output_type": "stream",
     "text": [
      "Using data folder:\n",
      " /ahg/regevdata/projects/CRISPR-libraries/prj2/evolution/abe8e/data/\n"
     ]
    }
   ],
   "source": [
    "import numpy as np, matplotlib.pyplot as plt, pandas as pd, seaborn as sns\n",
    "\n",
    "import sys\n",
    "sys.path.append('/ahg/regevdata/projects/CRISPR-libraries/prj2/evolution/abe8e/src/')\n",
    "import _config\n",
    "\n",
    "sys.path.append('/home/unix/maxwshen/')\n",
    "from mylib import util\n",
    "\n",
    "notebook_nm = 'fig_h2_combine-varyhparams'\n",
    "results_dir = _config.RESULTS_PLACE + f'{notebook_nm}/'\n",
    "util.ensure_dir_exists(results_dir)\n",
    "\n",
    "import h2_combine as parent_script"
   ]
  },
  {
   "cell_type": "code",
   "execution_count": 2,
   "metadata": {
    "ExecuteTime": {
     "end_time": "2020-04-15T16:46:34.735590Z",
     "start_time": "2020-04-15T16:46:34.551695Z"
    }
   },
   "outputs": [
    {
     "name": "stdout",
     "output_type": "stream",
     "text": [
      "Index(['Int name', 'Random seed', 'Dataset', 'Pearsonr (overall)',\n",
      "       'TimewiseR count', 'TimewiseR mean', 'TimewiseR std', 'TimewiseR min',\n",
      "       'TimewiseR 25%', 'TimewiseR 50%', 'TimewiseR 75%', 'TimewiseR max',\n",
      "       'pace_num', 'threshold', 'read_len', 'min_gt_frequency',\n",
      "       'proposal_type', 'R2 overall', 'random_seed', 'alpha_marginal',\n",
      "       'beta_skew', 'dataset', 'Name'],\n",
      "      dtype='object')\n",
      "(956, 23)\n"
     ]
    }
   ],
   "source": [
    "modelexp_nm = 'modelexp_simplev2_rs'\n",
    "\n",
    "df = pd.read_csv(parent_script.out_dir + f'{modelexp_nm}.csv', index_col = 0)\n",
    "df['R2 overall'] = df['Pearsonr (overall)']**2\n",
    "df.loc[df['read_len'] == 1, 'read_len'] = 3\n",
    "df.loc[df['proposal_type'] == 'smart', 'proposal_type'] = 'Default'\n",
    "\n",
    "# hparam annotations\n",
    "modelexp_df = pd.read_csv(_config.DATA_DIR + f'{modelexp_nm}.csv')\n",
    "modelexp_df['Int name'] = modelexp_df['Name']\n",
    "\n",
    "df = df.merge(modelexp_df, on = 'Int name')\n",
    "\n",
    "print(df.columns)\n",
    "print(df.shape)\n",
    "\n",
    "df.to_csv(results_dir + f'{modelexp_nm}.csv')"
   ]
  },
  {
   "cell_type": "markdown",
   "metadata": {},
   "source": [
    "## plot"
   ]
  },
  {
   "cell_type": "code",
   "execution_count": 3,
   "metadata": {
    "ExecuteTime": {
     "end_time": "2020-04-15T16:46:53.009398Z",
     "start_time": "2020-04-15T16:46:52.960110Z"
    }
   },
   "outputs": [
    {
     "data": {
      "text/html": [
       "<div>\n",
       "<style scoped>\n",
       "    .dataframe tbody tr th:only-of-type {\n",
       "        vertical-align: middle;\n",
       "    }\n",
       "\n",
       "    .dataframe tbody tr th {\n",
       "        vertical-align: top;\n",
       "    }\n",
       "\n",
       "    .dataframe thead th {\n",
       "        text-align: right;\n",
       "    }\n",
       "</style>\n",
       "<table border=\"1\" class=\"dataframe\">\n",
       "  <thead>\n",
       "    <tr style=\"text-align: right;\">\n",
       "      <th>beta_skew</th>\n",
       "      <th>0.0</th>\n",
       "      <th>0.0001</th>\n",
       "      <th>0.0003</th>\n",
       "      <th>0.001</th>\n",
       "      <th>0.003</th>\n",
       "      <th>0.01</th>\n",
       "      <th>0.03</th>\n",
       "      <th>0.1</th>\n",
       "      <th>0.3</th>\n",
       "      <th>1.0</th>\n",
       "    </tr>\n",
       "    <tr>\n",
       "      <th>alpha_marginal</th>\n",
       "      <th></th>\n",
       "      <th></th>\n",
       "      <th></th>\n",
       "      <th></th>\n",
       "      <th></th>\n",
       "      <th></th>\n",
       "      <th></th>\n",
       "      <th></th>\n",
       "      <th></th>\n",
       "      <th></th>\n",
       "    </tr>\n",
       "  </thead>\n",
       "  <tbody>\n",
       "    <tr>\n",
       "      <th>0.1</th>\n",
       "      <td>0.086574</td>\n",
       "      <td>0.086103</td>\n",
       "      <td>0.086636</td>\n",
       "      <td>0.086177</td>\n",
       "      <td>0.083821</td>\n",
       "      <td>0.086182</td>\n",
       "      <td>0.086648</td>\n",
       "      <td>0.086762</td>\n",
       "      <td>0.089244</td>\n",
       "      <td>0.087139</td>\n",
       "    </tr>\n",
       "    <tr>\n",
       "      <th>0.3</th>\n",
       "      <td>0.604652</td>\n",
       "      <td>0.602015</td>\n",
       "      <td>0.604827</td>\n",
       "      <td>0.604647</td>\n",
       "      <td>0.598121</td>\n",
       "      <td>0.605880</td>\n",
       "      <td>0.602210</td>\n",
       "      <td>0.608208</td>\n",
       "      <td>0.615843</td>\n",
       "      <td>0.385968</td>\n",
       "    </tr>\n",
       "    <tr>\n",
       "      <th>0.5</th>\n",
       "      <td>0.660825</td>\n",
       "      <td>0.661957</td>\n",
       "      <td>0.662023</td>\n",
       "      <td>0.661443</td>\n",
       "      <td>0.664611</td>\n",
       "      <td>0.661827</td>\n",
       "      <td>0.662793</td>\n",
       "      <td>0.663458</td>\n",
       "      <td>0.660904</td>\n",
       "      <td>0.651612</td>\n",
       "    </tr>\n",
       "    <tr>\n",
       "      <th>1.0</th>\n",
       "      <td>0.704220</td>\n",
       "      <td>0.704483</td>\n",
       "      <td>0.703391</td>\n",
       "      <td>0.704179</td>\n",
       "      <td>0.704374</td>\n",
       "      <td>0.703722</td>\n",
       "      <td>0.704197</td>\n",
       "      <td>0.705116</td>\n",
       "      <td>0.706567</td>\n",
       "      <td>0.704878</td>\n",
       "    </tr>\n",
       "    <tr>\n",
       "      <th>3.0</th>\n",
       "      <td>0.788787</td>\n",
       "      <td>0.785926</td>\n",
       "      <td>0.785719</td>\n",
       "      <td>0.786559</td>\n",
       "      <td>0.785651</td>\n",
       "      <td>0.785478</td>\n",
       "      <td>0.784730</td>\n",
       "      <td>0.785540</td>\n",
       "      <td>0.782155</td>\n",
       "      <td>0.780622</td>\n",
       "    </tr>\n",
       "    <tr>\n",
       "      <th>5.0</th>\n",
       "      <td>0.810305</td>\n",
       "      <td>0.810289</td>\n",
       "      <td>0.806770</td>\n",
       "      <td>0.810312</td>\n",
       "      <td>0.810342</td>\n",
       "      <td>0.810303</td>\n",
       "      <td>0.812884</td>\n",
       "      <td>0.810284</td>\n",
       "      <td>0.810389</td>\n",
       "      <td>0.810320</td>\n",
       "    </tr>\n",
       "    <tr>\n",
       "      <th>10.0</th>\n",
       "      <td>0.823598</td>\n",
       "      <td>0.824875</td>\n",
       "      <td>0.824882</td>\n",
       "      <td>0.824995</td>\n",
       "      <td>0.824318</td>\n",
       "      <td>0.825676</td>\n",
       "      <td>0.824854</td>\n",
       "      <td>0.824870</td>\n",
       "      <td>0.825850</td>\n",
       "      <td>0.824645</td>\n",
       "    </tr>\n",
       "    <tr>\n",
       "      <th>30.0</th>\n",
       "      <td>0.836460</td>\n",
       "      <td>0.836362</td>\n",
       "      <td>0.836306</td>\n",
       "      <td>0.836427</td>\n",
       "      <td>0.836325</td>\n",
       "      <td>0.836395</td>\n",
       "      <td>0.836345</td>\n",
       "      <td>0.836266</td>\n",
       "      <td>0.836184</td>\n",
       "      <td>0.835571</td>\n",
       "    </tr>\n",
       "    <tr>\n",
       "      <th>50.0</th>\n",
       "      <td>0.841643</td>\n",
       "      <td>0.841632</td>\n",
       "      <td>0.841646</td>\n",
       "      <td>0.841640</td>\n",
       "      <td>0.841662</td>\n",
       "      <td>0.841634</td>\n",
       "      <td>0.841600</td>\n",
       "      <td>0.841607</td>\n",
       "      <td>0.841524</td>\n",
       "      <td>0.841355</td>\n",
       "    </tr>\n",
       "    <tr>\n",
       "      <th>100.0</th>\n",
       "      <td>0.844481</td>\n",
       "      <td>0.844485</td>\n",
       "      <td>0.844474</td>\n",
       "      <td>0.844486</td>\n",
       "      <td>0.844497</td>\n",
       "      <td>0.844481</td>\n",
       "      <td>0.844495</td>\n",
       "      <td>0.844469</td>\n",
       "      <td>0.844446</td>\n",
       "      <td>0.844374</td>\n",
       "    </tr>\n",
       "  </tbody>\n",
       "</table>\n",
       "</div>"
      ],
      "text/plain": [
       "beta_skew         0.0000    0.0001    0.0003    0.0010    0.0030    0.0100  \\\n",
       "alpha_marginal                                                               \n",
       "0.1             0.086574  0.086103  0.086636  0.086177  0.083821  0.086182   \n",
       "0.3             0.604652  0.602015  0.604827  0.604647  0.598121  0.605880   \n",
       "0.5             0.660825  0.661957  0.662023  0.661443  0.664611  0.661827   \n",
       "1.0             0.704220  0.704483  0.703391  0.704179  0.704374  0.703722   \n",
       "3.0             0.788787  0.785926  0.785719  0.786559  0.785651  0.785478   \n",
       "5.0             0.810305  0.810289  0.806770  0.810312  0.810342  0.810303   \n",
       "10.0            0.823598  0.824875  0.824882  0.824995  0.824318  0.825676   \n",
       "30.0            0.836460  0.836362  0.836306  0.836427  0.836325  0.836395   \n",
       "50.0            0.841643  0.841632  0.841646  0.841640  0.841662  0.841634   \n",
       "100.0           0.844481  0.844485  0.844474  0.844486  0.844497  0.844481   \n",
       "\n",
       "beta_skew         0.0300    0.1000    0.3000    1.0000  \n",
       "alpha_marginal                                          \n",
       "0.1             0.086648  0.086762  0.089244  0.087139  \n",
       "0.3             0.602210  0.608208  0.615843  0.385968  \n",
       "0.5             0.662793  0.663458  0.660904  0.651612  \n",
       "1.0             0.704197  0.705116  0.706567  0.704878  \n",
       "3.0             0.784730  0.785540  0.782155  0.780622  \n",
       "5.0             0.812884  0.810284  0.810389  0.810320  \n",
       "10.0            0.824854  0.824870  0.825850  0.824645  \n",
       "30.0            0.836345  0.836266  0.836184  0.835571  \n",
       "50.0            0.841600  0.841607  0.841524  0.841355  \n",
       "100.0           0.844495  0.844469  0.844446  0.844374  "
      ]
     },
     "metadata": {},
     "output_type": "display_data"
    }
   ],
   "source": [
    "mean_matrix = df.groupby(['beta_skew', 'alpha_marginal'])['R2 overall'].agg('mean').reset_index().pivot(columns = 'beta_skew', index = 'alpha_marginal', values = 'R2 overall')\n",
    "\n",
    "display(mean_matrix)\n",
    "\n",
    "mean_matrix.to_csv(results_dir + f'{modelexp_nm}-mean.csv')"
   ]
  },
  {
   "cell_type": "code",
   "execution_count": 4,
   "metadata": {
    "ExecuteTime": {
     "end_time": "2020-04-15T16:47:03.421385Z",
     "start_time": "2020-04-15T16:47:01.928058Z"
    }
   },
   "outputs": [
    {
     "name": "stdout",
     "output_type": "stream",
     "text": [
      "Saving to /ahg/regevdata/projects/CRISPR-libraries/prj2/evolution/abe8e/results/fig_h2_combine-varyhparams/modelexp_simplev2_rs.pdf ...\n"
     ]
    },
    {
     "data": {
      "image/png": "[encoded data removed]",
      "text/plain": [
       "<Figure size 504x504 with 1 Axes>"
      ]
     },
     "metadata": {
      "needs_background": "light"
     },
     "output_type": "display_data"
    }
   ],
   "source": [
    "#\n",
    "import matplotlib\n",
    "matplotlib.rc('font', family = 'Arial', size = 15)\n",
    "matplotlib.rcParams['mathtext.fontset'] = 'custom'\n",
    "matplotlib.rcParams['mathtext.it'] = 'Arial:italic'\n",
    "#\n",
    "fig, ax = plt.subplots(figsize = (7, 7))\n",
    "\n",
    "sns.heatmap(\n",
    "    mean_matrix,\n",
    "    annot = True,\n",
    "    fmt = '.2f',\n",
    "    cbar = False,\n",
    "    ax = ax,\n",
    "    yticklabels = [f'{s}' for s in mean_matrix.index],\n",
    ")\n",
    "# plt.yticks(rotation = 90)\n",
    "plt.xlabel('β (skew regularization weight)')\n",
    "plt.ylabel('α (marginal fit weight)')\n",
    "\n",
    "# for tick in ax.get_yticklabels():\n",
    "#     tick.set_rotation(90)\n",
    "\n",
    "##\n",
    "\n",
    "sns.despine(trim = False, bottom = True, left = True)\n",
    "ax.yaxis.set_ticks_position('none') \n",
    "ax.xaxis.set_ticks_position('none') \n",
    "ax.tick_params(length = 4.5, color = 'black', width = 1.5)\n",
    "for axis in ['bottom', 'left']:\n",
    "    ax.spines[axis].set_linewidth(1.5)\n",
    "    ax.spines[axis].set_color('black')\n",
    "\n",
    "matplotlib.rcParams['pdf.fonttype'] = 42\n",
    "matplotlib.rcParams['ps.fonttype'] = 42\n",
    "\n",
    "out_fn = results_dir + f'{modelexp_nm}.pdf'\n",
    "print(f'Saving to {out_fn} ...')\n",
    "plt.savefig(out_fn, transparent = True, bbox_inches = 'tight')\n",
    "\n",
    "plt.show()\n",
    "plt.close()"
   ]
  },
  {
   "cell_type": "code",
   "execution_count": null,
   "metadata": {},
   "outputs": [],
   "source": []
  }
 ],
 "metadata": {
  "kernelspec": {
   "display_name": "Python 3",
   "language": "python",
   "name": "python3"
  },
  "language_info": {
   "codemirror_mode": {
    "name": "ipython",
    "version": 3
   },
   "file_extension": ".py",
   "mimetype": "text/x-python",
   "name": "python",
   "nbconvert_exporter": "python",
   "pygments_lexer": "ipython3",
   "version": "3.7.3"
  }
 },
 "nbformat": 4,
 "nbformat_minor": 2
}
