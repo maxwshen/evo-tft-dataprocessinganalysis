{
 "cells": [
  {
   "cell_type": "code",
   "execution_count": 4,
   "metadata": {
    "ExecuteTime": {
     "end_time": "2020-04-15T19:28:01.343641Z",
     "start_time": "2020-04-15T19:27:58.451938Z"
    }
   },
   "outputs": [
    {
     "name": "stdout",
     "output_type": "stream",
     "text": [
      "Using data folder:\n",
      " /ahg/regevdata/projects/CRISPR-libraries/prj2/evolution/abe8e/data/\n"
     ]
    }
   ],
   "source": [
    "import numpy as np, matplotlib.pyplot as plt, pandas as pd, seaborn as sns\n",
    "\n",
    "import sys\n",
    "sys.path.append('/ahg/regevdata/projects/CRISPR-libraries/prj2/evolution/abe8e/src/')\n",
    "import _config, _lib\n",
    "\n",
    "sys.path.append('/home/unix/maxwshen/')\n",
    "from mylib import util\n",
    "\n",
    "notebook_nm = 'fig_evaluate_fitness_inference'\n",
    "results_dir = _config.RESULTS_PLACE + f'{notebook_nm}/'\n",
    "util.ensure_dir_exists(results_dir)"
   ]
  },
  {
   "cell_type": "code",
   "execution_count": 5,
   "metadata": {
    "ExecuteTime": {
     "end_time": "2020-04-15T19:28:01.353503Z",
     "start_time": "2020-04-15T19:28:01.345710Z"
    }
   },
   "outputs": [],
   "source": [
    "# p2 only"
   ]
  },
  {
   "cell_type": "code",
   "execution_count": 6,
   "metadata": {
    "ExecuteTime": {
     "end_time": "2020-04-15T19:28:01.503958Z",
     "start_time": "2020-04-15T19:28:01.355802Z"
    }
   },
   "outputs": [
    {
     "data": {
      "text/html": [
       "<div>\n",
       "<style scoped>\n",
       "    .dataframe tbody tr th:only-of-type {\n",
       "        vertical-align: middle;\n",
       "    }\n",
       "\n",
       "    .dataframe tbody tr th {\n",
       "        vertical-align: top;\n",
       "    }\n",
       "\n",
       "    .dataframe thead th {\n",
       "        text-align: right;\n",
       "    }\n",
       "</style>\n",
       "<table border=\"1\" class=\"dataframe\">\n",
       "  <thead>\n",
       "    <tr style=\"text-align: right;\">\n",
       "      <th></th>\n",
       "      <th>Genotype</th>\n",
       "      <th>Fitness</th>\n",
       "    </tr>\n",
       "  </thead>\n",
       "  <tbody>\n",
       "    <tr>\n",
       "      <th>0</th>\n",
       "      <td>..G..L........SRN.....Y....</td>\n",
       "      <td>155.893692</td>\n",
       "    </tr>\n",
       "    <tr>\n",
       "      <th>1</th>\n",
       "      <td>..G...V.....A.SRN.....Y....</td>\n",
       "      <td>154.018341</td>\n",
       "    </tr>\n",
       "    <tr>\n",
       "      <th>2</th>\n",
       "      <td>..G..G......A.SRN.....Y....</td>\n",
       "      <td>139.318253</td>\n",
       "    </tr>\n",
       "    <tr>\n",
       "      <th>3</th>\n",
       "      <td>..G..G........SRN.....Y....</td>\n",
       "      <td>126.900200</td>\n",
       "    </tr>\n",
       "    <tr>\n",
       "      <th>4</th>\n",
       "      <td>..G..V......A.SRN.....Y....</td>\n",
       "      <td>126.571991</td>\n",
       "    </tr>\n",
       "  </tbody>\n",
       "</table>\n",
       "</div>"
      ],
      "text/plain": [
       "                      Genotype     Fitness\n",
       "0  ..G..L........SRN.....Y....  155.893692\n",
       "1  ..G...V.....A.SRN.....Y....  154.018341\n",
       "2  ..G..G......A.SRN.....Y....  139.318253\n",
       "3  ..G..G........SRN.....Y....  126.900200\n",
       "4  ..G..V......A.SRN.....Y....  126.571991"
      ]
     },
     "execution_count": 6,
     "metadata": {},
     "output_type": "execute_result"
    }
   ],
   "source": [
    "## Load data\n",
    "\n",
    "true_df = pd.read_csv('/ahg/regevdata/projects/CRISPR-libraries/prj2/evolution/abe8e/out/_fitness_pt/fullgt_fitness.csv', index_col = 0)\n",
    "true_df.to_csv(results_dir + f'ground_truth_fitness.csv')\n",
    "\n",
    "true_df.head()"
   ]
  },
  {
   "cell_type": "markdown",
   "metadata": {},
   "source": [
    "## any"
   ]
  },
  {
   "cell_type": "code",
   "execution_count": 7,
   "metadata": {
    "ExecuteTime": {
     "end_time": "2020-04-15T19:28:01.531887Z",
     "start_time": "2020-04-15T19:28:01.506334Z"
    },
    "code_folding": []
   },
   "outputs": [],
   "source": [
    "def plot_inferred_fitness(modelexp = 'modelexp_illumina', dataset_nm = '', out_fn = '', title = ''):\n",
    "    inp_dir_g = _config.OUT_PLACE + f'g_collate_exps/'\n",
    "\n",
    "    # Pick from /data/modelexp_x.csv, dataset col\n",
    "    modelexp_design = pd.read_csv(_config.DATA_DIR + f'{modelexp}.csv')\n",
    "    row = modelexp_design[modelexp_design['dataset'] == dataset_nm].iloc[0]\n",
    "    nm = row['Name']\n",
    "\n",
    "    df_fn = f'{inp_dir_g}/{modelexp}/fitness_{nm}.csv'\n",
    "    df = pd.read_csv(df_fn, index_col = 0)\n",
    "    \n",
    "    # Parse .pdf to .csv\n",
    "    csv_out_fn = '.'.join(out_fn.split('.')[:-1]) + '.csv'\n",
    "    \n",
    "    mdf = true_df.merge(df, on = 'Genotype')\n",
    "    mdf.to_csv(f'{csv_out_fn}')\n",
    "    \n",
    "    from scipy.stats import pearsonr, spearmanr\n",
    "    dfs = mdf.dropna()\n",
    "    pr, pval = pearsonr(dfs['Fitness'], dfs['Inferred fitness'])\n",
    "    spr, spval = spearmanr(dfs['Fitness'], dfs['Inferred fitness'])\n",
    "    print('Pearsonr', pr, pval)\n",
    "    print('Spearmanr', spr, spval)\n",
    "    print('N', len(dfs))\n",
    "    \n",
    "    #\n",
    "    import matplotlib\n",
    "    matplotlib.rc('font', family = 'Arial', size = 15)\n",
    "    matplotlib.rcParams['mathtext.fontset'] = 'custom'\n",
    "    matplotlib.rcParams['mathtext.it'] = 'Arial:italic'\n",
    "    #\n",
    "    \n",
    "    fig, ax = plt.subplots(figsize = (5, 5))\n",
    "\n",
    "    #\n",
    "    sns.scatterplot(\n",
    "        x = 'Fitness',\n",
    "        y = 'Inferred fitness',\n",
    "        data = mdf,\n",
    "        linewidth = 0,\n",
    "        alpha = 0.9,\n",
    "        ax = ax,\n",
    "    )\n",
    "    sns.despine(trim = False)\n",
    "    plt.grid(alpha = 0.2)\n",
    "    # plt.xscale('log')\n",
    "    # plt.yscale('log')\n",
    "    plt.xlabel('Fitness calculated from full-length genotypes')\n",
    "    plt.ylabel('Inferred fitness')\n",
    "\n",
    "    ##\n",
    "    \n",
    "    plt.tight_layout()\n",
    "\n",
    "    ##\n",
    "\n",
    "    sns.despine(trim = False)\n",
    "    ax.tick_params(length = 4.5, color = 'black', width = 1.5)\n",
    "    for axis in ['bottom', 'left']:\n",
    "        ax.spines[axis].set_linewidth(1.5)\n",
    "        ax.spines[axis].set_color('black')\n",
    "\n",
    "    matplotlib.rcParams['pdf.fonttype'] = 42\n",
    "    matplotlib.rcParams['ps.fonttype'] = 42\n",
    "\n",
    "    print(f'Saving to {out_fn} ...')\n",
    "    plt.savefig(out_fn, transparent = True, bbox_inches = 'tight')\n",
    "\n",
    "    plt.show()\n",
    "    plt.close()\n",
    "    ##\n",
    "    \n",
    "    return\n"
   ]
  },
  {
   "cell_type": "code",
   "execution_count": 8,
   "metadata": {
    "ExecuteTime": {
     "end_time": "2020-04-15T19:28:02.111840Z",
     "start_time": "2020-04-15T19:28:01.533812Z"
    },
    "scrolled": false
   },
   "outputs": [
    {
     "name": "stdout",
     "output_type": "stream",
     "text": [
      "Pearsonr 0.7933814782171723 2.46564674306599e-14\n",
      "Spearmanr 0.8046007403490216 5.633326720320025e-15\n",
      "N 61\n",
      "Saving to /ahg/regevdata/projects/CRISPR-libraries/prj2/evolution/abe8e/results/fig_evaluate_fitness_inference/p2_t5_rl100.pdf ...\n"
     ]
    },
    {
     "data": {
      "image/png": "[encoded data removed]",
      "text/plain": [
       "<Figure size 360x360 with 1 Axes>"
      ]
     },
     "metadata": {
      "needs_background": "light"
     },
     "output_type": "display_data"
    }
   ],
   "source": [
    "datagroup = 'simple'\n",
    "pnum = '2'\n",
    "\n",
    "plot_inferred_fitness(\n",
    "    modelexp = f'modelexp_{datagroup}_rs', \n",
    "    dataset_nm = f'{datagroup}--pace_num-{pnum}--threshold-5--read_len-100--min_gt_frequency-0.0--proposal_type-smart',\n",
    "    out_fn = results_dir + f'p{pnum}_t5_rl100.pdf', \n",
    "    title = '',\n",
    ")"
   ]
  },
  {
   "cell_type": "markdown",
   "metadata": {},
   "source": [
    "## reduced readlen"
   ]
  },
  {
   "cell_type": "code",
   "execution_count": 9,
   "metadata": {
    "ExecuteTime": {
     "end_time": "2020-04-15T19:28:02.651467Z",
     "start_time": "2020-04-15T19:28:02.113645Z"
    }
   },
   "outputs": [
    {
     "name": "stdout",
     "output_type": "stream",
     "text": [
      "Pearsonr 0.8326236796696473 2.6943214007103963e-17\n",
      "Spearmanr 0.8485503072196622 1.6319847743264797e-18\n",
      "N 63\n",
      "Saving to /ahg/regevdata/projects/CRISPR-libraries/prj2/evolution/abe8e/results/fig_evaluate_fitness_inference/p2_t5_rl1.pdf ...\n"
     ]
    },
    {
     "data": {
      "image/png": "[encoded data removed]",
      "text/plain": [
       "<Figure size 360x360 with 1 Axes>"
      ]
     },
     "metadata": {
      "needs_background": "light"
     },
     "output_type": "display_data"
    }
   ],
   "source": [
    "datagroup = 'simple'\n",
    "pnum = '2'\n",
    "\n",
    "plot_inferred_fitness(\n",
    "    modelexp = f'modelexp_simple_rl_rs', \n",
    "    dataset_nm = f'simple_rl--pace_num-2--threshold-5--read_len-1--min_gt_frequency-0--proposal_type-smart',\n",
    "    out_fn = results_dir + f'p2_t5_rl1.pdf', \n",
    "    title = '',\n",
    ")"
   ]
  },
  {
   "cell_type": "markdown",
   "metadata": {},
   "source": [
    "## added noise"
   ]
  },
  {
   "cell_type": "code",
   "execution_count": 10,
   "metadata": {
    "ExecuteTime": {
     "end_time": "2020-04-15T19:28:03.525430Z",
     "start_time": "2020-04-15T19:28:02.653483Z"
    }
   },
   "outputs": [
    {
     "name": "stdout",
     "output_type": "stream",
     "text": [
      "Pearsonr 0.6448663646344562 3.869351446077338e-09\n",
      "Spearmanr 0.8319498762870142 2.7690535639291273e-18\n",
      "N 67\n",
      "Saving to /ahg/regevdata/projects/CRISPR-libraries/prj2/evolution/abe8e/results/fig_evaluate_fitness_inference/varynoise_p2_t5_rl1_noise0.03.pdf ...\n"
     ]
    },
    {
     "data": {
      "image/png": "[encoded data removed]",
      "text/plain": [
       "<Figure size 360x360 with 1 Axes>"
      ]
     },
     "metadata": {
      "needs_background": "light"
     },
     "output_type": "display_data"
    }
   ],
   "source": [
    "datagroup = 'simple'\n",
    "pnum = '2'\n",
    "\n",
    "plot_inferred_fitness(\n",
    "    modelexp = f'modelexp_varynoisev2_p2_rs', \n",
    "    dataset_nm = f'varynoisev2_p2--pace_num-2--threshold-5--min_gt_frequency-0--read_len-1--noise-0.03--proposal_type-smart--noiserep-0',\n",
    "    out_fn = results_dir + f'varynoise_p2_t5_rl1_noise0.03.pdf', \n",
    "    title = '',\n",
    ")"
   ]
  },
  {
   "cell_type": "code",
   "execution_count": 11,
   "metadata": {
    "ExecuteTime": {
     "end_time": "2020-04-15T19:28:04.166859Z",
     "start_time": "2020-04-15T19:28:03.528200Z"
    }
   },
   "outputs": [
    {
     "name": "stdout",
     "output_type": "stream",
     "text": [
      "Pearsonr 0.6524161224561249 7.082557095527567e-10\n",
      "Spearmanr 0.8055331991951709 2.4528182800800017e-17\n",
      "N 71\n",
      "Saving to /ahg/regevdata/projects/CRISPR-libraries/prj2/evolution/abe8e/results/fig_evaluate_fitness_inference/varynoise_p2_t5_rl1_noise0.05.pdf ...\n"
     ]
    },
    {
     "data": {
      "image/png": "[encoded data removed]",
      "text/plain": [
       "<Figure size 360x360 with 1 Axes>"
      ]
     },
     "metadata": {
      "needs_background": "light"
     },
     "output_type": "display_data"
    }
   ],
   "source": [
    "datagroup = 'simple'\n",
    "pnum = '2'\n",
    "\n",
    "plot_inferred_fitness(\n",
    "    modelexp = f'modelexp_varynoisev2_p2_rs', \n",
    "    dataset_nm = f'varynoisev2_p2--pace_num-2--threshold-5--min_gt_frequency-0--read_len-1--noise-0.05--proposal_type-smart--noiserep-1',\n",
    "    out_fn = results_dir + f'varynoise_p2_t5_rl1_noise0.05.pdf', \n",
    "    title = '',\n",
    ")"
   ]
  },
  {
   "cell_type": "code",
   "execution_count": null,
   "metadata": {},
   "outputs": [],
   "source": []
  }
 ],
 "metadata": {
  "kernelspec": {
   "display_name": "Python 3",
   "language": "python",
   "name": "python3"
  },
  "language_info": {
   "codemirror_mode": {
    "name": "ipython",
    "version": 3
   },
   "file_extension": ".py",
   "mimetype": "text/x-python",
   "name": "python",
   "nbconvert_exporter": "python",
   "pygments_lexer": "ipython3",
   "version": "3.7.3"
  }
 },
 "nbformat": 4,
 "nbformat_minor": 2
}
