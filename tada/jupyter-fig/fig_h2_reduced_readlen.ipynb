{
 "cells": [
  {
   "cell_type": "code",
   "execution_count": 2,
   "metadata": {
    "ExecuteTime": {
     "end_time": "2020-04-09T21:42:46.579919Z",
     "start_time": "2020-04-09T21:42:46.519268Z"
    }
   },
   "outputs": [],
   "source": [
    "import numpy as np, matplotlib.pyplot as plt, pandas as pd, seaborn as sns\n",
    "\n",
    "import sys\n",
    "sys.path.append('/ahg/regevdata/projects/CRISPR-libraries/prj2/evolution/abe8e/src/')\n",
    "import _config\n",
    "\n",
    "sys.path.append('/home/unix/maxwshen/')\n",
    "from mylib import util\n",
    "\n",
    "notebook_nm = 'fig_h2_reduced_readlen'\n",
    "results_dir = _config.RESULTS_PLACE + f'{notebook_nm}/'\n",
    "util.ensure_dir_exists(results_dir)\n",
    "\n",
    "import h2_combine as parent_script"
   ]
  },
  {
   "cell_type": "code",
   "execution_count": 25,
   "metadata": {
    "ExecuteTime": {
     "end_time": "2020-04-09T23:28:11.212251Z",
     "start_time": "2020-04-09T23:28:11.153115Z"
    }
   },
   "outputs": [
    {
     "name": "stdout",
     "output_type": "stream",
     "text": [
      "Index(['Int name', 'Random seed', 'Dataset', 'Pearsonr (overall)',\n",
      "       'TimewiseR count', 'TimewiseR mean', 'TimewiseR std', 'TimewiseR min',\n",
      "       'TimewiseR 25%', 'TimewiseR 50%', 'TimewiseR 75%', 'TimewiseR max',\n",
      "       'pace_num', 'threshold', 'read_len', 'min_gt_frequency',\n",
      "       'proposal_type', 'R2 overall'],\n",
      "      dtype='object')\n",
      "(617, 18)\n"
     ]
    }
   ],
   "source": [
    "modelexp_nm = 'modelexp_simple_rl_rs'\n",
    "\n",
    "df = pd.read_csv(parent_script.out_dir + f'{modelexp_nm}.csv', index_col = 0)\n",
    "df['R2 overall'] = df['Pearsonr (overall)']**2\n",
    "df.loc[df['read_len'] == 1, 'read_len'] = 3\n",
    "\n",
    "print(df.columns)\n",
    "print(df.shape)\n",
    "\n",
    "df.to_csv(results_dir + f'{modelexp_nm}.csv')"
   ]
  },
  {
   "cell_type": "markdown",
   "metadata": {},
   "source": [
    "## plot"
   ]
  },
  {
   "cell_type": "code",
   "execution_count": 26,
   "metadata": {
    "ExecuteTime": {
     "end_time": "2020-04-09T23:28:14.474056Z",
     "start_time": "2020-04-09T23:28:12.999871Z"
    }
   },
   "outputs": [
    {
     "name": "stdout",
     "output_type": "stream",
     "text": [
      "Saving to /ahg/regevdata/projects/CRISPR-libraries/prj2/evolution/abe8e/results/fig_h2_reduced_readlen/boxplot.pdf ...\n"
     ]
    },
    {
     "data": {
      "image/png": "[encoded data removed]",
      "text/plain": [
       "<Figure size 216x360 with 1 Axes>"
      ]
     },
     "metadata": {
      "needs_background": "light"
     },
     "output_type": "display_data"
    }
   ],
   "source": [
    "#\n",
    "import matplotlib\n",
    "matplotlib.rc('font', family = 'Arial', size = 15)\n",
    "matplotlib.rcParams['mathtext.fontset'] = 'custom'\n",
    "matplotlib.rcParams['mathtext.it'] = 'Arial:italic'\n",
    "#\n",
    "fig, ax = plt.subplots(figsize = (3, 5))\n",
    "\n",
    "# stat = 'Pearsonr (overall)'\n",
    "# stat = 'TimewiseR mean'\n",
    "stat = 'R2 overall'\n",
    "dfs = df[df['read_len'] <= 150]\n",
    "\n",
    "sns.boxplot(\n",
    "    x = 'read_len',\n",
    "    y = stat,\n",
    "    data = dfs,\n",
    "    color = 'white',\n",
    "    fliersize = 0,\n",
    "#     width = 0.6,\n",
    "    whis = 0,\n",
    "    ax = ax,\n",
    ")\n",
    "sns.stripplot(\n",
    "    x = 'read_len',\n",
    "    y = stat,\n",
    "    data = dfs,\n",
    "    alpha = 0.6,\n",
    "    # color = '#b6b9bc',\n",
    "#     palette = sns.color_palette('husl'),\n",
    "    ax = ax,\n",
    ")\n",
    "plt.grid(alpha = 0.2)\n",
    "\n",
    "plt.xlabel('Read length (nt)');\n",
    "plt.ylabel('Mean $R^2$ between inferred and\\nobserved full-length genotype frequencies');\n",
    "plt.xticks(rotation = 90);\n",
    "\n",
    "##\n",
    "\n",
    "sns.despine(trim = False, bottom = True)\n",
    "ax.xaxis.set_ticks_position('none') \n",
    "ax.tick_params(length = 4.5, color = 'black', width = 1.5)\n",
    "for axis in ['bottom', 'left']:\n",
    "    ax.spines[axis].set_linewidth(1.5)\n",
    "    ax.spines[axis].set_color('black')\n",
    "\n",
    "matplotlib.rcParams['pdf.fonttype'] = 42\n",
    "matplotlib.rcParams['ps.fonttype'] = 42\n",
    "\n",
    "out_fn = results_dir + f'boxplot.pdf'\n",
    "print(f'Saving to {out_fn} ...')\n",
    "plt.savefig(out_fn, transparent = True, bbox_inches = 'tight')\n",
    "\n",
    "plt.show()\n",
    "plt.close()\n",
    "##"
   ]
  },
  {
   "cell_type": "markdown",
   "metadata": {},
   "source": [
    "## explore"
   ]
  },
  {
   "cell_type": "code",
   "execution_count": 17,
   "metadata": {
    "ExecuteTime": {
     "end_time": "2020-04-09T21:54:41.650731Z",
     "start_time": "2020-04-09T21:54:41.617072Z"
    },
    "scrolled": true
   },
   "outputs": [
    {
     "data": {
      "text/html": [
       "<div>\n",
       "<style scoped>\n",
       "    .dataframe tbody tr th:only-of-type {\n",
       "        vertical-align: middle;\n",
       "    }\n",
       "\n",
       "    .dataframe tbody tr th {\n",
       "        vertical-align: top;\n",
       "    }\n",
       "\n",
       "    .dataframe thead th {\n",
       "        text-align: right;\n",
       "    }\n",
       "</style>\n",
       "<table border=\"1\" class=\"dataframe\">\n",
       "  <thead>\n",
       "    <tr style=\"text-align: right;\">\n",
       "      <th></th>\n",
       "      <th>Int name</th>\n",
       "      <th>Random seed</th>\n",
       "      <th>Dataset</th>\n",
       "      <th>Pearsonr (overall)</th>\n",
       "      <th>TimewiseR count</th>\n",
       "      <th>TimewiseR mean</th>\n",
       "      <th>TimewiseR std</th>\n",
       "      <th>TimewiseR min</th>\n",
       "      <th>TimewiseR 25%</th>\n",
       "      <th>TimewiseR 50%</th>\n",
       "      <th>TimewiseR 75%</th>\n",
       "      <th>TimewiseR max</th>\n",
       "      <th>pace_num</th>\n",
       "      <th>threshold</th>\n",
       "      <th>read_len</th>\n",
       "      <th>min_gt_frequency</th>\n",
       "      <th>proposal_type</th>\n",
       "      <th>R2 overall</th>\n",
       "      <th>TimewiseRsq 50%</th>\n",
       "    </tr>\n",
       "  </thead>\n",
       "  <tbody>\n",
       "    <tr>\n",
       "      <th>0</th>\n",
       "      <td>0</td>\n",
       "      <td>0</td>\n",
       "      <td>simple_rl--pace_num-2--threshold-5--read_len-1...</td>\n",
       "      <td>0.909261</td>\n",
       "      <td>36.0</td>\n",
       "      <td>0.843201</td>\n",
       "      <td>0.188035</td>\n",
       "      <td>0.265652</td>\n",
       "      <td>0.820110</td>\n",
       "      <td>0.914694</td>\n",
       "      <td>0.965907</td>\n",
       "      <td>0.972079</td>\n",
       "      <td>2</td>\n",
       "      <td>5</td>\n",
       "      <td>1</td>\n",
       "      <td>0</td>\n",
       "      <td>smart</td>\n",
       "      <td>0.826756</td>\n",
       "      <td>0.836664</td>\n",
       "    </tr>\n",
       "    <tr>\n",
       "      <th>1</th>\n",
       "      <td>1</td>\n",
       "      <td>0</td>\n",
       "      <td>simple_rl--pace_num-2--threshold-5--read_len-2...</td>\n",
       "      <td>0.914967</td>\n",
       "      <td>36.0</td>\n",
       "      <td>0.852741</td>\n",
       "      <td>0.200473</td>\n",
       "      <td>0.254066</td>\n",
       "      <td>0.819171</td>\n",
       "      <td>0.949923</td>\n",
       "      <td>0.968757</td>\n",
       "      <td>0.972309</td>\n",
       "      <td>2</td>\n",
       "      <td>5</td>\n",
       "      <td>25</td>\n",
       "      <td>0</td>\n",
       "      <td>smart</td>\n",
       "      <td>0.837164</td>\n",
       "      <td>0.902353</td>\n",
       "    </tr>\n",
       "    <tr>\n",
       "      <th>2</th>\n",
       "      <td>2</td>\n",
       "      <td>0</td>\n",
       "      <td>simple_rl--pace_num-2--threshold-5--read_len-5...</td>\n",
       "      <td>0.913700</td>\n",
       "      <td>36.0</td>\n",
       "      <td>0.849415</td>\n",
       "      <td>0.202486</td>\n",
       "      <td>0.289819</td>\n",
       "      <td>0.817561</td>\n",
       "      <td>0.953840</td>\n",
       "      <td>0.969613</td>\n",
       "      <td>0.973239</td>\n",
       "      <td>2</td>\n",
       "      <td>5</td>\n",
       "      <td>50</td>\n",
       "      <td>0</td>\n",
       "      <td>smart</td>\n",
       "      <td>0.834848</td>\n",
       "      <td>0.909811</td>\n",
       "    </tr>\n",
       "    <tr>\n",
       "      <th>3</th>\n",
       "      <td>3</td>\n",
       "      <td>0</td>\n",
       "      <td>simple_rl--pace_num-2--threshold-5--read_len-7...</td>\n",
       "      <td>0.924206</td>\n",
       "      <td>36.0</td>\n",
       "      <td>0.868538</td>\n",
       "      <td>0.170333</td>\n",
       "      <td>0.377931</td>\n",
       "      <td>0.849448</td>\n",
       "      <td>0.950627</td>\n",
       "      <td>0.966890</td>\n",
       "      <td>0.969608</td>\n",
       "      <td>2</td>\n",
       "      <td>5</td>\n",
       "      <td>75</td>\n",
       "      <td>0</td>\n",
       "      <td>smart</td>\n",
       "      <td>0.854157</td>\n",
       "      <td>0.903692</td>\n",
       "    </tr>\n",
       "    <tr>\n",
       "      <th>4</th>\n",
       "      <td>4</td>\n",
       "      <td>0</td>\n",
       "      <td>simple_rl--pace_num-2--threshold-5--read_len-1...</td>\n",
       "      <td>0.935806</td>\n",
       "      <td>36.0</td>\n",
       "      <td>0.869332</td>\n",
       "      <td>0.185945</td>\n",
       "      <td>0.346271</td>\n",
       "      <td>0.833938</td>\n",
       "      <td>0.968415</td>\n",
       "      <td>0.976653</td>\n",
       "      <td>0.978471</td>\n",
       "      <td>2</td>\n",
       "      <td>5</td>\n",
       "      <td>100</td>\n",
       "      <td>0</td>\n",
       "      <td>smart</td>\n",
       "      <td>0.875733</td>\n",
       "      <td>0.937828</td>\n",
       "    </tr>\n",
       "  </tbody>\n",
       "</table>\n",
       "</div>"
      ],
      "text/plain": [
       "   Int name  Random seed                                            Dataset  \\\n",
       "0         0            0  simple_rl--pace_num-2--threshold-5--read_len-1...   \n",
       "1         1            0  simple_rl--pace_num-2--threshold-5--read_len-2...   \n",
       "2         2            0  simple_rl--pace_num-2--threshold-5--read_len-5...   \n",
       "3         3            0  simple_rl--pace_num-2--threshold-5--read_len-7...   \n",
       "4         4            0  simple_rl--pace_num-2--threshold-5--read_len-1...   \n",
       "\n",
       "   Pearsonr (overall)  TimewiseR count  TimewiseR mean  TimewiseR std  \\\n",
       "0            0.909261             36.0        0.843201       0.188035   \n",
       "1            0.914967             36.0        0.852741       0.200473   \n",
       "2            0.913700             36.0        0.849415       0.202486   \n",
       "3            0.924206             36.0        0.868538       0.170333   \n",
       "4            0.935806             36.0        0.869332       0.185945   \n",
       "\n",
       "   TimewiseR min  TimewiseR 25%  TimewiseR 50%  TimewiseR 75%  TimewiseR max  \\\n",
       "0       0.265652       0.820110       0.914694       0.965907       0.972079   \n",
       "1       0.254066       0.819171       0.949923       0.968757       0.972309   \n",
       "2       0.289819       0.817561       0.953840       0.969613       0.973239   \n",
       "3       0.377931       0.849448       0.950627       0.966890       0.969608   \n",
       "4       0.346271       0.833938       0.968415       0.976653       0.978471   \n",
       "\n",
       "   pace_num  threshold  read_len  min_gt_frequency proposal_type  R2 overall  \\\n",
       "0         2          5         1                 0         smart    0.826756   \n",
       "1         2          5        25                 0         smart    0.837164   \n",
       "2         2          5        50                 0         smart    0.834848   \n",
       "3         2          5        75                 0         smart    0.854157   \n",
       "4         2          5       100                 0         smart    0.875733   \n",
       "\n",
       "   TimewiseRsq 50%  \n",
       "0         0.836664  \n",
       "1         0.902353  \n",
       "2         0.909811  \n",
       "3         0.903692  \n",
       "4         0.937828  "
      ]
     },
     "execution_count": 17,
     "metadata": {},
     "output_type": "execute_result"
    }
   ],
   "source": [
    "df.head()"
   ]
  },
  {
   "cell_type": "code",
   "execution_count": 27,
   "metadata": {
    "ExecuteTime": {
     "end_time": "2020-04-09T23:28:37.064772Z",
     "start_time": "2020-04-09T23:28:37.052114Z"
    }
   },
   "outputs": [
    {
     "data": {
      "text/plain": [
       "'simple_rl--pace_num-2--threshold-5--read_len-1--min_gt_frequency-0--proposal_type-smart'"
      ]
     },
     "execution_count": 27,
     "metadata": {},
     "output_type": "execute_result"
    }
   ],
   "source": [
    "df[df['read_len'] == 3]['Dataset'].iloc[0]"
   ]
  },
  {
   "cell_type": "code",
   "execution_count": 28,
   "metadata": {
    "ExecuteTime": {
     "end_time": "2020-04-09T23:28:39.216477Z",
     "start_time": "2020-04-09T23:28:39.201259Z"
    }
   },
   "outputs": [
    {
     "data": {
      "text/plain": [
       "'simple_rl--pace_num-2--threshold-5--read_len-1--min_gt_frequency-0--proposal_type-smart'"
      ]
     },
     "execution_count": 28,
     "metadata": {},
     "output_type": "execute_result"
    }
   ],
   "source": [
    "df[df['read_len'] == 3].sort_values(by = 'Pearsonr (overall)', ascending = False).iloc[0]['Dataset']"
   ]
  },
  {
   "cell_type": "code",
   "execution_count": null,
   "metadata": {},
   "outputs": [],
   "source": []
  }
 ],
 "metadata": {
  "kernelspec": {
   "display_name": "Python 3",
   "language": "python",
   "name": "python3"
  },
  "language_info": {
   "codemirror_mode": {
    "name": "ipython",
    "version": 3
   },
   "file_extension": ".py",
   "mimetype": "text/x-python",
   "name": "python",
   "nbconvert_exporter": "python",
   "pygments_lexer": "ipython3",
   "version": "3.7.3"
  }
 },
 "nbformat": 4,
 "nbformat_minor": 2
}
