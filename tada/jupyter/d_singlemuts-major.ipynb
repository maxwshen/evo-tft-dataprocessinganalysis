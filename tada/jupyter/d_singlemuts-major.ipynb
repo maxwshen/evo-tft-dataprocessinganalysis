{
 "cells": [
  {
   "cell_type": "code",
   "execution_count": 1,
   "metadata": {
    "ExecuteTime": {
     "end_time": "2020-03-30T18:12:44.383974Z",
     "start_time": "2020-03-30T18:12:41.891627Z"
    }
   },
   "outputs": [
    {
     "name": "stdout",
     "output_type": "stream",
     "text": [
      "Using data folder:\n",
      " /ahg/regevdata/projects/CRISPR-libraries/prj2/evolution/abe8e/data/\n"
     ]
    }
   ],
   "source": [
    "import numpy as np, seaborn as sns, matplotlib.pyplot as plt, pandas as pd\n",
    "\n",
    "import sys\n",
    "sys.path.append('/ahg/regevdata/projects/CRISPR-libraries/prj2/evolution/abe8e/src/')\n",
    "import d_singlemuts as parent_script\n",
    "import _config\n",
    "\n",
    "design_df = pd.read_csv(_config.DATA_DIR + 'exp_design.csv')"
   ]
  },
  {
   "cell_type": "code",
   "execution_count": 2,
   "metadata": {
    "ExecuteTime": {
     "end_time": "2020-03-30T18:12:47.751987Z",
     "start_time": "2020-03-30T18:12:44.385951Z"
    }
   },
   "outputs": [],
   "source": [
    "ddf = dict()\n",
    "mdf = pd.DataFrame()\n",
    "for nm in design_df['Short name']:\n",
    "    df = pd.read_csv(parent_script.out_dir + f'{nm}.csv', index_col = 0)\n",
    "    df['Condition'] = nm\n",
    "    ddf[nm] = df\n",
    "    \n",
    "    mdf = mdf.append(df, ignore_index = True)\n",
    "    \n",
    "pv_df = mdf.pivot(index = 'Mutation', columns = 'Condition', values = 'Frequency')"
   ]
  },
  {
   "cell_type": "code",
   "execution_count": 3,
   "metadata": {
    "ExecuteTime": {
     "end_time": "2020-03-30T18:12:47.765863Z",
     "start_time": "2020-03-30T18:12:47.753945Z"
    }
   },
   "outputs": [],
   "source": [
    "pv_df = pv_df.fillna(value = 0)"
   ]
  },
  {
   "cell_type": "markdown",
   "metadata": {},
   "source": [
    "## Max frequency of mutations across samples"
   ]
  },
  {
   "cell_type": "code",
   "execution_count": 4,
   "metadata": {
    "ExecuteTime": {
     "end_time": "2020-03-25T20:59:56.386917Z",
     "start_time": "2020-03-25T20:59:56.189717Z"
    }
   },
   "outputs": [],
   "source": [
    "max_fqs = pv_df.apply(max, axis = 'columns')"
   ]
  },
  {
   "cell_type": "code",
   "execution_count": 5,
   "metadata": {
    "ExecuteTime": {
     "end_time": "2020-03-25T20:59:56.428095Z",
     "start_time": "2020-03-25T20:59:56.413288Z"
    }
   },
   "outputs": [],
   "source": [
    "max_fqs = max_fqs.reset_index().sort_values(by = 0, ascending = False).reset_index(drop = True)\n",
    "max_fqs = max_fqs.rename(columns = {0: 'Max frequency'})"
   ]
  },
  {
   "cell_type": "code",
   "execution_count": 6,
   "metadata": {
    "ExecuteTime": {
     "end_time": "2020-03-25T20:59:56.916377Z",
     "start_time": "2020-03-25T20:59:56.907898Z"
    },
    "scrolled": true
   },
   "outputs": [],
   "source": [
    "max_fqs['Index'] = max_fqs.index"
   ]
  },
  {
   "cell_type": "code",
   "execution_count": 7,
   "metadata": {
    "ExecuteTime": {
     "end_time": "2020-03-25T20:59:57.748602Z",
     "start_time": "2020-03-25T20:59:57.350994Z"
    }
   },
   "outputs": [
    {
     "data": {
      "image/png": "[encoded data removed]",
      "text/plain": [
       "<Figure size 432x288 with 1 Axes>"
      ]
     },
     "metadata": {
      "needs_background": "light"
     },
     "output_type": "display_data"
    }
   ],
   "source": [
    "max_fqs['Log max freq'] = np.log(max_fqs['Max frequency'])\n",
    "\n",
    "sns.scatterplot(\n",
    "    x = 'Index',\n",
    "    y = 'Log max freq',\n",
    "    data = max_fqs,\n",
    ")\n",
    "sns.despine()\n",
    "plt.grid(alpha = 0.2)"
   ]
  },
  {
   "cell_type": "code",
   "execution_count": 8,
   "metadata": {
    "ExecuteTime": {
     "end_time": "2020-03-25T21:00:05.401196Z",
     "start_time": "2020-03-25T21:00:05.368935Z"
    }
   },
   "outputs": [
    {
     "name": "stdout",
     "output_type": "stream",
     "text": [
      "0.5 \t 8\n",
      "0.4 \t 8\n",
      "0.3 \t 12\n",
      "0.2 \t 14\n",
      "0.1 \t 21\n",
      "0.09 \t 23\n",
      "0.08 \t 28\n",
      "0.07 \t 30\n",
      "0.06 \t 31\n",
      "0.05 \t 35\n",
      "0.04 \t 42\n",
      "0.03 \t 58\n",
      "0.02 \t 93\n",
      "0.01 \t 202\n"
     ]
    }
   ],
   "source": [
    "for threshold in [0.5, 0.4, 0.3, 0.2, 0.1, 0.09, 0.08, 0.07, 0.06, 0.05, 0.04, 0.03, 0.02, 0.01]:\n",
    "    print(threshold, '\\t', sum(max_fqs['Max frequency'] >= threshold))"
   ]
  },
  {
   "cell_type": "code",
   "execution_count": 9,
   "metadata": {
    "ExecuteTime": {
     "end_time": "2020-03-25T21:00:13.502323Z",
     "start_time": "2020-03-25T21:00:13.469824Z"
    },
    "scrolled": true
   },
   "outputs": [
    {
     "data": {
      "text/html": [
       "<div>\n",
       "<style scoped>\n",
       "    .dataframe tbody tr th:only-of-type {\n",
       "        vertical-align: middle;\n",
       "    }\n",
       "\n",
       "    .dataframe tbody tr th {\n",
       "        vertical-align: top;\n",
       "    }\n",
       "\n",
       "    .dataframe thead th {\n",
       "        text-align: right;\n",
       "    }\n",
       "</style>\n",
       "<table border=\"1\" class=\"dataframe\">\n",
       "  <thead>\n",
       "    <tr style=\"text-align: right;\">\n",
       "      <th></th>\n",
       "      <th>Mutation</th>\n",
       "      <th>Max frequency</th>\n",
       "      <th>Index</th>\n",
       "      <th>Log max freq</th>\n",
       "    </tr>\n",
       "  </thead>\n",
       "  <tbody>\n",
       "    <tr>\n",
       "      <th>0</th>\n",
       "      <td>111R</td>\n",
       "      <td>0.995679</td>\n",
       "      <td>0</td>\n",
       "      <td>-0.004330</td>\n",
       "    </tr>\n",
       "    <tr>\n",
       "      <th>1</th>\n",
       "      <td>106I</td>\n",
       "      <td>0.984178</td>\n",
       "      <td>1</td>\n",
       "      <td>-0.015949</td>\n",
       "    </tr>\n",
       "    <tr>\n",
       "      <th>2</th>\n",
       "      <td>149Y</td>\n",
       "      <td>0.973145</td>\n",
       "      <td>2</td>\n",
       "      <td>-0.027222</td>\n",
       "    </tr>\n",
       "    <tr>\n",
       "      <th>3</th>\n",
       "      <td>119N</td>\n",
       "      <td>0.936896</td>\n",
       "      <td>3</td>\n",
       "      <td>-0.065183</td>\n",
       "    </tr>\n",
       "    <tr>\n",
       "      <th>4</th>\n",
       "      <td>26G</td>\n",
       "      <td>0.921471</td>\n",
       "      <td>4</td>\n",
       "      <td>-0.081784</td>\n",
       "    </tr>\n",
       "    <tr>\n",
       "      <th>5</th>\n",
       "      <td>167G</td>\n",
       "      <td>0.905287</td>\n",
       "      <td>5</td>\n",
       "      <td>-0.099503</td>\n",
       "    </tr>\n",
       "    <tr>\n",
       "      <th>6</th>\n",
       "      <td>109S</td>\n",
       "      <td>0.865926</td>\n",
       "      <td>6</td>\n",
       "      <td>-0.143956</td>\n",
       "    </tr>\n",
       "    <tr>\n",
       "      <th>7</th>\n",
       "      <td>88A</td>\n",
       "      <td>0.635436</td>\n",
       "      <td>7</td>\n",
       "      <td>-0.453444</td>\n",
       "    </tr>\n",
       "    <tr>\n",
       "      <th>8</th>\n",
       "      <td>158T</td>\n",
       "      <td>0.396269</td>\n",
       "      <td>8</td>\n",
       "      <td>-0.925662</td>\n",
       "    </tr>\n",
       "    <tr>\n",
       "      <th>9</th>\n",
       "      <td>126L</td>\n",
       "      <td>0.337437</td>\n",
       "      <td>9</td>\n",
       "      <td>-1.086376</td>\n",
       "    </tr>\n",
       "    <tr>\n",
       "      <th>10</th>\n",
       "      <td>109T</td>\n",
       "      <td>0.315829</td>\n",
       "      <td>10</td>\n",
       "      <td>-1.152555</td>\n",
       "    </tr>\n",
       "    <tr>\n",
       "      <th>11</th>\n",
       "      <td>1I</td>\n",
       "      <td>0.301620</td>\n",
       "      <td>11</td>\n",
       "      <td>-1.198588</td>\n",
       "    </tr>\n",
       "    <tr>\n",
       "      <th>12</th>\n",
       "      <td>122N</td>\n",
       "      <td>0.297346</td>\n",
       "      <td>12</td>\n",
       "      <td>-1.212860</td>\n",
       "    </tr>\n",
       "    <tr>\n",
       "      <th>13</th>\n",
       "      <td>23L</td>\n",
       "      <td>0.263291</td>\n",
       "      <td>13</td>\n",
       "      <td>-1.334497</td>\n",
       "    </tr>\n",
       "    <tr>\n",
       "      <th>14</th>\n",
       "      <td>147D</td>\n",
       "      <td>0.198221</td>\n",
       "      <td>14</td>\n",
       "      <td>-1.618374</td>\n",
       "    </tr>\n",
       "    <tr>\n",
       "      <th>15</th>\n",
       "      <td>26C</td>\n",
       "      <td>0.193833</td>\n",
       "      <td>15</td>\n",
       "      <td>-1.640757</td>\n",
       "    </tr>\n",
       "    <tr>\n",
       "      <th>16</th>\n",
       "      <td>48S</td>\n",
       "      <td>0.189010</td>\n",
       "      <td>16</td>\n",
       "      <td>-1.665957</td>\n",
       "    </tr>\n",
       "    <tr>\n",
       "      <th>17</th>\n",
       "      <td>147S</td>\n",
       "      <td>0.153739</td>\n",
       "      <td>17</td>\n",
       "      <td>-1.872497</td>\n",
       "    </tr>\n",
       "    <tr>\n",
       "      <th>18</th>\n",
       "      <td>82T</td>\n",
       "      <td>0.144658</td>\n",
       "      <td>18</td>\n",
       "      <td>-1.933383</td>\n",
       "    </tr>\n",
       "    <tr>\n",
       "      <th>19</th>\n",
       "      <td>123H</td>\n",
       "      <td>0.138171</td>\n",
       "      <td>19</td>\n",
       "      <td>-1.979265</td>\n",
       "    </tr>\n",
       "    <tr>\n",
       "      <th>20</th>\n",
       "      <td>154K</td>\n",
       "      <td>0.103151</td>\n",
       "      <td>20</td>\n",
       "      <td>-2.271559</td>\n",
       "    </tr>\n",
       "    <tr>\n",
       "      <th>21</th>\n",
       "      <td>166I</td>\n",
       "      <td>0.098172</td>\n",
       "      <td>21</td>\n",
       "      <td>-2.321033</td>\n",
       "    </tr>\n",
       "    <tr>\n",
       "      <th>22</th>\n",
       "      <td>86R</td>\n",
       "      <td>0.090426</td>\n",
       "      <td>22</td>\n",
       "      <td>-2.403223</td>\n",
       "    </tr>\n",
       "    <tr>\n",
       "      <th>23</th>\n",
       "      <td>87G</td>\n",
       "      <td>0.089754</td>\n",
       "      <td>23</td>\n",
       "      <td>-2.410678</td>\n",
       "    </tr>\n",
       "    <tr>\n",
       "      <th>24</th>\n",
       "      <td>167N</td>\n",
       "      <td>0.088720</td>\n",
       "      <td>24</td>\n",
       "      <td>-2.422273</td>\n",
       "    </tr>\n",
       "    <tr>\n",
       "      <th>25</th>\n",
       "      <td>77V</td>\n",
       "      <td>0.086869</td>\n",
       "      <td>25</td>\n",
       "      <td>-2.443354</td>\n",
       "    </tr>\n",
       "    <tr>\n",
       "      <th>26</th>\n",
       "      <td>97A</td>\n",
       "      <td>0.085865</td>\n",
       "      <td>26</td>\n",
       "      <td>-2.454976</td>\n",
       "    </tr>\n",
       "    <tr>\n",
       "      <th>27</th>\n",
       "      <td>74L</td>\n",
       "      <td>0.081955</td>\n",
       "      <td>27</td>\n",
       "      <td>-2.501582</td>\n",
       "    </tr>\n",
       "    <tr>\n",
       "      <th>28</th>\n",
       "      <td>84L</td>\n",
       "      <td>0.078995</td>\n",
       "      <td>28</td>\n",
       "      <td>-2.538375</td>\n",
       "    </tr>\n",
       "    <tr>\n",
       "      <th>29</th>\n",
       "      <td>146G</td>\n",
       "      <td>0.074657</td>\n",
       "      <td>29</td>\n",
       "      <td>-2.594846</td>\n",
       "    </tr>\n",
       "    <tr>\n",
       "      <th>30</th>\n",
       "      <td>85Q</td>\n",
       "      <td>0.060418</td>\n",
       "      <td>30</td>\n",
       "      <td>-2.806466</td>\n",
       "    </tr>\n",
       "    <tr>\n",
       "      <th>31</th>\n",
       "      <td>147H</td>\n",
       "      <td>0.058881</td>\n",
       "      <td>31</td>\n",
       "      <td>-2.832235</td>\n",
       "    </tr>\n",
       "    <tr>\n",
       "      <th>32</th>\n",
       "      <td>74V</td>\n",
       "      <td>0.058852</td>\n",
       "      <td>32</td>\n",
       "      <td>-2.832727</td>\n",
       "    </tr>\n",
       "    <tr>\n",
       "      <th>33</th>\n",
       "      <td>74G</td>\n",
       "      <td>0.058326</td>\n",
       "      <td>33</td>\n",
       "      <td>-2.841714</td>\n",
       "    </tr>\n",
       "    <tr>\n",
       "      <th>34</th>\n",
       "      <td>55P</td>\n",
       "      <td>0.054220</td>\n",
       "      <td>34</td>\n",
       "      <td>-2.914709</td>\n",
       "    </tr>\n",
       "  </tbody>\n",
       "</table>\n",
       "</div>"
      ],
      "text/plain": [
       "   Mutation  Max frequency  Index  Log max freq\n",
       "0      111R       0.995679      0     -0.004330\n",
       "1      106I       0.984178      1     -0.015949\n",
       "2      149Y       0.973145      2     -0.027222\n",
       "3      119N       0.936896      3     -0.065183\n",
       "4       26G       0.921471      4     -0.081784\n",
       "5      167G       0.905287      5     -0.099503\n",
       "6      109S       0.865926      6     -0.143956\n",
       "7       88A       0.635436      7     -0.453444\n",
       "8      158T       0.396269      8     -0.925662\n",
       "9      126L       0.337437      9     -1.086376\n",
       "10     109T       0.315829     10     -1.152555\n",
       "11       1I       0.301620     11     -1.198588\n",
       "12     122N       0.297346     12     -1.212860\n",
       "13      23L       0.263291     13     -1.334497\n",
       "14     147D       0.198221     14     -1.618374\n",
       "15      26C       0.193833     15     -1.640757\n",
       "16      48S       0.189010     16     -1.665957\n",
       "17     147S       0.153739     17     -1.872497\n",
       "18      82T       0.144658     18     -1.933383\n",
       "19     123H       0.138171     19     -1.979265\n",
       "20     154K       0.103151     20     -2.271559\n",
       "21     166I       0.098172     21     -2.321033\n",
       "22      86R       0.090426     22     -2.403223\n",
       "23      87G       0.089754     23     -2.410678\n",
       "24     167N       0.088720     24     -2.422273\n",
       "25      77V       0.086869     25     -2.443354\n",
       "26      97A       0.085865     26     -2.454976\n",
       "27      74L       0.081955     27     -2.501582\n",
       "28      84L       0.078995     28     -2.538375\n",
       "29     146G       0.074657     29     -2.594846\n",
       "30      85Q       0.060418     30     -2.806466\n",
       "31     147H       0.058881     31     -2.832235\n",
       "32      74V       0.058852     32     -2.832727\n",
       "33      74G       0.058326     33     -2.841714\n",
       "34      55P       0.054220     34     -2.914709"
      ]
     },
     "execution_count": 9,
     "metadata": {},
     "output_type": "execute_result"
    }
   ],
   "source": [
    "max_fqs[max_fqs['Max frequency'] >= 0.05]"
   ]
  },
  {
   "cell_type": "markdown",
   "metadata": {},
   "source": [
    "## Max frequency by position"
   ]
  },
  {
   "cell_type": "code",
   "execution_count": 11,
   "metadata": {
    "ExecuteTime": {
     "end_time": "2020-03-19T21:28:35.381465Z",
     "start_time": "2020-03-19T21:28:35.360626Z"
    }
   },
   "outputs": [
    {
     "data": {
      "text/html": [
       "<div>\n",
       "<style scoped>\n",
       "    .dataframe tbody tr th:only-of-type {\n",
       "        vertical-align: middle;\n",
       "    }\n",
       "\n",
       "    .dataframe tbody tr th {\n",
       "        vertical-align: top;\n",
       "    }\n",
       "\n",
       "    .dataframe thead th {\n",
       "        text-align: right;\n",
       "    }\n",
       "</style>\n",
       "<table border=\"1\" class=\"dataframe\">\n",
       "  <thead>\n",
       "    <tr style=\"text-align: right;\">\n",
       "      <th></th>\n",
       "      <th>Position</th>\n",
       "      <th>Max frequency</th>\n",
       "    </tr>\n",
       "  </thead>\n",
       "  <tbody>\n",
       "    <tr>\n",
       "      <th>0</th>\n",
       "      <td>1</td>\n",
       "      <td>0.301620</td>\n",
       "    </tr>\n",
       "    <tr>\n",
       "      <th>1</th>\n",
       "      <td>2</td>\n",
       "      <td>0.008342</td>\n",
       "    </tr>\n",
       "    <tr>\n",
       "      <th>2</th>\n",
       "      <td>3</td>\n",
       "      <td>0.007394</td>\n",
       "    </tr>\n",
       "    <tr>\n",
       "      <th>3</th>\n",
       "      <td>4</td>\n",
       "      <td>0.007928</td>\n",
       "    </tr>\n",
       "    <tr>\n",
       "      <th>4</th>\n",
       "      <td>5</td>\n",
       "      <td>0.012087</td>\n",
       "    </tr>\n",
       "  </tbody>\n",
       "</table>\n",
       "</div>"
      ],
      "text/plain": [
       "   Position  Max frequency\n",
       "0         1       0.301620\n",
       "1         2       0.008342\n",
       "2         3       0.007394\n",
       "3         4       0.007928\n",
       "4         5       0.012087"
      ]
     },
     "execution_count": 11,
     "metadata": {},
     "output_type": "execute_result"
    }
   ],
   "source": [
    "max_fqs['Position'] = [int(s[:-1]) for s in max_fqs['Mutation']]\n",
    "\n",
    "pm_fqs = max_fqs.groupby('Position')['Max frequency'].agg(max).reset_index()\n",
    "pm_fqs.head()"
   ]
  },
  {
   "cell_type": "code",
   "execution_count": 12,
   "metadata": {
    "ExecuteTime": {
     "end_time": "2020-03-19T21:28:36.999912Z",
     "start_time": "2020-03-19T21:28:36.757029Z"
    }
   },
   "outputs": [
    {
     "data": {
      "text/plain": [
       "Text(0, 0.5, 'Max mutation frequency across samples')"
      ]
     },
     "execution_count": 12,
     "metadata": {},
     "output_type": "execute_result"
    },
    {
     "data": {
      "image/png": "[encoded data removed]",
      "text/plain": [
       "<Figure size 432x288 with 1 Axes>"
      ]
     },
     "metadata": {
      "needs_background": "light"
     },
     "output_type": "display_data"
    }
   ],
   "source": [
    "sns.scatterplot(\n",
    "    x = 'Position',\n",
    "    y = 'Max frequency',\n",
    "    data = pm_fqs,\n",
    ")\n",
    "sns.despine()\n",
    "plt.grid(alpha = 0.2)\n",
    "plt.xlabel('Amino acid position')\n",
    "plt.ylabel('Max mutation frequency across samples')"
   ]
  },
  {
   "cell_type": "markdown",
   "metadata": {},
   "source": [
    "## Propose major mutations"
   ]
  },
  {
   "cell_type": "code",
   "execution_count": 4,
   "metadata": {
    "ExecuteTime": {
     "end_time": "2020-03-30T18:12:52.142151Z",
     "start_time": "2020-03-30T18:12:52.026419Z"
    }
   },
   "outputs": [],
   "source": [
    "pv_df['Max fq'] = pv_df.apply(max, axis = 'columns')"
   ]
  },
  {
   "cell_type": "code",
   "execution_count": 5,
   "metadata": {
    "ExecuteTime": {
     "end_time": "2020-03-30T18:12:54.032968Z",
     "start_time": "2020-03-30T18:12:54.026863Z"
    }
   },
   "outputs": [],
   "source": [
    "ignore_muts = ['106I']"
   ]
  },
  {
   "cell_type": "code",
   "execution_count": 6,
   "metadata": {
    "ExecuteTime": {
     "end_time": "2020-03-30T18:12:54.390232Z",
     "start_time": "2020-03-30T18:12:54.344343Z"
    },
    "scrolled": true
   },
   "outputs": [
    {
     "name": "stdout",
     "output_type": "stream",
     "text": [
      "(34, 100)\n"
     ]
    }
   ],
   "source": [
    "pv_dfs = pv_df[pv_df['Max fq'] >= 0.05]\n",
    "\n",
    "# Filter mutations\n",
    "subset_index = [s for s in pv_dfs.index if s not in ignore_muts]\n",
    "pv_dfs = pv_dfs.loc[subset_index]\n",
    "\n",
    "print(pv_dfs.shape)\n",
    "\n",
    "pv_dfs.to_csv(parent_script.out_dir + f'_above5.csv')"
   ]
  },
  {
   "cell_type": "code",
   "execution_count": 13,
   "metadata": {
    "ExecuteTime": {
     "end_time": "2020-03-24T15:53:48.641849Z",
     "start_time": "2020-03-24T15:53:48.615952Z"
    }
   },
   "outputs": [
    {
     "name": "stdout",
     "output_type": "stream",
     "text": [
      "(20, 100)\n"
     ]
    }
   ],
   "source": [
    "pv_dfs = pv_df[pv_df['Max fq'] >= 0.10]\n",
    "\n",
    "# Filter mutations\n",
    "subset_index = [s for s in pv_dfs.index if s not in ignore_muts]\n",
    "pv_dfs = pv_dfs.loc[subset_index]\n",
    "\n",
    "print(pv_dfs.shape)\n",
    "\n",
    "pv_dfs.to_csv(parent_script.out_dir + f'_above10.csv')"
   ]
  },
  {
   "cell_type": "code",
   "execution_count": 14,
   "metadata": {
    "ExecuteTime": {
     "end_time": "2020-03-24T15:53:49.343353Z",
     "start_time": "2020-03-24T15:53:49.319585Z"
    }
   },
   "outputs": [
    {
     "name": "stdout",
     "output_type": "stream",
     "text": [
      "(27, 100)\n",
      "Index(['109S', '109T', '111R', '119N', '122N', '123H', '126L', '147D', '147S',\n",
      "       '149Y', '154K', '158T', '166I', '167G', '167N', '1I', '23L', '26C',\n",
      "       '26G', '48S', '74L', '77V', '82T', '86R', '87G', '88A', '97A'],\n",
      "      dtype='object', name='Mutation')\n"
     ]
    }
   ],
   "source": [
    "# Note: Threshold of 10% cuts off 166I and 167N, two consensus mutations that the paper describes. \n",
    "# Threshold of 8% is the highest that gets all consensus mutations.\n",
    "\n",
    "pv_dfs = pv_df[pv_df['Max fq'] >= 0.08]\n",
    "\n",
    "# Filter mutations\n",
    "subset_index = [s for s in pv_dfs.index if s not in ignore_muts]\n",
    "pv_dfs = pv_dfs.loc[subset_index]\n",
    "\n",
    "print(pv_dfs.shape)\n",
    "\n",
    "print(pv_dfs.index)\n",
    "\n",
    "pv_dfs.to_csv(parent_script.out_dir + f'_above8.csv')"
   ]
  },
  {
   "cell_type": "markdown",
   "metadata": {},
   "source": [
    "## plot common single mutation trajectories"
   ]
  },
  {
   "cell_type": "code",
   "execution_count": 35,
   "metadata": {
    "ExecuteTime": {
     "end_time": "2020-03-19T22:06:08.919953Z",
     "start_time": "2020-03-19T22:06:08.912569Z"
    }
   },
   "outputs": [],
   "source": [
    "import copy\n",
    "pv_dfs2 = copy.copy(pv_dfs)\n",
    "pv_dfs2['Mutation'] = pv_dfs2.index"
   ]
  },
  {
   "cell_type": "code",
   "execution_count": 36,
   "metadata": {
    "ExecuteTime": {
     "end_time": "2020-03-19T22:06:09.218791Z",
     "start_time": "2020-03-19T22:06:09.195143Z"
    },
    "scrolled": true
   },
   "outputs": [
    {
     "name": "stdout",
     "output_type": "stream",
     "text": [
      "(14, 101)\n"
     ]
    },
    {
     "data": {
      "text/html": [
       "<div>\n",
       "<style scoped>\n",
       "    .dataframe tbody tr th:only-of-type {\n",
       "        vertical-align: middle;\n",
       "    }\n",
       "\n",
       "    .dataframe tbody tr th {\n",
       "        vertical-align: top;\n",
       "    }\n",
       "\n",
       "    .dataframe thead th {\n",
       "        text-align: right;\n",
       "    }\n",
       "</style>\n",
       "<table border=\"1\" class=\"dataframe\">\n",
       "  <thead>\n",
       "    <tr style=\"text-align: right;\">\n",
       "      <th></th>\n",
       "      <th>Mutation</th>\n",
       "      <th>Condition</th>\n",
       "      <th>Frequency</th>\n",
       "    </tr>\n",
       "  </thead>\n",
       "  <tbody>\n",
       "    <tr>\n",
       "      <th>0</th>\n",
       "      <td>106I</td>\n",
       "      <td>1</td>\n",
       "      <td>0.981538</td>\n",
       "    </tr>\n",
       "    <tr>\n",
       "      <th>1</th>\n",
       "      <td>109S</td>\n",
       "      <td>1</td>\n",
       "      <td>0.000766</td>\n",
       "    </tr>\n",
       "    <tr>\n",
       "      <th>2</th>\n",
       "      <td>109T</td>\n",
       "      <td>1</td>\n",
       "      <td>0.001208</td>\n",
       "    </tr>\n",
       "    <tr>\n",
       "      <th>3</th>\n",
       "      <td>111R</td>\n",
       "      <td>1</td>\n",
       "      <td>0.015453</td>\n",
       "    </tr>\n",
       "    <tr>\n",
       "      <th>4</th>\n",
       "      <td>119N</td>\n",
       "      <td>1</td>\n",
       "      <td>0.000245</td>\n",
       "    </tr>\n",
       "  </tbody>\n",
       "</table>\n",
       "</div>"
      ],
      "text/plain": [
       "  Mutation Condition  Frequency\n",
       "0     106I         1   0.981538\n",
       "1     109S         1   0.000766\n",
       "2     109T         1   0.001208\n",
       "3     111R         1   0.015453\n",
       "4     119N         1   0.000245"
      ]
     },
     "execution_count": 36,
     "metadata": {},
     "output_type": "execute_result"
    }
   ],
   "source": [
    "dfs = pv_dfs2[pv_dfs2['Max fq'] > 0.20]\n",
    "print(dfs.shape)\n",
    "\n",
    "dfs = dfs.drop(['Max fq'], axis = 'columns')\n",
    "\n",
    "dfms = dfs.melt(id_vars = 'Mutation', value_name = 'Frequency')\n",
    "dfms.head()"
   ]
  },
  {
   "cell_type": "code",
   "execution_count": 31,
   "metadata": {
    "ExecuteTime": {
     "end_time": "2020-03-19T21:32:30.023209Z",
     "start_time": "2020-03-19T21:32:29.062331Z"
    }
   },
   "outputs": [
    {
     "data": {
      "text/plain": [
       "<matplotlib.legend.Legend at 0x2ba9a939b898>"
      ]
     },
     "execution_count": 31,
     "metadata": {},
     "output_type": "execute_result"
    },
    {
     "data": {
      "image/png": "[encoded data removed]",
      "text/plain": [
       "<Figure size 1152x360 with 1 Axes>"
      ]
     },
     "metadata": {
      "needs_background": "light"
     },
     "output_type": "display_data"
    }
   ],
   "source": [
    "fig, ax = plt.subplots(figsize = (16, 5))\n",
    "\n",
    "sns.lineplot(\n",
    "    x = 'Condition',\n",
    "    y = 'Frequency',\n",
    "    hue = 'Mutation',\n",
    "    data = dfms,\n",
    "    ax = ax,\n",
    ")\n",
    "plt.grid(alpha = 0.2)\n",
    "sns.despine()\n",
    "plt.legend(bbox_to_anchor = (1.05, 1), loc = 'upper left')"
   ]
  },
  {
   "cell_type": "markdown",
   "metadata": {},
   "source": [
    "## write out major muts"
   ]
  },
  {
   "cell_type": "code",
   "execution_count": 7,
   "metadata": {
    "ExecuteTime": {
     "end_time": "2020-03-30T18:13:28.709747Z",
     "start_time": "2020-03-30T18:13:28.589701Z"
    }
   },
   "outputs": [
    {
     "name": "stdout",
     "output_type": "stream",
     "text": [
      "(34, 100)\n",
      "Index(['109S', '109T', '111R', '119N', '122N', '123H', '126L', '146G', '147D',\n",
      "       '147H', '147S', '149Y', '154K', '158T', '166I', '167G', '167N', '1I',\n",
      "       '23L', '26C', '26G', '48S', '55P', '74G', '74L', '74V', '77V', '82T',\n",
      "       '84L', '85Q', '86R', '87G', '88A', '97A'],\n",
      "      dtype='object', name='Mutation')\n"
     ]
    }
   ],
   "source": [
    "pv_df['Max fq'] = pv_df.apply(max, axis = 'columns')\n",
    "ignore_muts = ['106I']\n",
    "pv_dfs = pv_df[pv_df['Max fq'] >= 0.05]\n",
    "\n",
    "# Filter mutations\n",
    "subset_index = [s for s in pv_dfs.index if s not in ignore_muts]\n",
    "pv_dfs = pv_dfs.loc[subset_index]\n",
    "\n",
    "print(pv_dfs.shape)\n",
    "\n",
    "muts = pv_dfs.index\n",
    "print(muts)"
   ]
  },
  {
   "cell_type": "code",
   "execution_count": 8,
   "metadata": {
    "ExecuteTime": {
     "end_time": "2020-03-30T18:14:07.659796Z",
     "start_time": "2020-03-30T18:14:07.626937Z"
    }
   },
   "outputs": [
    {
     "name": "stdout",
     "output_type": "stream",
     "text": [
      "MSEVEFSHEYWMRHALTLAKRARDEREVPVGAVLVLNNRVIGEGWNRAIGLHDPTAHAEIMALRQGGLVMQNYRLIDATLYVTFEPCVMCAGAMIHSRIGRVVFGIRNAKTGAAGSLMDVLHYPGMNHRVEITEGILADECAALLCYFFRMPRQVFNAQKKAQSSTD\n"
     ]
    }
   ],
   "source": [
    "with open(_config.DATA_DIR + f'tada_aa.fa') as f:\n",
    "    ref_aa = f.readlines()[1].strip()\n",
    "    \n",
    "print(ref_aa)"
   ]
  },
  {
   "cell_type": "code",
   "execution_count": 10,
   "metadata": {
    "ExecuteTime": {
     "end_time": "2020-03-30T18:14:43.863392Z",
     "start_time": "2020-03-30T18:14:43.850795Z"
    }
   },
   "outputs": [
    {
     "name": "stdout",
     "output_type": "stream",
     "text": [
      "A109S\n",
      "A109T\n",
      "T111R\n",
      "D119N\n",
      "H122N\n",
      "Y123H\n",
      "M126L\n",
      "C146G\n",
      "Y147D\n",
      "Y147H\n",
      "Y147S\n",
      "F149Y\n",
      "Q154K\n",
      "A158T\n",
      "T166I\n",
      "D167G\n",
      "D167N\n",
      "M1I\n",
      "R23L\n",
      "R26C\n",
      "R26G\n",
      "A48S\n",
      "T55P\n",
      "R74G\n",
      "R74L\n",
      "R74V\n",
      "D77V\n",
      "V82T\n",
      "F84L\n",
      "E85Q\n",
      "P86R\n",
      "C87G\n",
      "V88A\n",
      "S97A\n"
     ]
    }
   ],
   "source": [
    "for mut in muts:\n",
    "    pos = int(mut[:-1])\n",
    "    mut_aa = mut[-1]\n",
    "    \n",
    "    wt_aa = ref_aa[pos - 1]\n",
    "    print(f'{wt_aa}{mut}')"
   ]
  },
  {
   "cell_type": "code",
   "execution_count": null,
   "metadata": {},
   "outputs": [],
   "source": []
  }
 ],
 "metadata": {
  "kernelspec": {
   "display_name": "Python 3",
   "language": "python",
   "name": "python3"
  },
  "language_info": {
   "codemirror_mode": {
    "name": "ipython",
    "version": 3
   },
   "file_extension": ".py",
   "mimetype": "text/x-python",
   "name": "python",
   "nbconvert_exporter": "python",
   "pygments_lexer": "ipython3",
   "version": "3.7.3"
  }
 },
 "nbformat": 4,
 "nbformat_minor": 2
}
