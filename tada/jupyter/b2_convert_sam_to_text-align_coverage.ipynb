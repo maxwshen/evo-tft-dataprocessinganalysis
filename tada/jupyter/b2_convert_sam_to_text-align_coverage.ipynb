{
 "cells": [
  {
   "cell_type": "code",
   "execution_count": 2,
   "metadata": {
    "ExecuteTime": {
     "end_time": "2020-03-18T17:47:25.860832Z",
     "start_time": "2020-03-18T17:47:23.855974Z"
    }
   },
   "outputs": [
    {
     "name": "stdout",
     "output_type": "stream",
     "text": [
      "Using data folder:\n",
      " /ahg/regevdata/projects/CRISPR-libraries/prj2/evolution/abe8e/data/\n"
     ]
    }
   ],
   "source": [
    "import numpy as np, seaborn as sns, matplotlib.pyplot as plt, pandas as pd\n",
    "\n",
    "import sys\n",
    "sys.path.append('/ahg/regevdata/projects/CRISPR-libraries/prj2/evolution/abe8e/src/')\n",
    "import b2_convert_sam_to_text as parent_script\n",
    "import _config\n",
    "\n",
    "design_df = pd.read_csv(_config.DATA_DIR + 'exp_design.csv')"
   ]
  },
  {
   "cell_type": "code",
   "execution_count": 4,
   "metadata": {
    "ExecuteTime": {
     "end_time": "2020-03-18T17:47:33.939116Z",
     "start_time": "2020-03-18T17:47:32.810517Z"
    }
   },
   "outputs": [],
   "source": [
    "ddf = dict()\n",
    "mdf = pd.DataFrame()\n",
    "for nm in design_df['Short name']:\n",
    "    df = pd.read_csv(parent_script.out_dir + f'tada_context/n_{nm}.csv', index_col = 0)\n",
    "    df['Condition'] = nm\n",
    "    ddf[nm] = df\n",
    "    \n",
    "    mdf = mdf.append(df, ignore_index = True)\n",
    "    \n",
    "pv_df = mdf.pivot(index = 'Condition', columns = 'Position (0 based)', values = 'Read count')"
   ]
  },
  {
   "cell_type": "code",
   "execution_count": 7,
   "metadata": {
    "ExecuteTime": {
     "end_time": "2020-03-16T21:31:21.537678Z",
     "start_time": "2020-03-16T21:31:21.516010Z"
    }
   },
   "outputs": [],
   "source": [
    "pv_df = pv_df.fillna(value = 0)"
   ]
  },
  {
   "cell_type": "code",
   "execution_count": 11,
   "metadata": {
    "ExecuteTime": {
     "end_time": "2020-03-18T17:49:42.775536Z",
     "start_time": "2020-03-18T17:49:42.742250Z"
    }
   },
   "outputs": [],
   "source": [
    "median_poswise_rcs = list(pv_df.apply(np.median, axis = 'columns'))\n",
    "\n",
    "with open(parent_script.out_dir + f'tada_context/_median_poswise_rcs.txt', 'w') as f:\n",
    "    f.write('\\n'.join([f'{int(s):,}' for s in median_poswise_rcs]))"
   ]
  },
  {
   "cell_type": "markdown",
   "metadata": {},
   "source": [
    "## s"
   ]
  },
  {
   "cell_type": "code",
   "execution_count": 31,
   "metadata": {
    "ExecuteTime": {
     "end_time": "2020-03-18T17:57:09.604650Z",
     "start_time": "2020-03-18T17:57:08.291625Z"
    }
   },
   "outputs": [],
   "source": [
    "fmdf = pd.DataFrame()\n",
    "for nm in design_df['Short name']:\n",
    "    df = pd.read_csv(parent_script.out_dir + f'tada_context/n_{nm}.csv', index_col = 0)\n",
    "    df['Condition'] = nm\n",
    "    df['Read count'] /= max(df['Read count'])\n",
    "    df = df.fillna(value = 0)\n",
    "    \n",
    "    fmdf = fmdf.append(df, ignore_index = True)\n",
    "    \n",
    "fpv_df = fmdf.pivot(index = 'Condition', columns = 'Position (0 based)', values = 'Read count')"
   ]
  },
  {
   "cell_type": "code",
   "execution_count": 32,
   "metadata": {
    "ExecuteTime": {
     "end_time": "2020-03-18T17:57:09.615099Z",
     "start_time": "2020-03-18T17:57:09.606734Z"
    }
   },
   "outputs": [],
   "source": [
    "# fpv_df['Condition'] = fpv_df.index"
   ]
  },
  {
   "cell_type": "code",
   "execution_count": 33,
   "metadata": {
    "ExecuteTime": {
     "end_time": "2020-03-18T17:57:09.640518Z",
     "start_time": "2020-03-18T17:57:09.617323Z"
    },
    "scrolled": true
   },
   "outputs": [],
   "source": [
    "# dfm = fpv_df.melt(id_vars = ['Condition'])\n",
    "dfm = fpv_df.melt(value_name = 'Normalized read count')"
   ]
  },
  {
   "cell_type": "code",
   "execution_count": 35,
   "metadata": {
    "ExecuteTime": {
     "end_time": "2020-03-18T17:58:02.543613Z",
     "start_time": "2020-03-18T17:57:44.707842Z"
    }
   },
   "outputs": [
    {
     "data": {
      "text/plain": [
       "<matplotlib.axes._subplots.AxesSubplot at 0x2b08c0e1af98>"
      ]
     },
     "execution_count": 35,
     "metadata": {},
     "output_type": "execute_result"
    },
    {
     "data": {
      "image/png": "[encoded data removed]",
      "text/plain": [
       "<Figure size 432x288 with 1 Axes>"
      ]
     },
     "metadata": {
      "needs_background": "light"
     },
     "output_type": "display_data"
    }
   ],
   "source": [
    "sns.lineplot(\n",
    "    x = 'Position (0 based)',\n",
    "    y = 'Normalized read count',\n",
    "    data = dfm,\n",
    ")"
   ]
  },
  {
   "cell_type": "code",
   "execution_count": null,
   "metadata": {},
   "outputs": [],
   "source": []
  }
 ],
 "metadata": {
  "kernelspec": {
   "display_name": "Python 3",
   "language": "python",
   "name": "python3"
  },
  "language_info": {
   "codemirror_mode": {
    "name": "ipython",
    "version": 3
   },
   "file_extension": ".py",
   "mimetype": "text/x-python",
   "name": "python",
   "nbconvert_exporter": "python",
   "pygments_lexer": "ipython3",
   "version": "3.7.3"
  }
 },
 "nbformat": 4,
 "nbformat_minor": 2
}
