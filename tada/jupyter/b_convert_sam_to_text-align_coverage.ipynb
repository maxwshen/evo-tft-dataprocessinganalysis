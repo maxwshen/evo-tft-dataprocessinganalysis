{
 "cells": [
  {
   "cell_type": "code",
   "execution_count": 1,
   "metadata": {
    "ExecuteTime": {
     "end_time": "2020-03-18T18:54:24.454285Z",
     "start_time": "2020-03-18T18:54:22.756395Z"
    }
   },
   "outputs": [
    {
     "name": "stdout",
     "output_type": "stream",
     "text": [
      "Using data folder:\n",
      " /ahg/regevdata/projects/CRISPR-libraries/prj2/evolution/abe8e/data/\n"
     ]
    }
   ],
   "source": [
    "import numpy as np, seaborn as sns, matplotlib.pyplot as plt, pandas as pd\n",
    "\n",
    "import sys\n",
    "sys.path.append('/ahg/regevdata/projects/CRISPR-libraries/prj2/evolution/abe8e/src/')\n",
    "import b_convert_sam_to_text as parent_script\n",
    "import _config\n",
    "\n",
    "design_df = pd.read_csv(_config.DATA_DIR + 'exp_design.csv')"
   ]
  },
  {
   "cell_type": "code",
   "execution_count": 2,
   "metadata": {
    "ExecuteTime": {
     "end_time": "2020-03-18T18:54:28.425759Z",
     "start_time": "2020-03-18T18:54:27.750510Z"
    }
   },
   "outputs": [],
   "source": [
    "ddf = dict()\n",
    "mdf = pd.DataFrame()\n",
    "for nm in design_df['Short name']:\n",
    "    df = pd.read_csv(parent_script.out_dir + f'tada_context/n_{nm}.csv', index_col = 0)\n",
    "    df['Condition'] = nm\n",
    "    ddf[nm] = df\n",
    "    \n",
    "    mdf = mdf.append(df, ignore_index = True)\n",
    "    \n",
    "pv_df = mdf.pivot(index = 'Condition', columns = 'Position (0 based)', values = 'Read count')"
   ]
  },
  {
   "cell_type": "code",
   "execution_count": 3,
   "metadata": {
    "ExecuteTime": {
     "end_time": "2020-03-18T18:54:28.980015Z",
     "start_time": "2020-03-18T18:54:28.973323Z"
    }
   },
   "outputs": [],
   "source": [
    "pv_df = pv_df.fillna(value = 0)"
   ]
  },
  {
   "cell_type": "code",
   "execution_count": 4,
   "metadata": {
    "ExecuteTime": {
     "end_time": "2020-03-18T18:54:31.028862Z",
     "start_time": "2020-03-18T18:54:30.996863Z"
    }
   },
   "outputs": [],
   "source": [
    "median_poswise_rcs = list(pv_df.apply(np.median, axis = 'columns'))\n",
    "\n",
    "with open(parent_script.out_dir + f'tada_context/_median_poswise_rcs.txt', 'w') as f:\n",
    "    f.write('\\n'.join([f'{int(s):,}' for s in median_poswise_rcs]))"
   ]
  },
  {
   "cell_type": "markdown",
   "metadata": {},
   "source": [
    "## s"
   ]
  },
  {
   "cell_type": "code",
   "execution_count": 5,
   "metadata": {
    "ExecuteTime": {
     "end_time": "2020-03-18T18:55:21.425255Z",
     "start_time": "2020-03-18T18:55:20.635656Z"
    }
   },
   "outputs": [],
   "source": [
    "fmdf = pd.DataFrame()\n",
    "for nm in design_df['Short name']:\n",
    "    df = pd.read_csv(parent_script.out_dir + f'tada_context/n_{nm}.csv', index_col = 0)\n",
    "    df['Condition'] = nm\n",
    "    df['Read count'] /= max(df['Read count'])\n",
    "    df = df.fillna(value = 0)\n",
    "    \n",
    "    fmdf = fmdf.append(df, ignore_index = True)\n",
    "    \n",
    "fpv_df = fmdf.pivot(index = 'Condition', columns = 'Position (0 based)', values = 'Read count')"
   ]
  },
  {
   "cell_type": "code",
   "execution_count": 6,
   "metadata": {
    "ExecuteTime": {
     "end_time": "2020-03-18T18:55:21.935622Z",
     "start_time": "2020-03-18T18:55:21.930373Z"
    }
   },
   "outputs": [],
   "source": [
    "# fpv_df['Condition'] = fpv_df.index"
   ]
  },
  {
   "cell_type": "code",
   "execution_count": 7,
   "metadata": {
    "ExecuteTime": {
     "end_time": "2020-03-18T18:55:22.511544Z",
     "start_time": "2020-03-18T18:55:22.492699Z"
    },
    "scrolled": true
   },
   "outputs": [],
   "source": [
    "# dfm = fpv_df.melt(id_vars = ['Condition'])\n",
    "dfm = fpv_df.melt(value_name = 'Normalized read count')"
   ]
  },
  {
   "cell_type": "code",
   "execution_count": 9,
   "metadata": {
    "ExecuteTime": {
     "end_time": "2020-03-18T18:55:57.106459Z",
     "start_time": "2020-03-18T18:55:39.999125Z"
    }
   },
   "outputs": [
    {
     "data": {
      "image/png": "[encoded data removed]",
      "text/plain": [
       "<Figure size 432x288 with 1 Axes>"
      ]
     },
     "metadata": {
      "needs_background": "light"
     },
     "output_type": "display_data"
    }
   ],
   "source": [
    "sns.lineplot(\n",
    "    x = 'Position (0 based)',\n",
    "    y = 'Normalized read count',\n",
    "    data = dfm,\n",
    ")\n",
    "sns.despine()\n",
    "plt.grid(alpha = 0.2)"
   ]
  },
  {
   "cell_type": "code",
   "execution_count": null,
   "metadata": {},
   "outputs": [],
   "source": []
  }
 ],
 "metadata": {
  "kernelspec": {
   "display_name": "Python 3",
   "language": "python",
   "name": "python3"
  },
  "language_info": {
   "codemirror_mode": {
    "name": "ipython",
    "version": 3
   },
   "file_extension": ".py",
   "mimetype": "text/x-python",
   "name": "python",
   "nbconvert_exporter": "python",
   "pygments_lexer": "ipython3",
   "version": "3.7.3"
  }
 },
 "nbformat": 4,
 "nbformat_minor": 2
}
