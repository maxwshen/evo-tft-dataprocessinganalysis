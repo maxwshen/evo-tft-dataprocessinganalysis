{
 "cells": [
  {
   "cell_type": "code",
   "execution_count": 1,
   "metadata": {
    "ExecuteTime": {
     "end_time": "2020-04-15T15:59:29.492872Z",
     "start_time": "2020-04-15T15:59:27.423240Z"
    }
   },
   "outputs": [
    {
     "name": "stdout",
     "output_type": "stream",
     "text": [
      "Using data folder:\n",
      " /ahg/regevdata/projects/CRISPR-libraries/prj2/evolution/abe8e/data/\n"
     ]
    }
   ],
   "source": [
    "import numpy as np, seaborn as sns, matplotlib.pyplot as plt, pandas as pd\n",
    "\n",
    "import sys\n",
    "sys.path.append('/ahg/regevdata/projects/CRISPR-libraries/prj2/evolution/abe8e/src/')\n",
    "import _config"
   ]
  },
  {
   "cell_type": "markdown",
   "metadata": {},
   "source": [
    "## global functions"
   ]
  },
  {
   "cell_type": "code",
   "execution_count": 2,
   "metadata": {
    "ExecuteTime": {
     "end_time": "2020-04-15T15:59:29.506614Z",
     "start_time": "2020-04-15T15:59:29.495004Z"
    },
    "scrolled": true
   },
   "outputs": [],
   "source": [
    "def recursive_generate_option_combos(options, recurse_idx):\n",
    "    curr_opt = list(options.keys())[recurse_idx]\n",
    "    if recurse_idx == 0:\n",
    "        return [[s] for s in options[curr_opt]]\n",
    "    combos = recursive_generate_option_combos(options, recurse_idx - 1)\n",
    "    new_combos = []\n",
    "    for combo in combos:\n",
    "        for item in options[curr_opt]:\n",
    "            new_combo = combo + [item]\n",
    "            new_combos.append(new_combo)\n",
    "    return new_combos\n",
    "\n"
   ]
  },
  {
   "cell_type": "code",
   "execution_count": 3,
   "metadata": {
    "ExecuteTime": {
     "end_time": "2020-04-15T15:59:29.674735Z",
     "start_time": "2020-04-15T15:59:29.520316Z"
    }
   },
   "outputs": [],
   "source": [
    "def get_name(row):\n",
    "    options = list(row.index)\n",
    "    vals = list(row)\n",
    "    nm = '--'.join([f'{opt}-{val}' for opt, val in zip(options, vals)])\n",
    "    return nm\n",
    "\n"
   ]
  },
  {
   "cell_type": "code",
   "execution_count": 4,
   "metadata": {
    "ExecuteTime": {
     "end_time": "2020-04-15T15:59:29.703035Z",
     "start_time": "2020-04-15T15:59:29.676661Z"
    }
   },
   "outputs": [],
   "source": [
    "def create_job_table(options, name):\n",
    "    from collections import defaultdict\n",
    "    dd = defaultdict(list)\n",
    "        \n",
    "    combos = recursive_generate_option_combos(options, len(options) - 1)\n",
    "    df = pd.DataFrame(combos, columns = list(options.keys()))    \n",
    "    \n",
    "    df['dataset'] = f'{name}--' + df.apply(get_name, axis = 'columns')\n",
    "\n",
    "    df.to_csv(_config.DATA_DIR + f'datagroup_{name}.csv')\n",
    "    print(f'Generated {len(df)} dataset jobs')\n",
    "    return df\n",
    "\n"
   ]
  },
  {
   "cell_type": "markdown",
   "metadata": {},
   "source": [
    "## generate full tables (too many to add random seeds to)"
   ]
  },
  {
   "cell_type": "markdown",
   "metadata": {},
   "source": [
    "Usage: Provide datagroup name to data_multi to generate datasets. Do not provide datagroup name to gen_modeling_exp. "
   ]
  },
  {
   "cell_type": "code",
   "execution_count": 48,
   "metadata": {
    "ExecuteTime": {
     "end_time": "2020-03-24T19:23:28.320854Z",
     "start_time": "2020-03-24T19:23:28.290747Z"
    }
   },
   "outputs": [
    {
     "name": "stdout",
     "output_type": "stream",
     "text": [
      "Generated 168 dataset jobs\n"
     ]
    }
   ],
   "source": [
    "'''\n",
    "    Usage: option keys must match param keys in data_multi.py\n",
    "'''\n",
    "\n",
    "options = {\n",
    "    'pace_num': [2, 3],\n",
    "    'threshold': [5, 8, 10],\n",
    "    'read_len': [1, 50, 75, 100, 150, 200, 250],\n",
    "    'min_gt_frequency': [0, 0.0001, 0.001, 0.01],\n",
    "    'proposal_type': ['smart'],\n",
    "}\n",
    "name = 'simple'\n",
    "\n",
    "df = create_job_table(options, name)\n",
    "df.head()"
   ]
  },
  {
   "cell_type": "code",
   "execution_count": 6,
   "metadata": {
    "ExecuteTime": {
     "end_time": "2020-04-08T19:53:12.026668Z",
     "start_time": "2020-04-08T19:53:11.982022Z"
    }
   },
   "outputs": [
    {
     "name": "stdout",
     "output_type": "stream",
     "text": [
      "Generated 84 dataset jobs\n"
     ]
    },
    {
     "data": {
      "text/html": [
       "<div>\n",
       "<style scoped>\n",
       "    .dataframe tbody tr th:only-of-type {\n",
       "        vertical-align: middle;\n",
       "    }\n",
       "\n",
       "    .dataframe tbody tr th {\n",
       "        vertical-align: top;\n",
       "    }\n",
       "\n",
       "    .dataframe thead th {\n",
       "        text-align: right;\n",
       "    }\n",
       "</style>\n",
       "<table border=\"1\" class=\"dataframe\">\n",
       "  <thead>\n",
       "    <tr style=\"text-align: right;\">\n",
       "      <th></th>\n",
       "      <th>pace_num</th>\n",
       "      <th>threshold</th>\n",
       "      <th>read_len</th>\n",
       "      <th>min_gt_frequency</th>\n",
       "      <th>proposal_type</th>\n",
       "      <th>dataset</th>\n",
       "    </tr>\n",
       "  </thead>\n",
       "  <tbody>\n",
       "    <tr>\n",
       "      <th>0</th>\n",
       "      <td>1</td>\n",
       "      <td>5</td>\n",
       "      <td>1</td>\n",
       "      <td>0.0000</td>\n",
       "      <td>smart</td>\n",
       "      <td>simple_p1--pace_num-1--threshold-5--read_len-1...</td>\n",
       "    </tr>\n",
       "    <tr>\n",
       "      <th>1</th>\n",
       "      <td>1</td>\n",
       "      <td>5</td>\n",
       "      <td>1</td>\n",
       "      <td>0.0001</td>\n",
       "      <td>smart</td>\n",
       "      <td>simple_p1--pace_num-1--threshold-5--read_len-1...</td>\n",
       "    </tr>\n",
       "    <tr>\n",
       "      <th>2</th>\n",
       "      <td>1</td>\n",
       "      <td>5</td>\n",
       "      <td>1</td>\n",
       "      <td>0.0010</td>\n",
       "      <td>smart</td>\n",
       "      <td>simple_p1--pace_num-1--threshold-5--read_len-1...</td>\n",
       "    </tr>\n",
       "    <tr>\n",
       "      <th>3</th>\n",
       "      <td>1</td>\n",
       "      <td>5</td>\n",
       "      <td>1</td>\n",
       "      <td>0.0100</td>\n",
       "      <td>smart</td>\n",
       "      <td>simple_p1--pace_num-1--threshold-5--read_len-1...</td>\n",
       "    </tr>\n",
       "    <tr>\n",
       "      <th>4</th>\n",
       "      <td>1</td>\n",
       "      <td>5</td>\n",
       "      <td>50</td>\n",
       "      <td>0.0000</td>\n",
       "      <td>smart</td>\n",
       "      <td>simple_p1--pace_num-1--threshold-5--read_len-5...</td>\n",
       "    </tr>\n",
       "  </tbody>\n",
       "</table>\n",
       "</div>"
      ],
      "text/plain": [
       "   pace_num  threshold  read_len  min_gt_frequency proposal_type  \\\n",
       "0         1          5         1            0.0000         smart   \n",
       "1         1          5         1            0.0001         smart   \n",
       "2         1          5         1            0.0010         smart   \n",
       "3         1          5         1            0.0100         smart   \n",
       "4         1          5        50            0.0000         smart   \n",
       "\n",
       "                                             dataset  \n",
       "0  simple_p1--pace_num-1--threshold-5--read_len-1...  \n",
       "1  simple_p1--pace_num-1--threshold-5--read_len-1...  \n",
       "2  simple_p1--pace_num-1--threshold-5--read_len-1...  \n",
       "3  simple_p1--pace_num-1--threshold-5--read_len-1...  \n",
       "4  simple_p1--pace_num-1--threshold-5--read_len-5...  "
      ]
     },
     "execution_count": 6,
     "metadata": {},
     "output_type": "execute_result"
    }
   ],
   "source": [
    "'''\n",
    "    Usage: option keys must match param keys in data_multi.py\n",
    "'''\n",
    "\n",
    "options = {\n",
    "    'pace_num': [1],\n",
    "    'threshold': [5, 8, 10],\n",
    "    'read_len': [1, 50, 75, 100, 150, 200, 250],\n",
    "    'min_gt_frequency': [0, 0.0001, 0.001, 0.01],\n",
    "    'proposal_type': ['smart'],\n",
    "}\n",
    "name = 'simple_p1'\n",
    "\n",
    "df = create_job_table(options, name)\n",
    "df.head()"
   ]
  },
  {
   "cell_type": "code",
   "execution_count": 5,
   "metadata": {
    "ExecuteTime": {
     "end_time": "2020-04-09T21:21:03.845146Z",
     "start_time": "2020-04-09T21:21:03.764797Z"
    }
   },
   "outputs": [
    {
     "name": "stdout",
     "output_type": "stream",
     "text": [
      "Generated 11 dataset jobs\n"
     ]
    },
    {
     "data": {
      "text/html": [
       "<div>\n",
       "<style scoped>\n",
       "    .dataframe tbody tr th:only-of-type {\n",
       "        vertical-align: middle;\n",
       "    }\n",
       "\n",
       "    .dataframe tbody tr th {\n",
       "        vertical-align: top;\n",
       "    }\n",
       "\n",
       "    .dataframe thead th {\n",
       "        text-align: right;\n",
       "    }\n",
       "</style>\n",
       "<table border=\"1\" class=\"dataframe\">\n",
       "  <thead>\n",
       "    <tr style=\"text-align: right;\">\n",
       "      <th></th>\n",
       "      <th>pace_num</th>\n",
       "      <th>threshold</th>\n",
       "      <th>read_len</th>\n",
       "      <th>min_gt_frequency</th>\n",
       "      <th>proposal_type</th>\n",
       "      <th>dataset</th>\n",
       "    </tr>\n",
       "  </thead>\n",
       "  <tbody>\n",
       "    <tr>\n",
       "      <th>0</th>\n",
       "      <td>2</td>\n",
       "      <td>5</td>\n",
       "      <td>1</td>\n",
       "      <td>0</td>\n",
       "      <td>smart</td>\n",
       "      <td>simple_rl--pace_num-2--threshold-5--read_len-1...</td>\n",
       "    </tr>\n",
       "    <tr>\n",
       "      <th>1</th>\n",
       "      <td>2</td>\n",
       "      <td>5</td>\n",
       "      <td>25</td>\n",
       "      <td>0</td>\n",
       "      <td>smart</td>\n",
       "      <td>simple_rl--pace_num-2--threshold-5--read_len-2...</td>\n",
       "    </tr>\n",
       "    <tr>\n",
       "      <th>2</th>\n",
       "      <td>2</td>\n",
       "      <td>5</td>\n",
       "      <td>50</td>\n",
       "      <td>0</td>\n",
       "      <td>smart</td>\n",
       "      <td>simple_rl--pace_num-2--threshold-5--read_len-5...</td>\n",
       "    </tr>\n",
       "    <tr>\n",
       "      <th>3</th>\n",
       "      <td>2</td>\n",
       "      <td>5</td>\n",
       "      <td>75</td>\n",
       "      <td>0</td>\n",
       "      <td>smart</td>\n",
       "      <td>simple_rl--pace_num-2--threshold-5--read_len-7...</td>\n",
       "    </tr>\n",
       "    <tr>\n",
       "      <th>4</th>\n",
       "      <td>2</td>\n",
       "      <td>5</td>\n",
       "      <td>100</td>\n",
       "      <td>0</td>\n",
       "      <td>smart</td>\n",
       "      <td>simple_rl--pace_num-2--threshold-5--read_len-1...</td>\n",
       "    </tr>\n",
       "  </tbody>\n",
       "</table>\n",
       "</div>"
      ],
      "text/plain": [
       "   pace_num  threshold  read_len  min_gt_frequency proposal_type  \\\n",
       "0         2          5         1                 0         smart   \n",
       "1         2          5        25                 0         smart   \n",
       "2         2          5        50                 0         smart   \n",
       "3         2          5        75                 0         smart   \n",
       "4         2          5       100                 0         smart   \n",
       "\n",
       "                                             dataset  \n",
       "0  simple_rl--pace_num-2--threshold-5--read_len-1...  \n",
       "1  simple_rl--pace_num-2--threshold-5--read_len-2...  \n",
       "2  simple_rl--pace_num-2--threshold-5--read_len-5...  \n",
       "3  simple_rl--pace_num-2--threshold-5--read_len-7...  \n",
       "4  simple_rl--pace_num-2--threshold-5--read_len-1...  "
      ]
     },
     "execution_count": 5,
     "metadata": {},
     "output_type": "execute_result"
    }
   ],
   "source": [
    "'''\n",
    "    Usage: option keys must match param keys in data_multi.py\n",
    "'''\n",
    "\n",
    "options = {\n",
    "    'pace_num': [2],\n",
    "    'threshold': [5],\n",
    "    'read_len': [1, 25, 50, 75, 100, 150, 200, 250, 300, 350, 400],\n",
    "    'min_gt_frequency': [0],\n",
    "    'proposal_type': ['smart'],\n",
    "}\n",
    "name = 'simple_rl'\n",
    "\n",
    "df = create_job_table(options, name)\n",
    "df.head()"
   ]
  },
  {
   "cell_type": "code",
   "execution_count": 52,
   "metadata": {
    "ExecuteTime": {
     "end_time": "2020-03-24T19:31:30.946866Z",
     "start_time": "2020-03-24T19:31:30.877243Z"
    },
    "scrolled": true
   },
   "outputs": [
    {
     "name": "stdout",
     "output_type": "stream",
     "text": [
      "Generated 912 dataset jobs\n"
     ]
    },
    {
     "data": {
      "text/html": [
       "<div>\n",
       "<style scoped>\n",
       "    .dataframe tbody tr th:only-of-type {\n",
       "        vertical-align: middle;\n",
       "    }\n",
       "\n",
       "    .dataframe tbody tr th {\n",
       "        vertical-align: top;\n",
       "    }\n",
       "\n",
       "    .dataframe thead th {\n",
       "        text-align: right;\n",
       "    }\n",
       "</style>\n",
       "<table border=\"1\" class=\"dataframe\">\n",
       "  <thead>\n",
       "    <tr style=\"text-align: right;\">\n",
       "      <th></th>\n",
       "      <th>pace_num</th>\n",
       "      <th>threshold</th>\n",
       "      <th>min_gt_frequency</th>\n",
       "      <th>read_len</th>\n",
       "      <th>noise</th>\n",
       "      <th>proposal_type</th>\n",
       "      <th>dataset</th>\n",
       "    </tr>\n",
       "  </thead>\n",
       "  <tbody>\n",
       "    <tr>\n",
       "      <th>0</th>\n",
       "      <td>2</td>\n",
       "      <td>5</td>\n",
       "      <td>0.0</td>\n",
       "      <td>1</td>\n",
       "      <td>0.01</td>\n",
       "      <td>smart</td>\n",
       "      <td>varynoise--pace_num-2--threshold-5--min_gt_fre...</td>\n",
       "    </tr>\n",
       "    <tr>\n",
       "      <th>1</th>\n",
       "      <td>2</td>\n",
       "      <td>5</td>\n",
       "      <td>0.0</td>\n",
       "      <td>1</td>\n",
       "      <td>0.02</td>\n",
       "      <td>smart</td>\n",
       "      <td>varynoise--pace_num-2--threshold-5--min_gt_fre...</td>\n",
       "    </tr>\n",
       "    <tr>\n",
       "      <th>2</th>\n",
       "      <td>2</td>\n",
       "      <td>5</td>\n",
       "      <td>0.0</td>\n",
       "      <td>1</td>\n",
       "      <td>0.03</td>\n",
       "      <td>smart</td>\n",
       "      <td>varynoise--pace_num-2--threshold-5--min_gt_fre...</td>\n",
       "    </tr>\n",
       "    <tr>\n",
       "      <th>3</th>\n",
       "      <td>2</td>\n",
       "      <td>5</td>\n",
       "      <td>0.0</td>\n",
       "      <td>1</td>\n",
       "      <td>0.04</td>\n",
       "      <td>smart</td>\n",
       "      <td>varynoise--pace_num-2--threshold-5--min_gt_fre...</td>\n",
       "    </tr>\n",
       "    <tr>\n",
       "      <th>4</th>\n",
       "      <td>2</td>\n",
       "      <td>5</td>\n",
       "      <td>0.0</td>\n",
       "      <td>1</td>\n",
       "      <td>0.05</td>\n",
       "      <td>smart</td>\n",
       "      <td>varynoise--pace_num-2--threshold-5--min_gt_fre...</td>\n",
       "    </tr>\n",
       "  </tbody>\n",
       "</table>\n",
       "</div>"
      ],
      "text/plain": [
       "   pace_num  threshold  min_gt_frequency  read_len  noise proposal_type  \\\n",
       "0         2          5               0.0         1   0.01         smart   \n",
       "1         2          5               0.0         1   0.02         smart   \n",
       "2         2          5               0.0         1   0.03         smart   \n",
       "3         2          5               0.0         1   0.04         smart   \n",
       "4         2          5               0.0         1   0.05         smart   \n",
       "\n",
       "                                             dataset  \n",
       "0  varynoise--pace_num-2--threshold-5--min_gt_fre...  \n",
       "1  varynoise--pace_num-2--threshold-5--min_gt_fre...  \n",
       "2  varynoise--pace_num-2--threshold-5--min_gt_fre...  \n",
       "3  varynoise--pace_num-2--threshold-5--min_gt_fre...  \n",
       "4  varynoise--pace_num-2--threshold-5--min_gt_fre...  "
      ]
     },
     "execution_count": 52,
     "metadata": {},
     "output_type": "execute_result"
    }
   ],
   "source": [
    "'''\n",
    "    Usage: option keys must match param keys in data_multi.py\n",
    "'''\n",
    "\n",
    "options = {\n",
    "    'pace_num': [2, 3],\n",
    "    'threshold': [5, 8, 10],\n",
    "    'min_gt_frequency': [0, 0.0001, 0.001, 0.01],\n",
    "    'read_len': [1, 150],\n",
    "    'noise': [0.01, 0.02, 0.03, 0.04, 0.05, 0.06, 0.07, 0.08, 0.09, 0.1, 0.125, 0.15, 0.175, 0.20, 0.225, 0.25, 0.275, 0.3, 0],\n",
    "    'proposal_type': ['smart'],\n",
    "}\n",
    "name = 'varynoise'\n",
    "\n",
    "df = create_job_table(options, name)\n",
    "df.head()"
   ]
  },
  {
   "cell_type": "code",
   "execution_count": 53,
   "metadata": {
    "ExecuteTime": {
     "end_time": "2020-03-24T19:31:34.115032Z",
     "start_time": "2020-03-24T19:31:34.055950Z"
    }
   },
   "outputs": [
    {
     "name": "stdout",
     "output_type": "stream",
     "text": [
      "Generated 720 dataset jobs\n"
     ]
    },
    {
     "data": {
      "text/html": [
       "<div>\n",
       "<style scoped>\n",
       "    .dataframe tbody tr th:only-of-type {\n",
       "        vertical-align: middle;\n",
       "    }\n",
       "\n",
       "    .dataframe tbody tr th {\n",
       "        vertical-align: top;\n",
       "    }\n",
       "\n",
       "    .dataframe thead th {\n",
       "        text-align: right;\n",
       "    }\n",
       "</style>\n",
       "<table border=\"1\" class=\"dataframe\">\n",
       "  <thead>\n",
       "    <tr style=\"text-align: right;\">\n",
       "      <th></th>\n",
       "      <th>pace_num</th>\n",
       "      <th>threshold</th>\n",
       "      <th>min_gt_frequency</th>\n",
       "      <th>read_len</th>\n",
       "      <th>proposal_type</th>\n",
       "      <th>dataset</th>\n",
       "    </tr>\n",
       "  </thead>\n",
       "  <tbody>\n",
       "    <tr>\n",
       "      <th>0</th>\n",
       "      <td>2</td>\n",
       "      <td>5</td>\n",
       "      <td>0.0</td>\n",
       "      <td>1</td>\n",
       "      <td>smart</td>\n",
       "      <td>varyproposals--pace_num-2--threshold-5--min_gt...</td>\n",
       "    </tr>\n",
       "    <tr>\n",
       "      <th>1</th>\n",
       "      <td>2</td>\n",
       "      <td>5</td>\n",
       "      <td>0.0</td>\n",
       "      <td>1</td>\n",
       "      <td>x2</td>\n",
       "      <td>varyproposals--pace_num-2--threshold-5--min_gt...</td>\n",
       "    </tr>\n",
       "    <tr>\n",
       "      <th>2</th>\n",
       "      <td>2</td>\n",
       "      <td>5</td>\n",
       "      <td>0.0</td>\n",
       "      <td>1</td>\n",
       "      <td>x3</td>\n",
       "      <td>varyproposals--pace_num-2--threshold-5--min_gt...</td>\n",
       "    </tr>\n",
       "    <tr>\n",
       "      <th>3</th>\n",
       "      <td>2</td>\n",
       "      <td>5</td>\n",
       "      <td>0.0</td>\n",
       "      <td>1</td>\n",
       "      <td>x4</td>\n",
       "      <td>varyproposals--pace_num-2--threshold-5--min_gt...</td>\n",
       "    </tr>\n",
       "    <tr>\n",
       "      <th>4</th>\n",
       "      <td>2</td>\n",
       "      <td>5</td>\n",
       "      <td>0.0</td>\n",
       "      <td>1</td>\n",
       "      <td>x5</td>\n",
       "      <td>varyproposals--pace_num-2--threshold-5--min_gt...</td>\n",
       "    </tr>\n",
       "  </tbody>\n",
       "</table>\n",
       "</div>"
      ],
      "text/plain": [
       "   pace_num  threshold  min_gt_frequency  read_len proposal_type  \\\n",
       "0         2          5               0.0         1         smart   \n",
       "1         2          5               0.0         1            x2   \n",
       "2         2          5               0.0         1            x3   \n",
       "3         2          5               0.0         1            x4   \n",
       "4         2          5               0.0         1            x5   \n",
       "\n",
       "                                             dataset  \n",
       "0  varyproposals--pace_num-2--threshold-5--min_gt...  \n",
       "1  varyproposals--pace_num-2--threshold-5--min_gt...  \n",
       "2  varyproposals--pace_num-2--threshold-5--min_gt...  \n",
       "3  varyproposals--pace_num-2--threshold-5--min_gt...  \n",
       "4  varyproposals--pace_num-2--threshold-5--min_gt...  "
      ]
     },
     "execution_count": 53,
     "metadata": {},
     "output_type": "execute_result"
    }
   ],
   "source": [
    "'''\n",
    "    Usage: option keys must match param keys in data_multi.py\n",
    "'''\n",
    "\n",
    "options = {\n",
    "    'pace_num': [2, 3],\n",
    "    'threshold': [5, 8, 10],\n",
    "    'min_gt_frequency': [0, 0.0001, 0.001, 0.01],\n",
    "    'read_len': [1, 150],\n",
    "    'proposal_type': ['smart',\n",
    "        'x2',\n",
    "        'x3',\n",
    "        'x4',\n",
    "        'x5',\n",
    "        'x6',\n",
    "        'x7',\n",
    "        'x8',\n",
    "        'x9',\n",
    "        'x10',\n",
    "        'x20',\n",
    "        'x30',\n",
    "        'x40',\n",
    "        'x50',\n",
    "        'x100',\n",
    "    ],\n",
    "}\n",
    "name = 'varyproposals'\n",
    "\n",
    "df = create_job_table(options, name)\n",
    "df.head()"
   ]
  },
  {
   "cell_type": "markdown",
   "metadata": {},
   "source": [
    "## generate subset of tables (small enough to add random seeds)"
   ]
  },
  {
   "cell_type": "markdown",
   "metadata": {},
   "source": [
    "Usage: Specify different datagroup name and a subset of an above datagroup. Provide to gen_modeling_exp.py to augment, then provide output modelexp name to modeling script fitness_from_reads_pt_multi.py."
   ]
  },
  {
   "cell_type": "code",
   "execution_count": 7,
   "metadata": {
    "ExecuteTime": {
     "end_time": "2020-03-25T15:25:49.327712Z",
     "start_time": "2020-03-25T15:25:49.271531Z"
    }
   },
   "outputs": [
    {
     "name": "stdout",
     "output_type": "stream",
     "text": [
      "Generated 114 dataset jobs\n"
     ]
    },
    {
     "data": {
      "text/html": [
       "<div>\n",
       "<style scoped>\n",
       "    .dataframe tbody tr th:only-of-type {\n",
       "        vertical-align: middle;\n",
       "    }\n",
       "\n",
       "    .dataframe tbody tr th {\n",
       "        vertical-align: top;\n",
       "    }\n",
       "\n",
       "    .dataframe thead th {\n",
       "        text-align: right;\n",
       "    }\n",
       "</style>\n",
       "<table border=\"1\" class=\"dataframe\">\n",
       "  <thead>\n",
       "    <tr style=\"text-align: right;\">\n",
       "      <th></th>\n",
       "      <th>pace_num</th>\n",
       "      <th>threshold</th>\n",
       "      <th>min_gt_frequency</th>\n",
       "      <th>read_len</th>\n",
       "      <th>noise</th>\n",
       "      <th>proposal_type</th>\n",
       "      <th>dataset</th>\n",
       "    </tr>\n",
       "  </thead>\n",
       "  <tbody>\n",
       "    <tr>\n",
       "      <th>0</th>\n",
       "      <td>2</td>\n",
       "      <td>5</td>\n",
       "      <td>0</td>\n",
       "      <td>1</td>\n",
       "      <td>0.01</td>\n",
       "      <td>smart</td>\n",
       "      <td>varynoise-mgt0-rl1--pace_num-2--threshold-5--m...</td>\n",
       "    </tr>\n",
       "    <tr>\n",
       "      <th>1</th>\n",
       "      <td>2</td>\n",
       "      <td>5</td>\n",
       "      <td>0</td>\n",
       "      <td>1</td>\n",
       "      <td>0.02</td>\n",
       "      <td>smart</td>\n",
       "      <td>varynoise-mgt0-rl1--pace_num-2--threshold-5--m...</td>\n",
       "    </tr>\n",
       "    <tr>\n",
       "      <th>2</th>\n",
       "      <td>2</td>\n",
       "      <td>5</td>\n",
       "      <td>0</td>\n",
       "      <td>1</td>\n",
       "      <td>0.03</td>\n",
       "      <td>smart</td>\n",
       "      <td>varynoise-mgt0-rl1--pace_num-2--threshold-5--m...</td>\n",
       "    </tr>\n",
       "    <tr>\n",
       "      <th>3</th>\n",
       "      <td>2</td>\n",
       "      <td>5</td>\n",
       "      <td>0</td>\n",
       "      <td>1</td>\n",
       "      <td>0.04</td>\n",
       "      <td>smart</td>\n",
       "      <td>varynoise-mgt0-rl1--pace_num-2--threshold-5--m...</td>\n",
       "    </tr>\n",
       "    <tr>\n",
       "      <th>4</th>\n",
       "      <td>2</td>\n",
       "      <td>5</td>\n",
       "      <td>0</td>\n",
       "      <td>1</td>\n",
       "      <td>0.05</td>\n",
       "      <td>smart</td>\n",
       "      <td>varynoise-mgt0-rl1--pace_num-2--threshold-5--m...</td>\n",
       "    </tr>\n",
       "  </tbody>\n",
       "</table>\n",
       "</div>"
      ],
      "text/plain": [
       "   pace_num  threshold  min_gt_frequency  read_len  noise proposal_type  \\\n",
       "0         2          5                 0         1   0.01         smart   \n",
       "1         2          5                 0         1   0.02         smart   \n",
       "2         2          5                 0         1   0.03         smart   \n",
       "3         2          5                 0         1   0.04         smart   \n",
       "4         2          5                 0         1   0.05         smart   \n",
       "\n",
       "                                             dataset  \n",
       "0  varynoise-mgt0-rl1--pace_num-2--threshold-5--m...  \n",
       "1  varynoise-mgt0-rl1--pace_num-2--threshold-5--m...  \n",
       "2  varynoise-mgt0-rl1--pace_num-2--threshold-5--m...  \n",
       "3  varynoise-mgt0-rl1--pace_num-2--threshold-5--m...  \n",
       "4  varynoise-mgt0-rl1--pace_num-2--threshold-5--m...  "
      ]
     },
     "execution_count": 7,
     "metadata": {},
     "output_type": "execute_result"
    }
   ],
   "source": [
    "'''\n",
    "    Usage: option keys must match param keys in data_multi.py\n",
    "'''\n",
    "\n",
    "options = {\n",
    "    'pace_num': [2, 3],\n",
    "    'threshold': [5, 8, 10],\n",
    "#     'min_gt_frequency': [0, 0.0001, 0.001, 0.01],\n",
    "    'min_gt_frequency': [0],\n",
    "#     'read_len': [1, 150],\n",
    "    'read_len': [1],\n",
    "    'noise': [0.01, 0.02, 0.03, 0.04, 0.05, 0.06, 0.07, 0.08, 0.09, 0.1, 0.125, 0.15, 0.175, 0.20, 0.225, 0.25, 0.275, 0.3, 0],\n",
    "    'proposal_type': ['smart'],\n",
    "}\n",
    "name = 'varynoise-mgt0-rl1'\n",
    "\n",
    "df = create_job_table(options, name)\n",
    "df.head()"
   ]
  },
  {
   "cell_type": "code",
   "execution_count": 11,
   "metadata": {
    "ExecuteTime": {
     "end_time": "2020-04-10T22:34:16.299444Z",
     "start_time": "2020-04-10T22:34:16.205862Z"
    }
   },
   "outputs": [
    {
     "name": "stdout",
     "output_type": "stream",
     "text": [
      "Generated 850 dataset jobs\n"
     ]
    },
    {
     "data": {
      "text/html": [
       "<div>\n",
       "<style scoped>\n",
       "    .dataframe tbody tr th:only-of-type {\n",
       "        vertical-align: middle;\n",
       "    }\n",
       "\n",
       "    .dataframe tbody tr th {\n",
       "        vertical-align: top;\n",
       "    }\n",
       "\n",
       "    .dataframe thead th {\n",
       "        text-align: right;\n",
       "    }\n",
       "</style>\n",
       "<table border=\"1\" class=\"dataframe\">\n",
       "  <thead>\n",
       "    <tr style=\"text-align: right;\">\n",
       "      <th></th>\n",
       "      <th>pace_num</th>\n",
       "      <th>threshold</th>\n",
       "      <th>min_gt_frequency</th>\n",
       "      <th>read_len</th>\n",
       "      <th>noise</th>\n",
       "      <th>proposal_type</th>\n",
       "      <th>noiserep</th>\n",
       "      <th>dataset</th>\n",
       "    </tr>\n",
       "  </thead>\n",
       "  <tbody>\n",
       "    <tr>\n",
       "      <th>0</th>\n",
       "      <td>2</td>\n",
       "      <td>5</td>\n",
       "      <td>0</td>\n",
       "      <td>1</td>\n",
       "      <td>0.0</td>\n",
       "      <td>smart</td>\n",
       "      <td>0</td>\n",
       "      <td>varynoisev2_p2--pace_num-2--threshold-5--min_g...</td>\n",
       "    </tr>\n",
       "    <tr>\n",
       "      <th>1</th>\n",
       "      <td>2</td>\n",
       "      <td>5</td>\n",
       "      <td>0</td>\n",
       "      <td>1</td>\n",
       "      <td>0.0</td>\n",
       "      <td>smart</td>\n",
       "      <td>1</td>\n",
       "      <td>varynoisev2_p2--pace_num-2--threshold-5--min_g...</td>\n",
       "    </tr>\n",
       "    <tr>\n",
       "      <th>2</th>\n",
       "      <td>2</td>\n",
       "      <td>5</td>\n",
       "      <td>0</td>\n",
       "      <td>1</td>\n",
       "      <td>0.0</td>\n",
       "      <td>smart</td>\n",
       "      <td>2</td>\n",
       "      <td>varynoisev2_p2--pace_num-2--threshold-5--min_g...</td>\n",
       "    </tr>\n",
       "    <tr>\n",
       "      <th>3</th>\n",
       "      <td>2</td>\n",
       "      <td>5</td>\n",
       "      <td>0</td>\n",
       "      <td>1</td>\n",
       "      <td>0.0</td>\n",
       "      <td>smart</td>\n",
       "      <td>3</td>\n",
       "      <td>varynoisev2_p2--pace_num-2--threshold-5--min_g...</td>\n",
       "    </tr>\n",
       "    <tr>\n",
       "      <th>4</th>\n",
       "      <td>2</td>\n",
       "      <td>5</td>\n",
       "      <td>0</td>\n",
       "      <td>1</td>\n",
       "      <td>0.0</td>\n",
       "      <td>smart</td>\n",
       "      <td>4</td>\n",
       "      <td>varynoisev2_p2--pace_num-2--threshold-5--min_g...</td>\n",
       "    </tr>\n",
       "  </tbody>\n",
       "</table>\n",
       "</div>"
      ],
      "text/plain": [
       "   pace_num  threshold  min_gt_frequency  read_len  noise proposal_type  \\\n",
       "0         2          5                 0         1    0.0         smart   \n",
       "1         2          5                 0         1    0.0         smart   \n",
       "2         2          5                 0         1    0.0         smart   \n",
       "3         2          5                 0         1    0.0         smart   \n",
       "4         2          5                 0         1    0.0         smart   \n",
       "\n",
       "   noiserep                                            dataset  \n",
       "0         0  varynoisev2_p2--pace_num-2--threshold-5--min_g...  \n",
       "1         1  varynoisev2_p2--pace_num-2--threshold-5--min_g...  \n",
       "2         2  varynoisev2_p2--pace_num-2--threshold-5--min_g...  \n",
       "3         3  varynoisev2_p2--pace_num-2--threshold-5--min_g...  \n",
       "4         4  varynoisev2_p2--pace_num-2--threshold-5--min_g...  "
      ]
     },
     "execution_count": 11,
     "metadata": {},
     "output_type": "execute_result"
    }
   ],
   "source": [
    "'''\n",
    "    Usage: option keys must match param keys in data_multi.py\n",
    "'''\n",
    "\n",
    "options = {\n",
    "    'pace_num': [2],\n",
    "    'threshold': [5],\n",
    "    'min_gt_frequency': [0],\n",
    "    'read_len': [1],\n",
    "    'noise': [0, 0.01, 0.02, 0.03, 0.04, 0.05, 0.06, 0.07, 0.08, 0.09, 0.1, 0.125, 0.15, 0.175, 0.20, 0.225, 0.25],\n",
    "    'proposal_type': ['smart'],\n",
    "    'noiserep': list(range(50)),\n",
    "}\n",
    "name = 'varynoisev2_p2'\n",
    "\n",
    "df = create_job_table(options, name)\n",
    "df.head()"
   ]
  },
  {
   "cell_type": "code",
   "execution_count": 5,
   "metadata": {
    "ExecuteTime": {
     "end_time": "2020-04-13T22:19:31.080205Z",
     "start_time": "2020-04-13T22:19:31.011393Z"
    }
   },
   "outputs": [
    {
     "name": "stdout",
     "output_type": "stream",
     "text": [
      "Generated 15 dataset jobs\n"
     ]
    },
    {
     "data": {
      "text/html": [
       "<div>\n",
       "<style scoped>\n",
       "    .dataframe tbody tr th:only-of-type {\n",
       "        vertical-align: middle;\n",
       "    }\n",
       "\n",
       "    .dataframe tbody tr th {\n",
       "        vertical-align: top;\n",
       "    }\n",
       "\n",
       "    .dataframe thead th {\n",
       "        text-align: right;\n",
       "    }\n",
       "</style>\n",
       "<table border=\"1\" class=\"dataframe\">\n",
       "  <thead>\n",
       "    <tr style=\"text-align: right;\">\n",
       "      <th></th>\n",
       "      <th>pace_num</th>\n",
       "      <th>threshold</th>\n",
       "      <th>min_gt_frequency</th>\n",
       "      <th>read_len</th>\n",
       "      <th>proposal_type</th>\n",
       "      <th>dataset</th>\n",
       "    </tr>\n",
       "  </thead>\n",
       "  <tbody>\n",
       "    <tr>\n",
       "      <th>0</th>\n",
       "      <td>2</td>\n",
       "      <td>5</td>\n",
       "      <td>0</td>\n",
       "      <td>1</td>\n",
       "      <td>smart</td>\n",
       "      <td>varyproposalsv2--pace_num-2--threshold-5--min_...</td>\n",
       "    </tr>\n",
       "    <tr>\n",
       "      <th>1</th>\n",
       "      <td>2</td>\n",
       "      <td>5</td>\n",
       "      <td>0</td>\n",
       "      <td>1</td>\n",
       "      <td>x2</td>\n",
       "      <td>varyproposalsv2--pace_num-2--threshold-5--min_...</td>\n",
       "    </tr>\n",
       "    <tr>\n",
       "      <th>2</th>\n",
       "      <td>2</td>\n",
       "      <td>5</td>\n",
       "      <td>0</td>\n",
       "      <td>1</td>\n",
       "      <td>x3</td>\n",
       "      <td>varyproposalsv2--pace_num-2--threshold-5--min_...</td>\n",
       "    </tr>\n",
       "    <tr>\n",
       "      <th>3</th>\n",
       "      <td>2</td>\n",
       "      <td>5</td>\n",
       "      <td>0</td>\n",
       "      <td>1</td>\n",
       "      <td>x4</td>\n",
       "      <td>varyproposalsv2--pace_num-2--threshold-5--min_...</td>\n",
       "    </tr>\n",
       "    <tr>\n",
       "      <th>4</th>\n",
       "      <td>2</td>\n",
       "      <td>5</td>\n",
       "      <td>0</td>\n",
       "      <td>1</td>\n",
       "      <td>x5</td>\n",
       "      <td>varyproposalsv2--pace_num-2--threshold-5--min_...</td>\n",
       "    </tr>\n",
       "  </tbody>\n",
       "</table>\n",
       "</div>"
      ],
      "text/plain": [
       "   pace_num  threshold  min_gt_frequency  read_len proposal_type  \\\n",
       "0         2          5                 0         1         smart   \n",
       "1         2          5                 0         1            x2   \n",
       "2         2          5                 0         1            x3   \n",
       "3         2          5                 0         1            x4   \n",
       "4         2          5                 0         1            x5   \n",
       "\n",
       "                                             dataset  \n",
       "0  varyproposalsv2--pace_num-2--threshold-5--min_...  \n",
       "1  varyproposalsv2--pace_num-2--threshold-5--min_...  \n",
       "2  varyproposalsv2--pace_num-2--threshold-5--min_...  \n",
       "3  varyproposalsv2--pace_num-2--threshold-5--min_...  \n",
       "4  varyproposalsv2--pace_num-2--threshold-5--min_...  "
      ]
     },
     "execution_count": 5,
     "metadata": {},
     "output_type": "execute_result"
    }
   ],
   "source": [
    "'''\n",
    "    Usage: option keys must match param keys in data_multi.py\n",
    "'''\n",
    "\n",
    "options = {\n",
    "    'pace_num': [2],\n",
    "    'threshold': [5],\n",
    "    'min_gt_frequency': [0],\n",
    "    'read_len': [1],\n",
    "    'proposal_type': ['smart',\n",
    "        'x2',\n",
    "        'x3',\n",
    "        'x4',\n",
    "        'x5',\n",
    "        'x6',\n",
    "        'x7',\n",
    "        'x8',\n",
    "        'x9',\n",
    "        'x10',\n",
    "        'x20',\n",
    "        'x30',\n",
    "        'x40',\n",
    "        'x50',\n",
    "        'x100',\n",
    "    ],\n",
    "}\n",
    "name = 'varyproposalsv2'\n",
    "\n",
    "df = create_job_table(options, name)\n",
    "df.head()"
   ]
  },
  {
   "cell_type": "code",
   "execution_count": 5,
   "metadata": {
    "ExecuteTime": {
     "end_time": "2020-04-15T16:00:02.025174Z",
     "start_time": "2020-04-15T16:00:01.965755Z"
    }
   },
   "outputs": [
    {
     "name": "stdout",
     "output_type": "stream",
     "text": [
      "Generated 1 dataset jobs\n"
     ]
    },
    {
     "data": {
      "text/html": [
       "<div>\n",
       "<style scoped>\n",
       "    .dataframe tbody tr th:only-of-type {\n",
       "        vertical-align: middle;\n",
       "    }\n",
       "\n",
       "    .dataframe tbody tr th {\n",
       "        vertical-align: top;\n",
       "    }\n",
       "\n",
       "    .dataframe thead th {\n",
       "        text-align: right;\n",
       "    }\n",
       "</style>\n",
       "<table border=\"1\" class=\"dataframe\">\n",
       "  <thead>\n",
       "    <tr style=\"text-align: right;\">\n",
       "      <th></th>\n",
       "      <th>pace_num</th>\n",
       "      <th>threshold</th>\n",
       "      <th>read_len</th>\n",
       "      <th>min_gt_frequency</th>\n",
       "      <th>proposal_type</th>\n",
       "      <th>dataset</th>\n",
       "    </tr>\n",
       "  </thead>\n",
       "  <tbody>\n",
       "    <tr>\n",
       "      <th>0</th>\n",
       "      <td>1</td>\n",
       "      <td>5</td>\n",
       "      <td>1</td>\n",
       "      <td>0</td>\n",
       "      <td>smart</td>\n",
       "      <td>simplev2--pace_num-1--threshold-5--read_len-1-...</td>\n",
       "    </tr>\n",
       "  </tbody>\n",
       "</table>\n",
       "</div>"
      ],
      "text/plain": [
       "   pace_num  threshold  read_len  min_gt_frequency proposal_type  \\\n",
       "0         1          5         1                 0         smart   \n",
       "\n",
       "                                             dataset  \n",
       "0  simplev2--pace_num-1--threshold-5--read_len-1-...  "
      ]
     },
     "execution_count": 5,
     "metadata": {},
     "output_type": "execute_result"
    }
   ],
   "source": [
    "'''\n",
    "    Usage: option keys must match param keys in data_multi.py\n",
    "'''\n",
    "\n",
    "options = {\n",
    "    'pace_num': [1],\n",
    "    'threshold': [5],\n",
    "    'read_len': [1],\n",
    "    'min_gt_frequency': [0],\n",
    "    'proposal_type': ['smart'],\n",
    "}\n",
    "name = 'simplev2'\n",
    "\n",
    "df = create_job_table(options, name)\n",
    "df.head()"
   ]
  },
  {
   "cell_type": "code",
   "execution_count": null,
   "metadata": {},
   "outputs": [],
   "source": []
  }
 ],
 "metadata": {
  "kernelspec": {
   "display_name": "Python 3",
   "language": "python",
   "name": "python3"
  },
  "language_info": {
   "codemirror_mode": {
    "name": "ipython",
    "version": 3
   },
   "file_extension": ".py",
   "mimetype": "text/x-python",
   "name": "python",
   "nbconvert_exporter": "python",
   "pygments_lexer": "ipython3",
   "version": "3.7.3"
  }
 },
 "nbformat": 4,
 "nbformat_minor": 2
}
