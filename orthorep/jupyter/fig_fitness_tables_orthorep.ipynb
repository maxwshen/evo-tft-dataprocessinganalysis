{
 "cells": [
  {
   "cell_type": "code",
   "execution_count": 8,
   "metadata": {
    "ExecuteTime": {
     "end_time": "2020-04-02T19:15:57.686468Z",
     "start_time": "2020-04-02T19:15:57.668593Z"
    }
   },
   "outputs": [],
   "source": [
    "import numpy as np, matplotlib.pyplot as plt, pandas as pd, seaborn as sns\n",
    "\n",
    "import sys\n",
    "sys.path.append('/ahg/regevdata/projects/CRISPR-libraries/prj2/evolution/orthorep/src/')\n",
    "import _config\n",
    "\n",
    "sys.path.append('/home/unix/maxwshen/')\n",
    "from mylib import util\n",
    "\n",
    "notebook_nm = 'fig_fitness_tables_orthorep'\n",
    "results_dir = _config.RESULTS_PLACE + f'{notebook_nm}/'\n",
    "util.ensure_dir_exists(results_dir)"
   ]
  },
  {
   "cell_type": "code",
   "execution_count": 9,
   "metadata": {
    "ExecuteTime": {
     "end_time": "2020-04-02T19:15:57.930039Z",
     "start_time": "2020-04-02T19:15:57.922056Z"
    }
   },
   "outputs": [],
   "source": [
    "fig_nm_to_model_and_iter = {\n",
    "    '3c': (7, 1840),\n",
    "    '3d': (8, 870),\n",
    "    's5a': (9, 670),\n",
    "}"
   ]
  },
  {
   "cell_type": "code",
   "execution_count": 10,
   "metadata": {
    "ExecuteTime": {
     "end_time": "2020-04-02T19:15:58.095431Z",
     "start_time": "2020-04-02T19:15:58.083195Z"
    },
    "code_folding": []
   },
   "outputs": [],
   "source": [
    "def load_data(fig_nm):\n",
    "    print(fig_nm)\n",
    "    \n",
    "    model_nm, model_iter = fig_nm_to_model_and_iter[fig_nm]\n",
    "    \n",
    "    model_dir = '/ahg/regevdata/projects/CRISPR-libraries/prj2/evolution/orthorep/out/_fitness_from_reads_pt/'\n",
    "    df = pd.read_csv(f'{model_dir}/model_{model_nm}/fitness_{model_iter}.csv', index_col = 0)\n",
    "    \n",
    "    df = df.sort_values(by = 'Inferred fitness', ascending = False).reset_index(drop = True)\n",
    "    \n",
    "    df.to_csv(results_dir + f'{fig_nm}.csv')\n",
    "    \n",
    "    return df"
   ]
  },
  {
   "cell_type": "markdown",
   "metadata": {},
   "source": [
    "## 3c"
   ]
  },
  {
   "cell_type": "code",
   "execution_count": 11,
   "metadata": {
    "ExecuteTime": {
     "end_time": "2020-04-02T19:15:58.582464Z",
     "start_time": "2020-04-02T19:15:58.546513Z"
    }
   },
   "outputs": [
    {
     "name": "stdout",
     "output_type": "stream",
     "text": [
      "3c\n"
     ]
    },
    {
     "data": {
      "text/html": [
       "<div>\n",
       "<style scoped>\n",
       "    .dataframe tbody tr th:only-of-type {\n",
       "        vertical-align: middle;\n",
       "    }\n",
       "\n",
       "    .dataframe tbody tr th {\n",
       "        vertical-align: top;\n",
       "    }\n",
       "\n",
       "    .dataframe thead th {\n",
       "        text-align: right;\n",
       "    }\n",
       "</style>\n",
       "<table border=\"1\" class=\"dataframe\">\n",
       "  <thead>\n",
       "    <tr style=\"text-align: right;\">\n",
       "      <th></th>\n",
       "      <th>Genotype</th>\n",
       "      <th>Inferred fitness</th>\n",
       "    </tr>\n",
       "  </thead>\n",
       "  <tbody>\n",
       "    <tr>\n",
       "      <th>0</th>\n",
       "      <td>_HRNA</td>\n",
       "      <td>7.600574</td>\n",
       "    </tr>\n",
       "    <tr>\n",
       "      <th>1</th>\n",
       "      <td>_HRN_</td>\n",
       "      <td>6.268377</td>\n",
       "    </tr>\n",
       "    <tr>\n",
       "      <th>2</th>\n",
       "      <td>_H_N_</td>\n",
       "      <td>4.906524</td>\n",
       "    </tr>\n",
       "    <tr>\n",
       "      <th>3</th>\n",
       "      <td>_HR__</td>\n",
       "      <td>3.505545</td>\n",
       "    </tr>\n",
       "    <tr>\n",
       "      <th>4</th>\n",
       "      <td>DH_N_</td>\n",
       "      <td>1.938741</td>\n",
       "    </tr>\n",
       "    <tr>\n",
       "      <th>5</th>\n",
       "      <td>DHRN_</td>\n",
       "      <td>1.857764</td>\n",
       "    </tr>\n",
       "    <tr>\n",
       "      <th>6</th>\n",
       "      <td>__RN_</td>\n",
       "      <td>1.634337</td>\n",
       "    </tr>\n",
       "    <tr>\n",
       "      <th>7</th>\n",
       "      <td>___NA</td>\n",
       "      <td>1.100851</td>\n",
       "    </tr>\n",
       "    <tr>\n",
       "      <th>8</th>\n",
       "      <td>DHRNA</td>\n",
       "      <td>0.137683</td>\n",
       "    </tr>\n",
       "    <tr>\n",
       "      <th>9</th>\n",
       "      <td>___N_</td>\n",
       "      <td>0.134194</td>\n",
       "    </tr>\n",
       "    <tr>\n",
       "      <th>10</th>\n",
       "      <td>_____</td>\n",
       "      <td>0.008531</td>\n",
       "    </tr>\n",
       "  </tbody>\n",
       "</table>\n",
       "</div>"
      ],
      "text/plain": [
       "   Genotype  Inferred fitness\n",
       "0     _HRNA          7.600574\n",
       "1     _HRN_          6.268377\n",
       "2     _H_N_          4.906524\n",
       "3     _HR__          3.505545\n",
       "4     DH_N_          1.938741\n",
       "5     DHRN_          1.857764\n",
       "6     __RN_          1.634337\n",
       "7     ___NA          1.100851\n",
       "8     DHRNA          0.137683\n",
       "9     ___N_          0.134194\n",
       "10    _____          0.008531"
      ]
     },
     "metadata": {},
     "output_type": "display_data"
    }
   ],
   "source": [
    "fig_nm = '3c'\n",
    "\n",
    "dfm = load_data(fig_nm)\n",
    "display(dfm)"
   ]
  },
  {
   "cell_type": "markdown",
   "metadata": {},
   "source": [
    "## 3d"
   ]
  },
  {
   "cell_type": "code",
   "execution_count": 12,
   "metadata": {
    "ExecuteTime": {
     "end_time": "2020-04-02T19:15:59.093146Z",
     "start_time": "2020-04-02T19:15:59.057277Z"
    }
   },
   "outputs": [
    {
     "name": "stdout",
     "output_type": "stream",
     "text": [
      "3d\n"
     ]
    },
    {
     "data": {
      "text/html": [
       "<div>\n",
       "<style scoped>\n",
       "    .dataframe tbody tr th:only-of-type {\n",
       "        vertical-align: middle;\n",
       "    }\n",
       "\n",
       "    .dataframe tbody tr th {\n",
       "        vertical-align: top;\n",
       "    }\n",
       "\n",
       "    .dataframe thead th {\n",
       "        text-align: right;\n",
       "    }\n",
       "</style>\n",
       "<table border=\"1\" class=\"dataframe\">\n",
       "  <thead>\n",
       "    <tr style=\"text-align: right;\">\n",
       "      <th></th>\n",
       "      <th>Genotype</th>\n",
       "      <th>Inferred fitness</th>\n",
       "    </tr>\n",
       "  </thead>\n",
       "  <tbody>\n",
       "    <tr>\n",
       "      <th>0</th>\n",
       "      <td>NHN_</td>\n",
       "      <td>2.954243</td>\n",
       "    </tr>\n",
       "    <tr>\n",
       "      <th>1</th>\n",
       "      <td>NH__</td>\n",
       "      <td>2.878329</td>\n",
       "    </tr>\n",
       "    <tr>\n",
       "      <th>2</th>\n",
       "      <td>NH_K</td>\n",
       "      <td>1.665867</td>\n",
       "    </tr>\n",
       "    <tr>\n",
       "      <th>3</th>\n",
       "      <td>_HNK</td>\n",
       "      <td>1.065815</td>\n",
       "    </tr>\n",
       "    <tr>\n",
       "      <th>4</th>\n",
       "      <td>N___</td>\n",
       "      <td>1.065386</td>\n",
       "    </tr>\n",
       "    <tr>\n",
       "      <th>5</th>\n",
       "      <td>_HN_</td>\n",
       "      <td>0.944663</td>\n",
       "    </tr>\n",
       "    <tr>\n",
       "      <th>6</th>\n",
       "      <td>__N_</td>\n",
       "      <td>0.659522</td>\n",
       "    </tr>\n",
       "    <tr>\n",
       "      <th>7</th>\n",
       "      <td>__NK</td>\n",
       "      <td>0.594927</td>\n",
       "    </tr>\n",
       "    <tr>\n",
       "      <th>8</th>\n",
       "      <td>____</td>\n",
       "      <td>0.000376</td>\n",
       "    </tr>\n",
       "  </tbody>\n",
       "</table>\n",
       "</div>"
      ],
      "text/plain": [
       "  Genotype  Inferred fitness\n",
       "0     NHN_          2.954243\n",
       "1     NH__          2.878329\n",
       "2     NH_K          1.665867\n",
       "3     _HNK          1.065815\n",
       "4     N___          1.065386\n",
       "5     _HN_          0.944663\n",
       "6     __N_          0.659522\n",
       "7     __NK          0.594927\n",
       "8     ____          0.000376"
      ]
     },
     "metadata": {},
     "output_type": "display_data"
    }
   ],
   "source": [
    "fig_nm = '3d'\n",
    "\n",
    "dfm = load_data(fig_nm)\n",
    "display(dfm)"
   ]
  },
  {
   "cell_type": "markdown",
   "metadata": {},
   "source": [
    "## s5a"
   ]
  },
  {
   "cell_type": "code",
   "execution_count": 13,
   "metadata": {
    "ExecuteTime": {
     "end_time": "2020-04-02T19:15:59.672124Z",
     "start_time": "2020-04-02T19:15:59.633379Z"
    }
   },
   "outputs": [
    {
     "name": "stdout",
     "output_type": "stream",
     "text": [
      "s5a\n"
     ]
    },
    {
     "data": {
      "text/html": [
       "<div>\n",
       "<style scoped>\n",
       "    .dataframe tbody tr th:only-of-type {\n",
       "        vertical-align: middle;\n",
       "    }\n",
       "\n",
       "    .dataframe tbody tr th {\n",
       "        vertical-align: top;\n",
       "    }\n",
       "\n",
       "    .dataframe thead th {\n",
       "        text-align: right;\n",
       "    }\n",
       "</style>\n",
       "<table border=\"1\" class=\"dataframe\">\n",
       "  <thead>\n",
       "    <tr style=\"text-align: right;\">\n",
       "      <th></th>\n",
       "      <th>Genotype</th>\n",
       "      <th>Inferred fitness</th>\n",
       "    </tr>\n",
       "  </thead>\n",
       "  <tbody>\n",
       "    <tr>\n",
       "      <th>0</th>\n",
       "      <td>V__N_____A</td>\n",
       "      <td>3.631039</td>\n",
       "    </tr>\n",
       "    <tr>\n",
       "      <th>1</th>\n",
       "      <td>V_VNH____A</td>\n",
       "      <td>3.557317</td>\n",
       "    </tr>\n",
       "    <tr>\n",
       "      <th>2</th>\n",
       "      <td>V__NHY___A</td>\n",
       "      <td>3.471932</td>\n",
       "    </tr>\n",
       "    <tr>\n",
       "      <th>3</th>\n",
       "      <td>VHVNH____A</td>\n",
       "      <td>3.315462</td>\n",
       "    </tr>\n",
       "    <tr>\n",
       "      <th>4</th>\n",
       "      <td>V__NH__N_A</td>\n",
       "      <td>3.216281</td>\n",
       "    </tr>\n",
       "    <tr>\n",
       "      <th>5</th>\n",
       "      <td>V__NH____A</td>\n",
       "      <td>2.689561</td>\n",
       "    </tr>\n",
       "    <tr>\n",
       "      <th>6</th>\n",
       "      <td>V__NH_____</td>\n",
       "      <td>2.209296</td>\n",
       "    </tr>\n",
       "    <tr>\n",
       "      <th>7</th>\n",
       "      <td>VH_NH____A</td>\n",
       "      <td>2.186706</td>\n",
       "    </tr>\n",
       "    <tr>\n",
       "      <th>8</th>\n",
       "      <td>___NH____A</td>\n",
       "      <td>2.046760</td>\n",
       "    </tr>\n",
       "    <tr>\n",
       "      <th>9</th>\n",
       "      <td>V__NH_R_EA</td>\n",
       "      <td>1.092605</td>\n",
       "    </tr>\n",
       "    <tr>\n",
       "      <th>10</th>\n",
       "      <td>_____Y_N_A</td>\n",
       "      <td>0.844236</td>\n",
       "    </tr>\n",
       "    <tr>\n",
       "      <th>11</th>\n",
       "      <td>_____Y_N__</td>\n",
       "      <td>0.767784</td>\n",
       "    </tr>\n",
       "    <tr>\n",
       "      <th>12</th>\n",
       "      <td>_______N_A</td>\n",
       "      <td>0.543264</td>\n",
       "    </tr>\n",
       "    <tr>\n",
       "      <th>13</th>\n",
       "      <td>_H_____N__</td>\n",
       "      <td>0.354585</td>\n",
       "    </tr>\n",
       "    <tr>\n",
       "      <th>14</th>\n",
       "      <td>__V____N__</td>\n",
       "      <td>0.318999</td>\n",
       "    </tr>\n",
       "    <tr>\n",
       "      <th>15</th>\n",
       "      <td>_______N__</td>\n",
       "      <td>0.289535</td>\n",
       "    </tr>\n",
       "    <tr>\n",
       "      <th>16</th>\n",
       "      <td>____H_____</td>\n",
       "      <td>0.277832</td>\n",
       "    </tr>\n",
       "    <tr>\n",
       "      <th>17</th>\n",
       "      <td>_____Y____</td>\n",
       "      <td>0.212957</td>\n",
       "    </tr>\n",
       "    <tr>\n",
       "      <th>18</th>\n",
       "      <td>V____Y_N__</td>\n",
       "      <td>0.194121</td>\n",
       "    </tr>\n",
       "    <tr>\n",
       "      <th>19</th>\n",
       "      <td>___N___N__</td>\n",
       "      <td>0.194006</td>\n",
       "    </tr>\n",
       "    <tr>\n",
       "      <th>20</th>\n",
       "      <td>______RNE_</td>\n",
       "      <td>0.122583</td>\n",
       "    </tr>\n",
       "    <tr>\n",
       "      <th>21</th>\n",
       "      <td>__________</td>\n",
       "      <td>0.000571</td>\n",
       "    </tr>\n",
       "  </tbody>\n",
       "</table>\n",
       "</div>"
      ],
      "text/plain": [
       "      Genotype  Inferred fitness\n",
       "0   V__N_____A          3.631039\n",
       "1   V_VNH____A          3.557317\n",
       "2   V__NHY___A          3.471932\n",
       "3   VHVNH____A          3.315462\n",
       "4   V__NH__N_A          3.216281\n",
       "5   V__NH____A          2.689561\n",
       "6   V__NH_____          2.209296\n",
       "7   VH_NH____A          2.186706\n",
       "8   ___NH____A          2.046760\n",
       "9   V__NH_R_EA          1.092605\n",
       "10  _____Y_N_A          0.844236\n",
       "11  _____Y_N__          0.767784\n",
       "12  _______N_A          0.543264\n",
       "13  _H_____N__          0.354585\n",
       "14  __V____N__          0.318999\n",
       "15  _______N__          0.289535\n",
       "16  ____H_____          0.277832\n",
       "17  _____Y____          0.212957\n",
       "18  V____Y_N__          0.194121\n",
       "19  ___N___N__          0.194006\n",
       "20  ______RNE_          0.122583\n",
       "21  __________          0.000571"
      ]
     },
     "metadata": {},
     "output_type": "display_data"
    }
   ],
   "source": [
    "fig_nm = 's5a'\n",
    "\n",
    "dfm = load_data(fig_nm)\n",
    "display(dfm)"
   ]
  },
  {
   "cell_type": "code",
   "execution_count": null,
   "metadata": {},
   "outputs": [],
   "source": []
  }
 ],
 "metadata": {
  "kernelspec": {
   "display_name": "Python 3",
   "language": "python",
   "name": "python3"
  },
  "language_info": {
   "codemirror_mode": {
    "name": "ipython",
    "version": 3
   },
   "file_extension": ".py",
   "mimetype": "text/x-python",
   "name": "python",
   "nbconvert_exporter": "python",
   "pygments_lexer": "ipython3",
   "version": "3.7.3"
  }
 },
 "nbformat": 4,
 "nbformat_minor": 2
}
